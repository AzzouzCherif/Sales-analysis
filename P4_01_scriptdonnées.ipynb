{
 "cells": [
  {
   "cell_type": "code",
   "execution_count": 1,
   "id": "323fcb69",
   "metadata": {
    "scrolled": true
   },
   "outputs": [],
   "source": [
    "#Import des librairies Python\n",
    "import pandas as pd\n",
    "import numpy as np\n",
    "import matplotlib.pyplot as plt\n",
    "import seaborn as sns\n",
    "import scipy.stats as st\n",
    "import math as mth"
   ]
  },
  {
   "cell_type": "markdown",
   "id": "33bb658b",
   "metadata": {},
   "source": [
    "# Mission1"
   ]
  },
  {
   "cell_type": "code",
   "execution_count": 2,
   "id": "0ae2a90c",
   "metadata": {
    "scrolled": true
   },
   "outputs": [],
   "source": [
    "#Import des fichiers csv extraits directement de la base de données de l’entreprise\n",
    "df_transactions = pd.read_csv('transactions.csv') \n",
    "df_products = pd.read_csv('products.csv') \n",
    "df_customers = pd.read_csv('customers.csv') "
   ]
  },
  {
   "cell_type": "code",
   "execution_count": 3,
   "id": "f022075a",
   "metadata": {
    "scrolled": true
   },
   "outputs": [
    {
     "data": {
      "text/html": [
       "<div>\n",
       "<style scoped>\n",
       "    .dataframe tbody tr th:only-of-type {\n",
       "        vertical-align: middle;\n",
       "    }\n",
       "\n",
       "    .dataframe tbody tr th {\n",
       "        vertical-align: top;\n",
       "    }\n",
       "\n",
       "    .dataframe thead th {\n",
       "        text-align: right;\n",
       "    }\n",
       "</style>\n",
       "<table border=\"1\" class=\"dataframe\">\n",
       "  <thead>\n",
       "    <tr style=\"text-align: right;\">\n",
       "      <th></th>\n",
       "      <th>id_prod</th>\n",
       "      <th>date</th>\n",
       "      <th>session_id</th>\n",
       "      <th>client_id</th>\n",
       "    </tr>\n",
       "  </thead>\n",
       "  <tbody>\n",
       "    <tr>\n",
       "      <th>0</th>\n",
       "      <td>0_1483</td>\n",
       "      <td>2021-04-10 18:37:28.723910</td>\n",
       "      <td>s_18746</td>\n",
       "      <td>c_4450</td>\n",
       "    </tr>\n",
       "    <tr>\n",
       "      <th>1</th>\n",
       "      <td>2_226</td>\n",
       "      <td>2022-02-03 01:55:53.276402</td>\n",
       "      <td>s_159142</td>\n",
       "      <td>c_277</td>\n",
       "    </tr>\n",
       "    <tr>\n",
       "      <th>2</th>\n",
       "      <td>1_374</td>\n",
       "      <td>2021-09-23 15:13:46.938559</td>\n",
       "      <td>s_94290</td>\n",
       "      <td>c_4270</td>\n",
       "    </tr>\n",
       "    <tr>\n",
       "      <th>3</th>\n",
       "      <td>0_2186</td>\n",
       "      <td>2021-10-17 03:27:18.783634</td>\n",
       "      <td>s_105936</td>\n",
       "      <td>c_4597</td>\n",
       "    </tr>\n",
       "    <tr>\n",
       "      <th>4</th>\n",
       "      <td>0_1351</td>\n",
       "      <td>2021-07-17 20:34:25.800563</td>\n",
       "      <td>s_63642</td>\n",
       "      <td>c_1242</td>\n",
       "    </tr>\n",
       "    <tr>\n",
       "      <th>...</th>\n",
       "      <td>...</td>\n",
       "      <td>...</td>\n",
       "      <td>...</td>\n",
       "      <td>...</td>\n",
       "    </tr>\n",
       "    <tr>\n",
       "      <th>337011</th>\n",
       "      <td>1_671</td>\n",
       "      <td>2021-05-28 12:35:46.214839</td>\n",
       "      <td>s_40720</td>\n",
       "      <td>c_3454</td>\n",
       "    </tr>\n",
       "    <tr>\n",
       "      <th>337012</th>\n",
       "      <td>0_759</td>\n",
       "      <td>2021-06-19 00:19:23.917703</td>\n",
       "      <td>s_50568</td>\n",
       "      <td>c_6268</td>\n",
       "    </tr>\n",
       "    <tr>\n",
       "      <th>337013</th>\n",
       "      <td>0_1256</td>\n",
       "      <td>2021-03-16 17:31:59.442007</td>\n",
       "      <td>s_7219</td>\n",
       "      <td>c_4137</td>\n",
       "    </tr>\n",
       "    <tr>\n",
       "      <th>337014</th>\n",
       "      <td>2_227</td>\n",
       "      <td>2021-10-30 16:50:15.997750</td>\n",
       "      <td>s_112349</td>\n",
       "      <td>c_5</td>\n",
       "    </tr>\n",
       "    <tr>\n",
       "      <th>337015</th>\n",
       "      <td>0_1417</td>\n",
       "      <td>2021-06-26 14:38:19.732946</td>\n",
       "      <td>s_54117</td>\n",
       "      <td>c_6714</td>\n",
       "    </tr>\n",
       "  </tbody>\n",
       "</table>\n",
       "<p>337016 rows × 4 columns</p>\n",
       "</div>"
      ],
      "text/plain": [
       "       id_prod                        date session_id client_id\n",
       "0       0_1483  2021-04-10 18:37:28.723910    s_18746    c_4450\n",
       "1        2_226  2022-02-03 01:55:53.276402   s_159142     c_277\n",
       "2        1_374  2021-09-23 15:13:46.938559    s_94290    c_4270\n",
       "3       0_2186  2021-10-17 03:27:18.783634   s_105936    c_4597\n",
       "4       0_1351  2021-07-17 20:34:25.800563    s_63642    c_1242\n",
       "...        ...                         ...        ...       ...\n",
       "337011   1_671  2021-05-28 12:35:46.214839    s_40720    c_3454\n",
       "337012   0_759  2021-06-19 00:19:23.917703    s_50568    c_6268\n",
       "337013  0_1256  2021-03-16 17:31:59.442007     s_7219    c_4137\n",
       "337014   2_227  2021-10-30 16:50:15.997750   s_112349       c_5\n",
       "337015  0_1417  2021-06-26 14:38:19.732946    s_54117    c_6714\n",
       "\n",
       "[337016 rows x 4 columns]"
      ]
     },
     "execution_count": 3,
     "metadata": {},
     "output_type": "execute_result"
    }
   ],
   "source": [
    "df_transactions"
   ]
  },
  {
   "cell_type": "code",
   "execution_count": 4,
   "id": "878e5e64",
   "metadata": {
    "scrolled": true
   },
   "outputs": [
    {
     "data": {
      "text/html": [
       "<div>\n",
       "<style scoped>\n",
       "    .dataframe tbody tr th:only-of-type {\n",
       "        vertical-align: middle;\n",
       "    }\n",
       "\n",
       "    .dataframe tbody tr th {\n",
       "        vertical-align: top;\n",
       "    }\n",
       "\n",
       "    .dataframe thead th {\n",
       "        text-align: right;\n",
       "    }\n",
       "</style>\n",
       "<table border=\"1\" class=\"dataframe\">\n",
       "  <thead>\n",
       "    <tr style=\"text-align: right;\">\n",
       "      <th></th>\n",
       "      <th>id_prod</th>\n",
       "      <th>price</th>\n",
       "      <th>categ</th>\n",
       "    </tr>\n",
       "  </thead>\n",
       "  <tbody>\n",
       "    <tr>\n",
       "      <th>0</th>\n",
       "      <td>0_1421</td>\n",
       "      <td>19.99</td>\n",
       "      <td>0</td>\n",
       "    </tr>\n",
       "    <tr>\n",
       "      <th>1</th>\n",
       "      <td>0_1368</td>\n",
       "      <td>5.13</td>\n",
       "      <td>0</td>\n",
       "    </tr>\n",
       "    <tr>\n",
       "      <th>2</th>\n",
       "      <td>0_731</td>\n",
       "      <td>17.99</td>\n",
       "      <td>0</td>\n",
       "    </tr>\n",
       "    <tr>\n",
       "      <th>3</th>\n",
       "      <td>1_587</td>\n",
       "      <td>4.99</td>\n",
       "      <td>1</td>\n",
       "    </tr>\n",
       "    <tr>\n",
       "      <th>4</th>\n",
       "      <td>0_1507</td>\n",
       "      <td>3.99</td>\n",
       "      <td>0</td>\n",
       "    </tr>\n",
       "    <tr>\n",
       "      <th>...</th>\n",
       "      <td>...</td>\n",
       "      <td>...</td>\n",
       "      <td>...</td>\n",
       "    </tr>\n",
       "    <tr>\n",
       "      <th>3282</th>\n",
       "      <td>2_23</td>\n",
       "      <td>115.99</td>\n",
       "      <td>2</td>\n",
       "    </tr>\n",
       "    <tr>\n",
       "      <th>3283</th>\n",
       "      <td>0_146</td>\n",
       "      <td>17.14</td>\n",
       "      <td>0</td>\n",
       "    </tr>\n",
       "    <tr>\n",
       "      <th>3284</th>\n",
       "      <td>0_802</td>\n",
       "      <td>11.22</td>\n",
       "      <td>0</td>\n",
       "    </tr>\n",
       "    <tr>\n",
       "      <th>3285</th>\n",
       "      <td>1_140</td>\n",
       "      <td>38.56</td>\n",
       "      <td>1</td>\n",
       "    </tr>\n",
       "    <tr>\n",
       "      <th>3286</th>\n",
       "      <td>0_1920</td>\n",
       "      <td>25.16</td>\n",
       "      <td>0</td>\n",
       "    </tr>\n",
       "  </tbody>\n",
       "</table>\n",
       "<p>3287 rows × 3 columns</p>\n",
       "</div>"
      ],
      "text/plain": [
       "     id_prod   price  categ\n",
       "0     0_1421   19.99      0\n",
       "1     0_1368    5.13      0\n",
       "2      0_731   17.99      0\n",
       "3      1_587    4.99      1\n",
       "4     0_1507    3.99      0\n",
       "...      ...     ...    ...\n",
       "3282    2_23  115.99      2\n",
       "3283   0_146   17.14      0\n",
       "3284   0_802   11.22      0\n",
       "3285   1_140   38.56      1\n",
       "3286  0_1920   25.16      0\n",
       "\n",
       "[3287 rows x 3 columns]"
      ]
     },
     "execution_count": 4,
     "metadata": {},
     "output_type": "execute_result"
    }
   ],
   "source": [
    "df_products\n"
   ]
  },
  {
   "cell_type": "code",
   "execution_count": 5,
   "id": "10208cce",
   "metadata": {
    "scrolled": true
   },
   "outputs": [
    {
     "data": {
      "text/html": [
       "<div>\n",
       "<style scoped>\n",
       "    .dataframe tbody tr th:only-of-type {\n",
       "        vertical-align: middle;\n",
       "    }\n",
       "\n",
       "    .dataframe tbody tr th {\n",
       "        vertical-align: top;\n",
       "    }\n",
       "\n",
       "    .dataframe thead th {\n",
       "        text-align: right;\n",
       "    }\n",
       "</style>\n",
       "<table border=\"1\" class=\"dataframe\">\n",
       "  <thead>\n",
       "    <tr style=\"text-align: right;\">\n",
       "      <th></th>\n",
       "      <th>client_id</th>\n",
       "      <th>sex</th>\n",
       "      <th>birth</th>\n",
       "    </tr>\n",
       "  </thead>\n",
       "  <tbody>\n",
       "    <tr>\n",
       "      <th>0</th>\n",
       "      <td>c_4410</td>\n",
       "      <td>f</td>\n",
       "      <td>1967</td>\n",
       "    </tr>\n",
       "    <tr>\n",
       "      <th>1</th>\n",
       "      <td>c_7839</td>\n",
       "      <td>f</td>\n",
       "      <td>1975</td>\n",
       "    </tr>\n",
       "    <tr>\n",
       "      <th>2</th>\n",
       "      <td>c_1699</td>\n",
       "      <td>f</td>\n",
       "      <td>1984</td>\n",
       "    </tr>\n",
       "    <tr>\n",
       "      <th>3</th>\n",
       "      <td>c_5961</td>\n",
       "      <td>f</td>\n",
       "      <td>1962</td>\n",
       "    </tr>\n",
       "    <tr>\n",
       "      <th>4</th>\n",
       "      <td>c_5320</td>\n",
       "      <td>m</td>\n",
       "      <td>1943</td>\n",
       "    </tr>\n",
       "    <tr>\n",
       "      <th>...</th>\n",
       "      <td>...</td>\n",
       "      <td>...</td>\n",
       "      <td>...</td>\n",
       "    </tr>\n",
       "    <tr>\n",
       "      <th>8618</th>\n",
       "      <td>c_7920</td>\n",
       "      <td>m</td>\n",
       "      <td>1956</td>\n",
       "    </tr>\n",
       "    <tr>\n",
       "      <th>8619</th>\n",
       "      <td>c_7403</td>\n",
       "      <td>f</td>\n",
       "      <td>1970</td>\n",
       "    </tr>\n",
       "    <tr>\n",
       "      <th>8620</th>\n",
       "      <td>c_5119</td>\n",
       "      <td>m</td>\n",
       "      <td>1974</td>\n",
       "    </tr>\n",
       "    <tr>\n",
       "      <th>8621</th>\n",
       "      <td>c_5643</td>\n",
       "      <td>f</td>\n",
       "      <td>1968</td>\n",
       "    </tr>\n",
       "    <tr>\n",
       "      <th>8622</th>\n",
       "      <td>c_84</td>\n",
       "      <td>f</td>\n",
       "      <td>1982</td>\n",
       "    </tr>\n",
       "  </tbody>\n",
       "</table>\n",
       "<p>8623 rows × 3 columns</p>\n",
       "</div>"
      ],
      "text/plain": [
       "     client_id sex  birth\n",
       "0       c_4410   f   1967\n",
       "1       c_7839   f   1975\n",
       "2       c_1699   f   1984\n",
       "3       c_5961   f   1962\n",
       "4       c_5320   m   1943\n",
       "...        ...  ..    ...\n",
       "8618    c_7920   m   1956\n",
       "8619    c_7403   f   1970\n",
       "8620    c_5119   m   1974\n",
       "8621    c_5643   f   1968\n",
       "8622      c_84   f   1982\n",
       "\n",
       "[8623 rows x 3 columns]"
      ]
     },
     "execution_count": 5,
     "metadata": {},
     "output_type": "execute_result"
    }
   ],
   "source": [
    "df_customers"
   ]
  },
  {
   "cell_type": "markdown",
   "id": "8e8ff450",
   "metadata": {
    "scrolled": true
   },
   "source": [
    "#Nettoyage de données\n"
   ]
  },
  {
   "cell_type": "code",
   "execution_count": 6,
   "id": "b6f7b041",
   "metadata": {
    "scrolled": true
   },
   "outputs": [
    {
     "data": {
      "text/html": [
       "<div>\n",
       "<style scoped>\n",
       "    .dataframe tbody tr th:only-of-type {\n",
       "        vertical-align: middle;\n",
       "    }\n",
       "\n",
       "    .dataframe tbody tr th {\n",
       "        vertical-align: top;\n",
       "    }\n",
       "\n",
       "    .dataframe thead th {\n",
       "        text-align: right;\n",
       "    }\n",
       "</style>\n",
       "<table border=\"1\" class=\"dataframe\">\n",
       "  <thead>\n",
       "    <tr style=\"text-align: right;\">\n",
       "      <th></th>\n",
       "      <th>id_prod</th>\n",
       "      <th>date</th>\n",
       "      <th>session_id</th>\n",
       "      <th>client_id</th>\n",
       "    </tr>\n",
       "  </thead>\n",
       "  <tbody>\n",
       "    <tr>\n",
       "      <th>0</th>\n",
       "      <td>False</td>\n",
       "      <td>False</td>\n",
       "      <td>False</td>\n",
       "      <td>False</td>\n",
       "    </tr>\n",
       "    <tr>\n",
       "      <th>1</th>\n",
       "      <td>False</td>\n",
       "      <td>False</td>\n",
       "      <td>False</td>\n",
       "      <td>False</td>\n",
       "    </tr>\n",
       "    <tr>\n",
       "      <th>2</th>\n",
       "      <td>False</td>\n",
       "      <td>False</td>\n",
       "      <td>False</td>\n",
       "      <td>False</td>\n",
       "    </tr>\n",
       "    <tr>\n",
       "      <th>3</th>\n",
       "      <td>False</td>\n",
       "      <td>False</td>\n",
       "      <td>False</td>\n",
       "      <td>False</td>\n",
       "    </tr>\n",
       "    <tr>\n",
       "      <th>4</th>\n",
       "      <td>False</td>\n",
       "      <td>False</td>\n",
       "      <td>False</td>\n",
       "      <td>False</td>\n",
       "    </tr>\n",
       "    <tr>\n",
       "      <th>...</th>\n",
       "      <td>...</td>\n",
       "      <td>...</td>\n",
       "      <td>...</td>\n",
       "      <td>...</td>\n",
       "    </tr>\n",
       "    <tr>\n",
       "      <th>337011</th>\n",
       "      <td>False</td>\n",
       "      <td>False</td>\n",
       "      <td>False</td>\n",
       "      <td>False</td>\n",
       "    </tr>\n",
       "    <tr>\n",
       "      <th>337012</th>\n",
       "      <td>False</td>\n",
       "      <td>False</td>\n",
       "      <td>False</td>\n",
       "      <td>False</td>\n",
       "    </tr>\n",
       "    <tr>\n",
       "      <th>337013</th>\n",
       "      <td>False</td>\n",
       "      <td>False</td>\n",
       "      <td>False</td>\n",
       "      <td>False</td>\n",
       "    </tr>\n",
       "    <tr>\n",
       "      <th>337014</th>\n",
       "      <td>False</td>\n",
       "      <td>False</td>\n",
       "      <td>False</td>\n",
       "      <td>False</td>\n",
       "    </tr>\n",
       "    <tr>\n",
       "      <th>337015</th>\n",
       "      <td>False</td>\n",
       "      <td>False</td>\n",
       "      <td>False</td>\n",
       "      <td>False</td>\n",
       "    </tr>\n",
       "  </tbody>\n",
       "</table>\n",
       "<p>337016 rows × 4 columns</p>\n",
       "</div>"
      ],
      "text/plain": [
       "        id_prod   date  session_id  client_id\n",
       "0         False  False       False      False\n",
       "1         False  False       False      False\n",
       "2         False  False       False      False\n",
       "3         False  False       False      False\n",
       "4         False  False       False      False\n",
       "...         ...    ...         ...        ...\n",
       "337011    False  False       False      False\n",
       "337012    False  False       False      False\n",
       "337013    False  False       False      False\n",
       "337014    False  False       False      False\n",
       "337015    False  False       False      False\n",
       "\n",
       "[337016 rows x 4 columns]"
      ]
     },
     "execution_count": 6,
     "metadata": {},
     "output_type": "execute_result"
    }
   ],
   "source": [
    "df_transactions.isnull()\n"
   ]
  },
  {
   "cell_type": "code",
   "execution_count": 7,
   "id": "88bb4699",
   "metadata": {
    "scrolled": true
   },
   "outputs": [
    {
     "data": {
      "text/html": [
       "<div>\n",
       "<style scoped>\n",
       "    .dataframe tbody tr th:only-of-type {\n",
       "        vertical-align: middle;\n",
       "    }\n",
       "\n",
       "    .dataframe tbody tr th {\n",
       "        vertical-align: top;\n",
       "    }\n",
       "\n",
       "    .dataframe thead th {\n",
       "        text-align: right;\n",
       "    }\n",
       "</style>\n",
       "<table border=\"1\" class=\"dataframe\">\n",
       "  <thead>\n",
       "    <tr style=\"text-align: right;\">\n",
       "      <th></th>\n",
       "      <th>id_prod</th>\n",
       "      <th>price</th>\n",
       "      <th>categ</th>\n",
       "    </tr>\n",
       "  </thead>\n",
       "  <tbody>\n",
       "    <tr>\n",
       "      <th>0</th>\n",
       "      <td>False</td>\n",
       "      <td>False</td>\n",
       "      <td>False</td>\n",
       "    </tr>\n",
       "    <tr>\n",
       "      <th>1</th>\n",
       "      <td>False</td>\n",
       "      <td>False</td>\n",
       "      <td>False</td>\n",
       "    </tr>\n",
       "    <tr>\n",
       "      <th>2</th>\n",
       "      <td>False</td>\n",
       "      <td>False</td>\n",
       "      <td>False</td>\n",
       "    </tr>\n",
       "    <tr>\n",
       "      <th>3</th>\n",
       "      <td>False</td>\n",
       "      <td>False</td>\n",
       "      <td>False</td>\n",
       "    </tr>\n",
       "    <tr>\n",
       "      <th>4</th>\n",
       "      <td>False</td>\n",
       "      <td>False</td>\n",
       "      <td>False</td>\n",
       "    </tr>\n",
       "    <tr>\n",
       "      <th>...</th>\n",
       "      <td>...</td>\n",
       "      <td>...</td>\n",
       "      <td>...</td>\n",
       "    </tr>\n",
       "    <tr>\n",
       "      <th>3282</th>\n",
       "      <td>False</td>\n",
       "      <td>False</td>\n",
       "      <td>False</td>\n",
       "    </tr>\n",
       "    <tr>\n",
       "      <th>3283</th>\n",
       "      <td>False</td>\n",
       "      <td>False</td>\n",
       "      <td>False</td>\n",
       "    </tr>\n",
       "    <tr>\n",
       "      <th>3284</th>\n",
       "      <td>False</td>\n",
       "      <td>False</td>\n",
       "      <td>False</td>\n",
       "    </tr>\n",
       "    <tr>\n",
       "      <th>3285</th>\n",
       "      <td>False</td>\n",
       "      <td>False</td>\n",
       "      <td>False</td>\n",
       "    </tr>\n",
       "    <tr>\n",
       "      <th>3286</th>\n",
       "      <td>False</td>\n",
       "      <td>False</td>\n",
       "      <td>False</td>\n",
       "    </tr>\n",
       "  </tbody>\n",
       "</table>\n",
       "<p>3287 rows × 3 columns</p>\n",
       "</div>"
      ],
      "text/plain": [
       "      id_prod  price  categ\n",
       "0       False  False  False\n",
       "1       False  False  False\n",
       "2       False  False  False\n",
       "3       False  False  False\n",
       "4       False  False  False\n",
       "...       ...    ...    ...\n",
       "3282    False  False  False\n",
       "3283    False  False  False\n",
       "3284    False  False  False\n",
       "3285    False  False  False\n",
       "3286    False  False  False\n",
       "\n",
       "[3287 rows x 3 columns]"
      ]
     },
     "execution_count": 7,
     "metadata": {},
     "output_type": "execute_result"
    }
   ],
   "source": [
    "df_products.isnull()\n"
   ]
  },
  {
   "cell_type": "code",
   "execution_count": 8,
   "id": "146b77bd",
   "metadata": {
    "scrolled": true
   },
   "outputs": [
    {
     "data": {
      "text/html": [
       "<div>\n",
       "<style scoped>\n",
       "    .dataframe tbody tr th:only-of-type {\n",
       "        vertical-align: middle;\n",
       "    }\n",
       "\n",
       "    .dataframe tbody tr th {\n",
       "        vertical-align: top;\n",
       "    }\n",
       "\n",
       "    .dataframe thead th {\n",
       "        text-align: right;\n",
       "    }\n",
       "</style>\n",
       "<table border=\"1\" class=\"dataframe\">\n",
       "  <thead>\n",
       "    <tr style=\"text-align: right;\">\n",
       "      <th></th>\n",
       "      <th>client_id</th>\n",
       "      <th>sex</th>\n",
       "      <th>birth</th>\n",
       "    </tr>\n",
       "  </thead>\n",
       "  <tbody>\n",
       "    <tr>\n",
       "      <th>0</th>\n",
       "      <td>False</td>\n",
       "      <td>False</td>\n",
       "      <td>False</td>\n",
       "    </tr>\n",
       "    <tr>\n",
       "      <th>1</th>\n",
       "      <td>False</td>\n",
       "      <td>False</td>\n",
       "      <td>False</td>\n",
       "    </tr>\n",
       "    <tr>\n",
       "      <th>2</th>\n",
       "      <td>False</td>\n",
       "      <td>False</td>\n",
       "      <td>False</td>\n",
       "    </tr>\n",
       "    <tr>\n",
       "      <th>3</th>\n",
       "      <td>False</td>\n",
       "      <td>False</td>\n",
       "      <td>False</td>\n",
       "    </tr>\n",
       "    <tr>\n",
       "      <th>4</th>\n",
       "      <td>False</td>\n",
       "      <td>False</td>\n",
       "      <td>False</td>\n",
       "    </tr>\n",
       "    <tr>\n",
       "      <th>...</th>\n",
       "      <td>...</td>\n",
       "      <td>...</td>\n",
       "      <td>...</td>\n",
       "    </tr>\n",
       "    <tr>\n",
       "      <th>8618</th>\n",
       "      <td>False</td>\n",
       "      <td>False</td>\n",
       "      <td>False</td>\n",
       "    </tr>\n",
       "    <tr>\n",
       "      <th>8619</th>\n",
       "      <td>False</td>\n",
       "      <td>False</td>\n",
       "      <td>False</td>\n",
       "    </tr>\n",
       "    <tr>\n",
       "      <th>8620</th>\n",
       "      <td>False</td>\n",
       "      <td>False</td>\n",
       "      <td>False</td>\n",
       "    </tr>\n",
       "    <tr>\n",
       "      <th>8621</th>\n",
       "      <td>False</td>\n",
       "      <td>False</td>\n",
       "      <td>False</td>\n",
       "    </tr>\n",
       "    <tr>\n",
       "      <th>8622</th>\n",
       "      <td>False</td>\n",
       "      <td>False</td>\n",
       "      <td>False</td>\n",
       "    </tr>\n",
       "  </tbody>\n",
       "</table>\n",
       "<p>8623 rows × 3 columns</p>\n",
       "</div>"
      ],
      "text/plain": [
       "      client_id    sex  birth\n",
       "0         False  False  False\n",
       "1         False  False  False\n",
       "2         False  False  False\n",
       "3         False  False  False\n",
       "4         False  False  False\n",
       "...         ...    ...    ...\n",
       "8618      False  False  False\n",
       "8619      False  False  False\n",
       "8620      False  False  False\n",
       "8621      False  False  False\n",
       "8622      False  False  False\n",
       "\n",
       "[8623 rows x 3 columns]"
      ]
     },
     "execution_count": 8,
     "metadata": {},
     "output_type": "execute_result"
    }
   ],
   "source": [
    "df_customers.isnull()"
   ]
  },
  {
   "cell_type": "code",
   "execution_count": 9,
   "id": "8fdfe7ac",
   "metadata": {
    "scrolled": true
   },
   "outputs": [
    {
     "data": {
      "text/html": [
       "<div>\n",
       "<style scoped>\n",
       "    .dataframe tbody tr th:only-of-type {\n",
       "        vertical-align: middle;\n",
       "    }\n",
       "\n",
       "    .dataframe tbody tr th {\n",
       "        vertical-align: top;\n",
       "    }\n",
       "\n",
       "    .dataframe thead th {\n",
       "        text-align: right;\n",
       "    }\n",
       "</style>\n",
       "<table border=\"1\" class=\"dataframe\">\n",
       "  <thead>\n",
       "    <tr style=\"text-align: right;\">\n",
       "      <th></th>\n",
       "      <th>id_prod</th>\n",
       "      <th>price</th>\n",
       "      <th>categ</th>\n",
       "    </tr>\n",
       "  </thead>\n",
       "  <tbody>\n",
       "    <tr>\n",
       "      <th>731</th>\n",
       "      <td>T_0</td>\n",
       "      <td>-1.00</td>\n",
       "      <td>0</td>\n",
       "    </tr>\n",
       "    <tr>\n",
       "      <th>3188</th>\n",
       "      <td>2_99</td>\n",
       "      <td>84.99</td>\n",
       "      <td>2</td>\n",
       "    </tr>\n",
       "    <tr>\n",
       "      <th>3088</th>\n",
       "      <td>2_98</td>\n",
       "      <td>149.74</td>\n",
       "      <td>2</td>\n",
       "    </tr>\n",
       "    <tr>\n",
       "      <th>2698</th>\n",
       "      <td>2_97</td>\n",
       "      <td>160.99</td>\n",
       "      <td>2</td>\n",
       "    </tr>\n",
       "    <tr>\n",
       "      <th>2576</th>\n",
       "      <td>2_96</td>\n",
       "      <td>47.91</td>\n",
       "      <td>2</td>\n",
       "    </tr>\n",
       "  </tbody>\n",
       "</table>\n",
       "</div>"
      ],
      "text/plain": [
       "     id_prod   price  categ\n",
       "731      T_0   -1.00      0\n",
       "3188    2_99   84.99      2\n",
       "3088    2_98  149.74      2\n",
       "2698    2_97  160.99      2\n",
       "2576    2_96   47.91      2"
      ]
     },
     "execution_count": 9,
     "metadata": {},
     "output_type": "execute_result"
    }
   ],
   "source": [
    "#Traitement des valeurs aberrantes \n",
    "#Tri rapide sur les 5 premières lignes du dataframe df_product (méthode .sort_values())\n",
    "df_products.sort_values('id_prod', ascending = False).head()"
   ]
  },
  {
   "cell_type": "code",
   "execution_count": 10,
   "id": "146d29b1",
   "metadata": {
    "scrolled": true
   },
   "outputs": [
    {
     "data": {
      "text/html": [
       "<div>\n",
       "<style scoped>\n",
       "    .dataframe tbody tr th:only-of-type {\n",
       "        vertical-align: middle;\n",
       "    }\n",
       "\n",
       "    .dataframe tbody tr th {\n",
       "        vertical-align: top;\n",
       "    }\n",
       "\n",
       "    .dataframe thead th {\n",
       "        text-align: right;\n",
       "    }\n",
       "</style>\n",
       "<table border=\"1\" class=\"dataframe\">\n",
       "  <thead>\n",
       "    <tr style=\"text-align: right;\">\n",
       "      <th></th>\n",
       "      <th>id_prod</th>\n",
       "      <th>price</th>\n",
       "      <th>categ</th>\n",
       "    </tr>\n",
       "  </thead>\n",
       "  <tbody>\n",
       "    <tr>\n",
       "      <th>922</th>\n",
       "      <td>0_1000</td>\n",
       "      <td>6.84</td>\n",
       "      <td>0</td>\n",
       "    </tr>\n",
       "    <tr>\n",
       "      <th>663</th>\n",
       "      <td>0_100</td>\n",
       "      <td>20.60</td>\n",
       "      <td>0</td>\n",
       "    </tr>\n",
       "    <tr>\n",
       "      <th>2691</th>\n",
       "      <td>0_10</td>\n",
       "      <td>17.95</td>\n",
       "      <td>0</td>\n",
       "    </tr>\n",
       "    <tr>\n",
       "      <th>803</th>\n",
       "      <td>0_1</td>\n",
       "      <td>10.99</td>\n",
       "      <td>0</td>\n",
       "    </tr>\n",
       "    <tr>\n",
       "      <th>1001</th>\n",
       "      <td>0_0</td>\n",
       "      <td>3.75</td>\n",
       "      <td>0</td>\n",
       "    </tr>\n",
       "  </tbody>\n",
       "</table>\n",
       "</div>"
      ],
      "text/plain": [
       "     id_prod  price  categ\n",
       "922   0_1000   6.84      0\n",
       "663    0_100  20.60      0\n",
       "2691    0_10  17.95      0\n",
       "803      0_1  10.99      0\n",
       "1001     0_0   3.75      0"
      ]
     },
     "execution_count": 10,
     "metadata": {},
     "output_type": "execute_result"
    }
   ],
   "source": [
    "#Tri rapide sur les 5 premières lignes du dataframe df_product (méthode .sort_values())\n",
    "df_products.sort_values('id_prod', ascending = False).tail()"
   ]
  },
  {
   "cell_type": "code",
   "execution_count": 11,
   "id": "ec8da433",
   "metadata": {
    "scrolled": true
   },
   "outputs": [],
   "source": [
    "#Suppression de la ligne index 731, la valeur n'a aucune signification logique\n",
    "df_products = df_products[df_products.id_prod != 'T_0']"
   ]
  },
  {
   "cell_type": "code",
   "execution_count": 12,
   "id": "4e462729",
   "metadata": {
    "scrolled": true
   },
   "outputs": [
    {
     "data": {
      "text/html": [
       "<div>\n",
       "<style scoped>\n",
       "    .dataframe tbody tr th:only-of-type {\n",
       "        vertical-align: middle;\n",
       "    }\n",
       "\n",
       "    .dataframe tbody tr th {\n",
       "        vertical-align: top;\n",
       "    }\n",
       "\n",
       "    .dataframe thead th {\n",
       "        text-align: right;\n",
       "    }\n",
       "</style>\n",
       "<table border=\"1\" class=\"dataframe\">\n",
       "  <thead>\n",
       "    <tr style=\"text-align: right;\">\n",
       "      <th></th>\n",
       "      <th>client_id</th>\n",
       "      <th>sex</th>\n",
       "      <th>birth</th>\n",
       "    </tr>\n",
       "  </thead>\n",
       "  <tbody>\n",
       "    <tr>\n",
       "      <th>8494</th>\n",
       "      <td>ct_1</td>\n",
       "      <td>m</td>\n",
       "      <td>2001</td>\n",
       "    </tr>\n",
       "    <tr>\n",
       "      <th>2735</th>\n",
       "      <td>ct_0</td>\n",
       "      <td>f</td>\n",
       "      <td>2001</td>\n",
       "    </tr>\n",
       "    <tr>\n",
       "      <th>7358</th>\n",
       "      <td>c_999</td>\n",
       "      <td>m</td>\n",
       "      <td>1964</td>\n",
       "    </tr>\n",
       "    <tr>\n",
       "      <th>2145</th>\n",
       "      <td>c_998</td>\n",
       "      <td>m</td>\n",
       "      <td>2001</td>\n",
       "    </tr>\n",
       "    <tr>\n",
       "      <th>94</th>\n",
       "      <td>c_997</td>\n",
       "      <td>f</td>\n",
       "      <td>1994</td>\n",
       "    </tr>\n",
       "  </tbody>\n",
       "</table>\n",
       "</div>"
      ],
      "text/plain": [
       "     client_id sex  birth\n",
       "8494      ct_1   m   2001\n",
       "2735      ct_0   f   2001\n",
       "7358     c_999   m   1964\n",
       "2145     c_998   m   2001\n",
       "94       c_997   f   1994"
      ]
     },
     "execution_count": 12,
     "metadata": {},
     "output_type": "execute_result"
    }
   ],
   "source": [
    "df_customers.sort_values('client_id',ascending=False).head()"
   ]
  },
  {
   "cell_type": "code",
   "execution_count": 13,
   "id": "ef6109ca",
   "metadata": {
    "scrolled": true
   },
   "outputs": [
    {
     "data": {
      "text/html": [
       "<div>\n",
       "<style scoped>\n",
       "    .dataframe tbody tr th:only-of-type {\n",
       "        vertical-align: middle;\n",
       "    }\n",
       "\n",
       "    .dataframe tbody tr th {\n",
       "        vertical-align: top;\n",
       "    }\n",
       "\n",
       "    .dataframe thead th {\n",
       "        text-align: right;\n",
       "    }\n",
       "</style>\n",
       "<table border=\"1\" class=\"dataframe\">\n",
       "  <thead>\n",
       "    <tr style=\"text-align: right;\">\n",
       "      <th></th>\n",
       "      <th>client_id</th>\n",
       "      <th>sex</th>\n",
       "      <th>birth</th>\n",
       "    </tr>\n",
       "  </thead>\n",
       "  <tbody>\n",
       "    <tr>\n",
       "      <th>3426</th>\n",
       "      <td>c_1001</td>\n",
       "      <td>m</td>\n",
       "      <td>1982</td>\n",
       "    </tr>\n",
       "    <tr>\n",
       "      <th>8472</th>\n",
       "      <td>c_1000</td>\n",
       "      <td>f</td>\n",
       "      <td>1966</td>\n",
       "    </tr>\n",
       "    <tr>\n",
       "      <th>2137</th>\n",
       "      <td>c_100</td>\n",
       "      <td>m</td>\n",
       "      <td>1992</td>\n",
       "    </tr>\n",
       "    <tr>\n",
       "      <th>6894</th>\n",
       "      <td>c_10</td>\n",
       "      <td>m</td>\n",
       "      <td>1956</td>\n",
       "    </tr>\n",
       "    <tr>\n",
       "      <th>4299</th>\n",
       "      <td>c_1</td>\n",
       "      <td>m</td>\n",
       "      <td>1955</td>\n",
       "    </tr>\n",
       "  </tbody>\n",
       "</table>\n",
       "</div>"
      ],
      "text/plain": [
       "     client_id sex  birth\n",
       "3426    c_1001   m   1982\n",
       "8472    c_1000   f   1966\n",
       "2137     c_100   m   1992\n",
       "6894      c_10   m   1956\n",
       "4299       c_1   m   1955"
      ]
     },
     "execution_count": 13,
     "metadata": {},
     "output_type": "execute_result"
    }
   ],
   "source": [
    "df_customers.sort_values('client_id',ascending=False).tail()"
   ]
  },
  {
   "cell_type": "code",
   "execution_count": 14,
   "id": "648b4970",
   "metadata": {},
   "outputs": [
    {
     "name": "stdout",
     "output_type": "stream",
     "text": [
      "     client_id sex  birth\n",
      "2735      ct_0   f   2001\n",
      "     client_id sex  birth\n",
      "8494      ct_1   m   2001\n"
     ]
    }
   ],
   "source": [
    "ct_0 = df_customers.loc[df_customers['client_id'] == 'ct_0']\n",
    "ct_1 = df_customers.loc[df_customers['client_id'] == 'ct_1']\n",
    "print(ct_0)\n",
    "print(ct_1)"
   ]
  },
  {
   "cell_type": "code",
   "execution_count": 15,
   "id": "81196ed8",
   "metadata": {},
   "outputs": [
    {
     "data": {
      "text/html": [
       "<div>\n",
       "<style scoped>\n",
       "    .dataframe tbody tr th:only-of-type {\n",
       "        vertical-align: middle;\n",
       "    }\n",
       "\n",
       "    .dataframe tbody tr th {\n",
       "        vertical-align: top;\n",
       "    }\n",
       "\n",
       "    .dataframe thead th {\n",
       "        text-align: right;\n",
       "    }\n",
       "</style>\n",
       "<table border=\"1\" class=\"dataframe\">\n",
       "  <thead>\n",
       "    <tr style=\"text-align: right;\">\n",
       "      <th></th>\n",
       "      <th>client_id</th>\n",
       "      <th>sex</th>\n",
       "      <th>birth</th>\n",
       "    </tr>\n",
       "  </thead>\n",
       "  <tbody>\n",
       "    <tr>\n",
       "      <th>4299</th>\n",
       "      <td>c_1</td>\n",
       "      <td>m</td>\n",
       "      <td>1955</td>\n",
       "    </tr>\n",
       "    <tr>\n",
       "      <th>6894</th>\n",
       "      <td>c_10</td>\n",
       "      <td>m</td>\n",
       "      <td>1956</td>\n",
       "    </tr>\n",
       "    <tr>\n",
       "      <th>2137</th>\n",
       "      <td>c_100</td>\n",
       "      <td>m</td>\n",
       "      <td>1992</td>\n",
       "    </tr>\n",
       "    <tr>\n",
       "      <th>8472</th>\n",
       "      <td>c_1000</td>\n",
       "      <td>f</td>\n",
       "      <td>1966</td>\n",
       "    </tr>\n",
       "    <tr>\n",
       "      <th>3426</th>\n",
       "      <td>c_1001</td>\n",
       "      <td>m</td>\n",
       "      <td>1982</td>\n",
       "    </tr>\n",
       "    <tr>\n",
       "      <th>...</th>\n",
       "      <td>...</td>\n",
       "      <td>...</td>\n",
       "      <td>...</td>\n",
       "    </tr>\n",
       "    <tr>\n",
       "      <th>7004</th>\n",
       "      <td>c_995</td>\n",
       "      <td>m</td>\n",
       "      <td>1955</td>\n",
       "    </tr>\n",
       "    <tr>\n",
       "      <th>2788</th>\n",
       "      <td>c_996</td>\n",
       "      <td>f</td>\n",
       "      <td>1970</td>\n",
       "    </tr>\n",
       "    <tr>\n",
       "      <th>94</th>\n",
       "      <td>c_997</td>\n",
       "      <td>f</td>\n",
       "      <td>1994</td>\n",
       "    </tr>\n",
       "    <tr>\n",
       "      <th>2145</th>\n",
       "      <td>c_998</td>\n",
       "      <td>m</td>\n",
       "      <td>2001</td>\n",
       "    </tr>\n",
       "    <tr>\n",
       "      <th>7358</th>\n",
       "      <td>c_999</td>\n",
       "      <td>m</td>\n",
       "      <td>1964</td>\n",
       "    </tr>\n",
       "  </tbody>\n",
       "</table>\n",
       "<p>8621 rows × 3 columns</p>\n",
       "</div>"
      ],
      "text/plain": [
       "     client_id sex  birth\n",
       "4299       c_1   m   1955\n",
       "6894      c_10   m   1956\n",
       "2137     c_100   m   1992\n",
       "8472    c_1000   f   1966\n",
       "3426    c_1001   m   1982\n",
       "...        ...  ..    ...\n",
       "7004     c_995   m   1955\n",
       "2788     c_996   f   1970\n",
       "94       c_997   f   1994\n",
       "2145     c_998   m   2001\n",
       "7358     c_999   m   1964\n",
       "\n",
       "[8621 rows x 3 columns]"
      ]
     },
     "execution_count": 15,
     "metadata": {},
     "output_type": "execute_result"
    }
   ],
   "source": [
    "#On supprime ces deux valeurs en utilisant la méthode .drop().\n",
    "df_customers.drop([2735, 8494], 0, inplace=True)\n",
    "df_customers.sort_values('client_id')"
   ]
  },
  {
   "cell_type": "code",
   "execution_count": 16,
   "id": "7ce81d35",
   "metadata": {
    "scrolled": true
   },
   "outputs": [
    {
     "data": {
      "text/html": [
       "<div>\n",
       "<style scoped>\n",
       "    .dataframe tbody tr th:only-of-type {\n",
       "        vertical-align: middle;\n",
       "    }\n",
       "\n",
       "    .dataframe tbody tr th {\n",
       "        vertical-align: top;\n",
       "    }\n",
       "\n",
       "    .dataframe thead th {\n",
       "        text-align: right;\n",
       "    }\n",
       "</style>\n",
       "<table border=\"1\" class=\"dataframe\">\n",
       "  <thead>\n",
       "    <tr style=\"text-align: right;\">\n",
       "      <th></th>\n",
       "      <th>id_prod</th>\n",
       "      <th>date</th>\n",
       "      <th>session_id</th>\n",
       "      <th>client_id</th>\n",
       "    </tr>\n",
       "  </thead>\n",
       "  <tbody>\n",
       "    <tr>\n",
       "      <th>298399</th>\n",
       "      <td>T_0</td>\n",
       "      <td>test_2021-03-01 02:30:02.237423</td>\n",
       "      <td>s_0</td>\n",
       "      <td>ct_1</td>\n",
       "    </tr>\n",
       "    <tr>\n",
       "      <th>57261</th>\n",
       "      <td>T_0</td>\n",
       "      <td>test_2021-03-01 02:30:02.237439</td>\n",
       "      <td>s_0</td>\n",
       "      <td>ct_1</td>\n",
       "    </tr>\n",
       "    <tr>\n",
       "      <th>77758</th>\n",
       "      <td>T_0</td>\n",
       "      <td>test_2021-03-01 02:30:02.237429</td>\n",
       "      <td>s_0</td>\n",
       "      <td>ct_1</td>\n",
       "    </tr>\n",
       "    <tr>\n",
       "      <th>2895</th>\n",
       "      <td>T_0</td>\n",
       "      <td>test_2021-03-01 02:30:02.237414</td>\n",
       "      <td>s_0</td>\n",
       "      <td>ct_1</td>\n",
       "    </tr>\n",
       "    <tr>\n",
       "      <th>250656</th>\n",
       "      <td>T_0</td>\n",
       "      <td>test_2021-03-01 02:30:02.237431</td>\n",
       "      <td>s_0</td>\n",
       "      <td>ct_1</td>\n",
       "    </tr>\n",
       "  </tbody>\n",
       "</table>\n",
       "</div>"
      ],
      "text/plain": [
       "       id_prod                             date session_id client_id\n",
       "298399     T_0  test_2021-03-01 02:30:02.237423        s_0      ct_1\n",
       "57261      T_0  test_2021-03-01 02:30:02.237439        s_0      ct_1\n",
       "77758      T_0  test_2021-03-01 02:30:02.237429        s_0      ct_1\n",
       "2895       T_0  test_2021-03-01 02:30:02.237414        s_0      ct_1\n",
       "250656     T_0  test_2021-03-01 02:30:02.237431        s_0      ct_1"
      ]
     },
     "execution_count": 16,
     "metadata": {},
     "output_type": "execute_result"
    }
   ],
   "source": [
    "df_transactions.sort_values('client_id',ascending=False).head()"
   ]
  },
  {
   "cell_type": "code",
   "execution_count": 17,
   "id": "58eb71a0",
   "metadata": {
    "scrolled": true
   },
   "outputs": [
    {
     "data": {
      "text/html": [
       "<div>\n",
       "<style scoped>\n",
       "    .dataframe tbody tr th:only-of-type {\n",
       "        vertical-align: middle;\n",
       "    }\n",
       "\n",
       "    .dataframe tbody tr th {\n",
       "        vertical-align: top;\n",
       "    }\n",
       "\n",
       "    .dataframe thead th {\n",
       "        text-align: right;\n",
       "    }\n",
       "</style>\n",
       "<table border=\"1\" class=\"dataframe\">\n",
       "  <thead>\n",
       "    <tr style=\"text-align: right;\">\n",
       "      <th></th>\n",
       "      <th>id_prod</th>\n",
       "      <th>date</th>\n",
       "      <th>session_id</th>\n",
       "      <th>client_id</th>\n",
       "    </tr>\n",
       "  </thead>\n",
       "  <tbody>\n",
       "    <tr>\n",
       "      <th>83342</th>\n",
       "      <td>0_1429</td>\n",
       "      <td>2021-10-15 11:28:24.523566</td>\n",
       "      <td>s_105105</td>\n",
       "      <td>c_1</td>\n",
       "    </tr>\n",
       "    <tr>\n",
       "      <th>321196</th>\n",
       "      <td>0_1547</td>\n",
       "      <td>2021-09-08 08:27:49.586711</td>\n",
       "      <td>s_86739</td>\n",
       "      <td>c_1</td>\n",
       "    </tr>\n",
       "    <tr>\n",
       "      <th>298829</th>\n",
       "      <td>0_1090</td>\n",
       "      <td>2021-12-19 02:44:12.827475</td>\n",
       "      <td>s_136532</td>\n",
       "      <td>c_1</td>\n",
       "    </tr>\n",
       "    <tr>\n",
       "      <th>28406</th>\n",
       "      <td>1_713</td>\n",
       "      <td>2021-11-15 20:40:00.586010</td>\n",
       "      <td>s_120172</td>\n",
       "      <td>c_1</td>\n",
       "    </tr>\n",
       "    <tr>\n",
       "      <th>126857</th>\n",
       "      <td>0_1571</td>\n",
       "      <td>2022-02-01 01:47:04.355850</td>\n",
       "      <td>s_158128</td>\n",
       "      <td>c_1</td>\n",
       "    </tr>\n",
       "  </tbody>\n",
       "</table>\n",
       "</div>"
      ],
      "text/plain": [
       "       id_prod                        date session_id client_id\n",
       "83342   0_1429  2021-10-15 11:28:24.523566   s_105105       c_1\n",
       "321196  0_1547  2021-09-08 08:27:49.586711    s_86739       c_1\n",
       "298829  0_1090  2021-12-19 02:44:12.827475   s_136532       c_1\n",
       "28406    1_713  2021-11-15 20:40:00.586010   s_120172       c_1\n",
       "126857  0_1571  2022-02-01 01:47:04.355850   s_158128       c_1"
      ]
     },
     "execution_count": 17,
     "metadata": {},
     "output_type": "execute_result"
    }
   ],
   "source": [
    "df_transactions.sort_values('client_id',ascending=False).tail()"
   ]
  },
  {
   "cell_type": "code",
   "execution_count": 18,
   "id": "84cf38f5",
   "metadata": {
    "scrolled": true
   },
   "outputs": [],
   "source": [
    "#Suppression des valeurs test\n",
    "df_transactions = df_transactions[df_transactions.id_prod != 'T_0']"
   ]
  },
  {
   "cell_type": "code",
   "execution_count": 19,
   "id": "2d9811ef",
   "metadata": {
    "scrolled": true
   },
   "outputs": [
    {
     "data": {
      "text/plain": [
       "id_prod       object\n",
       "date          object\n",
       "session_id    object\n",
       "client_id     object\n",
       "dtype: object"
      ]
     },
     "execution_count": 19,
     "metadata": {},
     "output_type": "execute_result"
    }
   ],
   "source": [
    "df_transactions.dtypes"
   ]
  },
  {
   "cell_type": "code",
   "execution_count": 20,
   "id": "51413e7d",
   "metadata": {
    "scrolled": true
   },
   "outputs": [
    {
     "name": "stderr",
     "output_type": "stream",
     "text": [
      "C:\\Users\\33753\\anaconda3\\lib\\site-packages\\pandas\\core\\generic.py:5494: SettingWithCopyWarning: \n",
      "A value is trying to be set on a copy of a slice from a DataFrame.\n",
      "Try using .loc[row_indexer,col_indexer] = value instead\n",
      "\n",
      "See the caveats in the documentation: https://pandas.pydata.org/pandas-docs/stable/user_guide/indexing.html#returning-a-view-versus-a-copy\n",
      "  self[name] = value\n"
     ]
    }
   ],
   "source": [
    "df_transactions.date = pd.to_datetime(df_transactions.date).copy()"
   ]
  },
  {
   "cell_type": "code",
   "execution_count": 21,
   "id": "b747eedf",
   "metadata": {},
   "outputs": [
    {
     "data": {
      "text/plain": [
       "id_prod               object\n",
       "date          datetime64[ns]\n",
       "session_id            object\n",
       "client_id             object\n",
       "dtype: object"
      ]
     },
     "execution_count": 21,
     "metadata": {},
     "output_type": "execute_result"
    }
   ],
   "source": [
    "df_transactions.dtypes"
   ]
  },
  {
   "cell_type": "code",
   "execution_count": 22,
   "id": "2ae59b5f",
   "metadata": {
    "scrolled": true
   },
   "outputs": [
    {
     "data": {
      "text/plain": [
       "0"
      ]
     },
     "execution_count": 22,
     "metadata": {},
     "output_type": "execute_result"
    }
   ],
   "source": [
    "\n",
    "#Vérification des éventuelles valeurs manquantes\n",
    "df_transactions.date.isnull().sum()"
   ]
  },
  {
   "cell_type": "code",
   "execution_count": 23,
   "id": "037847c0",
   "metadata": {
    "scrolled": true
   },
   "outputs": [
    {
     "name": "stdout",
     "output_type": "stream",
     "text": [
      "0\n",
      "0\n",
      "0\n"
     ]
    }
   ],
   "source": [
    "#Méthode .duplicated() pour identifier la présence de doublons\n",
    "print(df_products.duplicated().sum())\n",
    "print(df_customers.duplicated().sum())\n",
    "print(df_transactions.duplicated().sum())"
   ]
  },
  {
   "cell_type": "code",
   "execution_count": 24,
   "id": "e10b4a18",
   "metadata": {},
   "outputs": [],
   "source": [
    "df100 = pd.merge(df_transactions,df_customers, on='client_id')\n",
    "df100 = pd.merge(df100, df_products, on = 'id_prod')\n",
    "df100['count'] = 1\n",
    "df100 = df100.groupby('client_id').sum().reset_index()\n",
    "df100 = df100.sort_values('count', ascending=False)\n",
    "df100 = df100[['client_id', 'count']]\n",
    "df100 = pd.merge(df100, df_customers, on='client_id')\n",
    "df100 = df100.sort_values('count', ascending=False)\n",
    "top_5 = df100.iloc[0:5]"
   ]
  },
  {
   "cell_type": "code",
   "execution_count": 25,
   "id": "25a36f8c",
   "metadata": {},
   "outputs": [
    {
     "name": "stdout",
     "output_type": "stream",
     "text": [
      "  client_id  count sex  birth\n",
      "0    c_1609  12855   m   1980\n",
      "1    c_6714   4471   f   1968\n",
      "2    c_3454   3273   m   1969\n",
      "3    c_4958   2562   m   1999\n",
      "4    c_7959    195   f   1974\n"
     ]
    }
   ],
   "source": [
    "# on peut apercevoir 4 outliers qui se distinguent\n",
    "print(top_5)"
   ]
  },
  {
   "cell_type": "code",
   "execution_count": 26,
   "id": "ca75c1ca",
   "metadata": {},
   "outputs": [],
   "source": [
    "mask = df_transactions.loc[(df_transactions['client_id'] == 'c_1609') | (df_transactions['client_id'] =='c_6714') | (df_transactions['client_id'] =='c_3454') | (df_transactions['client_id'] =='c_4958')]\n",
    "outliers = mask.index.tolist()\n",
    "df_transactions = df_transactions.drop(outliers)"
   ]
  },
  {
   "cell_type": "code",
   "execution_count": 27,
   "id": "d02126c3",
   "metadata": {},
   "outputs": [],
   "source": [
    "df_transactions_products=pd.merge(df_transactions,df_products ,on='id_prod', how='left')"
   ]
  },
  {
   "cell_type": "code",
   "execution_count": 28,
   "id": "9840252c",
   "metadata": {
    "scrolled": true
   },
   "outputs": [],
   "source": [
    "#cree un dataframe uniquement ou il ya des nan\n",
    "df_missing_values = df_transactions_products[df_transactions_products.categ.isnull() == True]"
   ]
  },
  {
   "cell_type": "code",
   "execution_count": 29,
   "id": "a6066f4e",
   "metadata": {},
   "outputs": [
    {
     "data": {
      "text/plain": [
       "array(['0_2245'], dtype=object)"
      ]
     },
     "execution_count": 29,
     "metadata": {},
     "output_type": "execute_result"
    }
   ],
   "source": [
    "#reperer ou il y a une valeur manquante\n",
    "df_missing_values.id_prod.unique()"
   ]
  },
  {
   "cell_type": "code",
   "execution_count": 30,
   "id": "c3cd8f72",
   "metadata": {},
   "outputs": [],
   "source": [
    "df_transactions_products['price'] = df_transactions_products.price.fillna(df_transactions_products.price.mean())"
   ]
  },
  {
   "cell_type": "code",
   "execution_count": 31,
   "id": "547fdb07",
   "metadata": {},
   "outputs": [],
   "source": [
    "#Le produit id 0_2245 doit-être classifié en catégorie 0\n",
    "df_transactions_products['categ'] = df_transactions_products.categ.fillna(0)"
   ]
  },
  {
   "cell_type": "code",
   "execution_count": 32,
   "id": "13156ffc",
   "metadata": {},
   "outputs": [
    {
     "data": {
      "text/html": [
       "<div>\n",
       "<style scoped>\n",
       "    .dataframe tbody tr th:only-of-type {\n",
       "        vertical-align: middle;\n",
       "    }\n",
       "\n",
       "    .dataframe tbody tr th {\n",
       "        vertical-align: top;\n",
       "    }\n",
       "\n",
       "    .dataframe thead th {\n",
       "        text-align: right;\n",
       "    }\n",
       "</style>\n",
       "<table border=\"1\" class=\"dataframe\">\n",
       "  <thead>\n",
       "    <tr style=\"text-align: right;\">\n",
       "      <th></th>\n",
       "      <th>id_prod</th>\n",
       "      <th>date</th>\n",
       "      <th>session_id</th>\n",
       "      <th>client_id</th>\n",
       "      <th>price</th>\n",
       "      <th>categ</th>\n",
       "    </tr>\n",
       "  </thead>\n",
       "  <tbody>\n",
       "  </tbody>\n",
       "</table>\n",
       "</div>"
      ],
      "text/plain": [
       "Empty DataFrame\n",
       "Columns: [id_prod, date, session_id, client_id, price, categ]\n",
       "Index: []"
      ]
     },
     "execution_count": 32,
     "metadata": {},
     "output_type": "execute_result"
    }
   ],
   "source": [
    "df_transactions_products[df_transactions_products.date.isnull() == True]"
   ]
  },
  {
   "cell_type": "code",
   "execution_count": 33,
   "id": "ed3f0778",
   "metadata": {},
   "outputs": [
    {
     "data": {
      "text/plain": [
       "id_prod       0\n",
       "date          0\n",
       "session_id    0\n",
       "client_id     0\n",
       "price         0\n",
       "categ         0\n",
       "dtype: int64"
      ]
     },
     "execution_count": 33,
     "metadata": {},
     "output_type": "execute_result"
    }
   ],
   "source": [
    "df_transactions_products.isnull().sum()"
   ]
  },
  {
   "cell_type": "code",
   "execution_count": null,
   "id": "a1feeadf",
   "metadata": {},
   "outputs": [],
   "source": []
  }
 ],
 "metadata": {
  "kernelspec": {
   "display_name": "Python 3",
   "language": "python",
   "name": "python3"
  },
  "language_info": {
   "codemirror_mode": {
    "name": "ipython",
    "version": 3
   },
   "file_extension": ".py",
   "mimetype": "text/x-python",
   "name": "python",
   "nbconvert_exporter": "python",
   "pygments_lexer": "ipython3",
   "version": "3.8.8"
  }
 },
 "nbformat": 4,
 "nbformat_minor": 5
}
