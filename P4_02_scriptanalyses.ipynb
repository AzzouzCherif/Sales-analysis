{
 "cells": [
  {
   "cell_type": "code",
   "execution_count": 100,
   "id": "487d8221",
   "metadata": {},
   "outputs": [],
   "source": [
    "#Import des librairies Python\n",
    "import pandas as pd\n",
    "import numpy as np\n",
    "import matplotlib.pyplot as plt\n",
    "import seaborn as sns\n",
    "import scipy.stats as st\n",
    "import math as mth"
   ]
  },
  {
   "cell_type": "code",
   "execution_count": 101,
   "id": "ad46a5e7",
   "metadata": {},
   "outputs": [],
   "source": [
    "#Import des fichiers csv extraits directement de la base de données de l’entreprise\n",
    "df_transactions = pd.read_csv('transactions.csv') \n",
    "df_products = pd.read_csv('products.csv') \n",
    "df_customers = pd.read_csv('customers.csv') "
   ]
  },
  {
   "cell_type": "code",
   "execution_count": 102,
   "id": "c42bd7e4",
   "metadata": {},
   "outputs": [
    {
     "data": {
      "text/html": [
       "<div>\n",
       "<style scoped>\n",
       "    .dataframe tbody tr th:only-of-type {\n",
       "        vertical-align: middle;\n",
       "    }\n",
       "\n",
       "    .dataframe tbody tr th {\n",
       "        vertical-align: top;\n",
       "    }\n",
       "\n",
       "    .dataframe thead th {\n",
       "        text-align: right;\n",
       "    }\n",
       "</style>\n",
       "<table border=\"1\" class=\"dataframe\">\n",
       "  <thead>\n",
       "    <tr style=\"text-align: right;\">\n",
       "      <th></th>\n",
       "      <th>id_prod</th>\n",
       "      <th>price</th>\n",
       "      <th>categ</th>\n",
       "    </tr>\n",
       "  </thead>\n",
       "  <tbody>\n",
       "    <tr>\n",
       "      <th>731</th>\n",
       "      <td>T_0</td>\n",
       "      <td>-1.00</td>\n",
       "      <td>0</td>\n",
       "    </tr>\n",
       "    <tr>\n",
       "      <th>3188</th>\n",
       "      <td>2_99</td>\n",
       "      <td>84.99</td>\n",
       "      <td>2</td>\n",
       "    </tr>\n",
       "    <tr>\n",
       "      <th>3088</th>\n",
       "      <td>2_98</td>\n",
       "      <td>149.74</td>\n",
       "      <td>2</td>\n",
       "    </tr>\n",
       "    <tr>\n",
       "      <th>2698</th>\n",
       "      <td>2_97</td>\n",
       "      <td>160.99</td>\n",
       "      <td>2</td>\n",
       "    </tr>\n",
       "    <tr>\n",
       "      <th>2576</th>\n",
       "      <td>2_96</td>\n",
       "      <td>47.91</td>\n",
       "      <td>2</td>\n",
       "    </tr>\n",
       "    <tr>\n",
       "      <th>...</th>\n",
       "      <td>...</td>\n",
       "      <td>...</td>\n",
       "      <td>...</td>\n",
       "    </tr>\n",
       "    <tr>\n",
       "      <th>922</th>\n",
       "      <td>0_1000</td>\n",
       "      <td>6.84</td>\n",
       "      <td>0</td>\n",
       "    </tr>\n",
       "    <tr>\n",
       "      <th>663</th>\n",
       "      <td>0_100</td>\n",
       "      <td>20.60</td>\n",
       "      <td>0</td>\n",
       "    </tr>\n",
       "    <tr>\n",
       "      <th>2691</th>\n",
       "      <td>0_10</td>\n",
       "      <td>17.95</td>\n",
       "      <td>0</td>\n",
       "    </tr>\n",
       "    <tr>\n",
       "      <th>803</th>\n",
       "      <td>0_1</td>\n",
       "      <td>10.99</td>\n",
       "      <td>0</td>\n",
       "    </tr>\n",
       "    <tr>\n",
       "      <th>1001</th>\n",
       "      <td>0_0</td>\n",
       "      <td>3.75</td>\n",
       "      <td>0</td>\n",
       "    </tr>\n",
       "  </tbody>\n",
       "</table>\n",
       "<p>3287 rows × 3 columns</p>\n",
       "</div>"
      ],
      "text/plain": [
       "     id_prod   price  categ\n",
       "731      T_0   -1.00      0\n",
       "3188    2_99   84.99      2\n",
       "3088    2_98  149.74      2\n",
       "2698    2_97  160.99      2\n",
       "2576    2_96   47.91      2\n",
       "...      ...     ...    ...\n",
       "922   0_1000    6.84      0\n",
       "663    0_100   20.60      0\n",
       "2691    0_10   17.95      0\n",
       "803      0_1   10.99      0\n",
       "1001     0_0    3.75      0\n",
       "\n",
       "[3287 rows x 3 columns]"
      ]
     },
     "execution_count": 102,
     "metadata": {},
     "output_type": "execute_result"
    }
   ],
   "source": [
    "#Traitement des valeurs aberrantes \n",
    "#Tri rapide sur les 5 premières lignes du dataframe df_product (méthode .sort_values())\n",
    "df_products.sort_values('id_prod', ascending = False)"
   ]
  },
  {
   "cell_type": "code",
   "execution_count": 103,
   "id": "5470ec64",
   "metadata": {},
   "outputs": [
    {
     "data": {
      "text/html": [
       "<div>\n",
       "<style scoped>\n",
       "    .dataframe tbody tr th:only-of-type {\n",
       "        vertical-align: middle;\n",
       "    }\n",
       "\n",
       "    .dataframe tbody tr th {\n",
       "        vertical-align: top;\n",
       "    }\n",
       "\n",
       "    .dataframe thead th {\n",
       "        text-align: right;\n",
       "    }\n",
       "</style>\n",
       "<table border=\"1\" class=\"dataframe\">\n",
       "  <thead>\n",
       "    <tr style=\"text-align: right;\">\n",
       "      <th></th>\n",
       "      <th>id_prod</th>\n",
       "      <th>price</th>\n",
       "      <th>categ</th>\n",
       "    </tr>\n",
       "  </thead>\n",
       "  <tbody>\n",
       "    <tr>\n",
       "      <th>731</th>\n",
       "      <td>T_0</td>\n",
       "      <td>-1.00</td>\n",
       "      <td>0</td>\n",
       "    </tr>\n",
       "    <tr>\n",
       "      <th>3188</th>\n",
       "      <td>2_99</td>\n",
       "      <td>84.99</td>\n",
       "      <td>2</td>\n",
       "    </tr>\n",
       "    <tr>\n",
       "      <th>3088</th>\n",
       "      <td>2_98</td>\n",
       "      <td>149.74</td>\n",
       "      <td>2</td>\n",
       "    </tr>\n",
       "    <tr>\n",
       "      <th>2698</th>\n",
       "      <td>2_97</td>\n",
       "      <td>160.99</td>\n",
       "      <td>2</td>\n",
       "    </tr>\n",
       "    <tr>\n",
       "      <th>2576</th>\n",
       "      <td>2_96</td>\n",
       "      <td>47.91</td>\n",
       "      <td>2</td>\n",
       "    </tr>\n",
       "    <tr>\n",
       "      <th>...</th>\n",
       "      <td>...</td>\n",
       "      <td>...</td>\n",
       "      <td>...</td>\n",
       "    </tr>\n",
       "    <tr>\n",
       "      <th>922</th>\n",
       "      <td>0_1000</td>\n",
       "      <td>6.84</td>\n",
       "      <td>0</td>\n",
       "    </tr>\n",
       "    <tr>\n",
       "      <th>663</th>\n",
       "      <td>0_100</td>\n",
       "      <td>20.60</td>\n",
       "      <td>0</td>\n",
       "    </tr>\n",
       "    <tr>\n",
       "      <th>2691</th>\n",
       "      <td>0_10</td>\n",
       "      <td>17.95</td>\n",
       "      <td>0</td>\n",
       "    </tr>\n",
       "    <tr>\n",
       "      <th>803</th>\n",
       "      <td>0_1</td>\n",
       "      <td>10.99</td>\n",
       "      <td>0</td>\n",
       "    </tr>\n",
       "    <tr>\n",
       "      <th>1001</th>\n",
       "      <td>0_0</td>\n",
       "      <td>3.75</td>\n",
       "      <td>0</td>\n",
       "    </tr>\n",
       "  </tbody>\n",
       "</table>\n",
       "<p>3287 rows × 3 columns</p>\n",
       "</div>"
      ],
      "text/plain": [
       "     id_prod   price  categ\n",
       "731      T_0   -1.00      0\n",
       "3188    2_99   84.99      2\n",
       "3088    2_98  149.74      2\n",
       "2698    2_97  160.99      2\n",
       "2576    2_96   47.91      2\n",
       "...      ...     ...    ...\n",
       "922   0_1000    6.84      0\n",
       "663    0_100   20.60      0\n",
       "2691    0_10   17.95      0\n",
       "803      0_1   10.99      0\n",
       "1001     0_0    3.75      0\n",
       "\n",
       "[3287 rows x 3 columns]"
      ]
     },
     "execution_count": 103,
     "metadata": {},
     "output_type": "execute_result"
    }
   ],
   "source": [
    "#Tri rapide sur les 5 premières lignes du dataframe df_product (méthode .sort_values())\n",
    "df_products.sort_values('id_prod', ascending = False)"
   ]
  },
  {
   "cell_type": "code",
   "execution_count": 104,
   "id": "ec8e8573",
   "metadata": {},
   "outputs": [],
   "source": [
    "#Suppression de la ligne index 731, la valeur n'a aucune signification logique\n",
    "df_products = df_products[df_products.id_prod != 'T_0']"
   ]
  },
  {
   "cell_type": "code",
   "execution_count": 105,
   "id": "605c4a6f",
   "metadata": {},
   "outputs": [
    {
     "data": {
      "text/html": [
       "<div>\n",
       "<style scoped>\n",
       "    .dataframe tbody tr th:only-of-type {\n",
       "        vertical-align: middle;\n",
       "    }\n",
       "\n",
       "    .dataframe tbody tr th {\n",
       "        vertical-align: top;\n",
       "    }\n",
       "\n",
       "    .dataframe thead th {\n",
       "        text-align: right;\n",
       "    }\n",
       "</style>\n",
       "<table border=\"1\" class=\"dataframe\">\n",
       "  <thead>\n",
       "    <tr style=\"text-align: right;\">\n",
       "      <th></th>\n",
       "      <th>client_id</th>\n",
       "      <th>sex</th>\n",
       "      <th>birth</th>\n",
       "    </tr>\n",
       "  </thead>\n",
       "  <tbody>\n",
       "    <tr>\n",
       "      <th>8494</th>\n",
       "      <td>ct_1</td>\n",
       "      <td>m</td>\n",
       "      <td>2001</td>\n",
       "    </tr>\n",
       "    <tr>\n",
       "      <th>2735</th>\n",
       "      <td>ct_0</td>\n",
       "      <td>f</td>\n",
       "      <td>2001</td>\n",
       "    </tr>\n",
       "    <tr>\n",
       "      <th>7358</th>\n",
       "      <td>c_999</td>\n",
       "      <td>m</td>\n",
       "      <td>1964</td>\n",
       "    </tr>\n",
       "    <tr>\n",
       "      <th>2145</th>\n",
       "      <td>c_998</td>\n",
       "      <td>m</td>\n",
       "      <td>2001</td>\n",
       "    </tr>\n",
       "    <tr>\n",
       "      <th>94</th>\n",
       "      <td>c_997</td>\n",
       "      <td>f</td>\n",
       "      <td>1994</td>\n",
       "    </tr>\n",
       "    <tr>\n",
       "      <th>...</th>\n",
       "      <td>...</td>\n",
       "      <td>...</td>\n",
       "      <td>...</td>\n",
       "    </tr>\n",
       "    <tr>\n",
       "      <th>3426</th>\n",
       "      <td>c_1001</td>\n",
       "      <td>m</td>\n",
       "      <td>1982</td>\n",
       "    </tr>\n",
       "    <tr>\n",
       "      <th>8472</th>\n",
       "      <td>c_1000</td>\n",
       "      <td>f</td>\n",
       "      <td>1966</td>\n",
       "    </tr>\n",
       "    <tr>\n",
       "      <th>2137</th>\n",
       "      <td>c_100</td>\n",
       "      <td>m</td>\n",
       "      <td>1992</td>\n",
       "    </tr>\n",
       "    <tr>\n",
       "      <th>6894</th>\n",
       "      <td>c_10</td>\n",
       "      <td>m</td>\n",
       "      <td>1956</td>\n",
       "    </tr>\n",
       "    <tr>\n",
       "      <th>4299</th>\n",
       "      <td>c_1</td>\n",
       "      <td>m</td>\n",
       "      <td>1955</td>\n",
       "    </tr>\n",
       "  </tbody>\n",
       "</table>\n",
       "<p>8623 rows × 3 columns</p>\n",
       "</div>"
      ],
      "text/plain": [
       "     client_id sex  birth\n",
       "8494      ct_1   m   2001\n",
       "2735      ct_0   f   2001\n",
       "7358     c_999   m   1964\n",
       "2145     c_998   m   2001\n",
       "94       c_997   f   1994\n",
       "...        ...  ..    ...\n",
       "3426    c_1001   m   1982\n",
       "8472    c_1000   f   1966\n",
       "2137     c_100   m   1992\n",
       "6894      c_10   m   1956\n",
       "4299       c_1   m   1955\n",
       "\n",
       "[8623 rows x 3 columns]"
      ]
     },
     "execution_count": 105,
     "metadata": {},
     "output_type": "execute_result"
    }
   ],
   "source": [
    "df_customers.sort_values('client_id',ascending=False)"
   ]
  },
  {
   "cell_type": "code",
   "execution_count": 106,
   "id": "7cb1449c",
   "metadata": {},
   "outputs": [
    {
     "data": {
      "text/html": [
       "<div>\n",
       "<style scoped>\n",
       "    .dataframe tbody tr th:only-of-type {\n",
       "        vertical-align: middle;\n",
       "    }\n",
       "\n",
       "    .dataframe tbody tr th {\n",
       "        vertical-align: top;\n",
       "    }\n",
       "\n",
       "    .dataframe thead th {\n",
       "        text-align: right;\n",
       "    }\n",
       "</style>\n",
       "<table border=\"1\" class=\"dataframe\">\n",
       "  <thead>\n",
       "    <tr style=\"text-align: right;\">\n",
       "      <th></th>\n",
       "      <th>client_id</th>\n",
       "      <th>sex</th>\n",
       "      <th>birth</th>\n",
       "    </tr>\n",
       "  </thead>\n",
       "  <tbody>\n",
       "    <tr>\n",
       "      <th>8494</th>\n",
       "      <td>ct_1</td>\n",
       "      <td>m</td>\n",
       "      <td>2001</td>\n",
       "    </tr>\n",
       "    <tr>\n",
       "      <th>2735</th>\n",
       "      <td>ct_0</td>\n",
       "      <td>f</td>\n",
       "      <td>2001</td>\n",
       "    </tr>\n",
       "    <tr>\n",
       "      <th>7358</th>\n",
       "      <td>c_999</td>\n",
       "      <td>m</td>\n",
       "      <td>1964</td>\n",
       "    </tr>\n",
       "    <tr>\n",
       "      <th>2145</th>\n",
       "      <td>c_998</td>\n",
       "      <td>m</td>\n",
       "      <td>2001</td>\n",
       "    </tr>\n",
       "    <tr>\n",
       "      <th>94</th>\n",
       "      <td>c_997</td>\n",
       "      <td>f</td>\n",
       "      <td>1994</td>\n",
       "    </tr>\n",
       "    <tr>\n",
       "      <th>...</th>\n",
       "      <td>...</td>\n",
       "      <td>...</td>\n",
       "      <td>...</td>\n",
       "    </tr>\n",
       "    <tr>\n",
       "      <th>3426</th>\n",
       "      <td>c_1001</td>\n",
       "      <td>m</td>\n",
       "      <td>1982</td>\n",
       "    </tr>\n",
       "    <tr>\n",
       "      <th>8472</th>\n",
       "      <td>c_1000</td>\n",
       "      <td>f</td>\n",
       "      <td>1966</td>\n",
       "    </tr>\n",
       "    <tr>\n",
       "      <th>2137</th>\n",
       "      <td>c_100</td>\n",
       "      <td>m</td>\n",
       "      <td>1992</td>\n",
       "    </tr>\n",
       "    <tr>\n",
       "      <th>6894</th>\n",
       "      <td>c_10</td>\n",
       "      <td>m</td>\n",
       "      <td>1956</td>\n",
       "    </tr>\n",
       "    <tr>\n",
       "      <th>4299</th>\n",
       "      <td>c_1</td>\n",
       "      <td>m</td>\n",
       "      <td>1955</td>\n",
       "    </tr>\n",
       "  </tbody>\n",
       "</table>\n",
       "<p>8623 rows × 3 columns</p>\n",
       "</div>"
      ],
      "text/plain": [
       "     client_id sex  birth\n",
       "8494      ct_1   m   2001\n",
       "2735      ct_0   f   2001\n",
       "7358     c_999   m   1964\n",
       "2145     c_998   m   2001\n",
       "94       c_997   f   1994\n",
       "...        ...  ..    ...\n",
       "3426    c_1001   m   1982\n",
       "8472    c_1000   f   1966\n",
       "2137     c_100   m   1992\n",
       "6894      c_10   m   1956\n",
       "4299       c_1   m   1955\n",
       "\n",
       "[8623 rows x 3 columns]"
      ]
     },
     "execution_count": 106,
     "metadata": {},
     "output_type": "execute_result"
    }
   ],
   "source": [
    "df_customers.sort_values('client_id',ascending=False)"
   ]
  },
  {
   "cell_type": "code",
   "execution_count": 107,
   "id": "495d7857",
   "metadata": {},
   "outputs": [],
   "source": [
    "ct_0 = df_customers.loc[df_customers['client_id'] == 'ct_0']\n",
    "ct_1 = df_customers.loc[df_customers['client_id'] == 'ct_1']\n"
   ]
  },
  {
   "cell_type": "code",
   "execution_count": 108,
   "id": "b6b9a8d4",
   "metadata": {},
   "outputs": [
    {
     "data": {
      "text/html": [
       "<div>\n",
       "<style scoped>\n",
       "    .dataframe tbody tr th:only-of-type {\n",
       "        vertical-align: middle;\n",
       "    }\n",
       "\n",
       "    .dataframe tbody tr th {\n",
       "        vertical-align: top;\n",
       "    }\n",
       "\n",
       "    .dataframe thead th {\n",
       "        text-align: right;\n",
       "    }\n",
       "</style>\n",
       "<table border=\"1\" class=\"dataframe\">\n",
       "  <thead>\n",
       "    <tr style=\"text-align: right;\">\n",
       "      <th></th>\n",
       "      <th>client_id</th>\n",
       "      <th>sex</th>\n",
       "      <th>birth</th>\n",
       "    </tr>\n",
       "  </thead>\n",
       "  <tbody>\n",
       "    <tr>\n",
       "      <th>4299</th>\n",
       "      <td>c_1</td>\n",
       "      <td>m</td>\n",
       "      <td>1955</td>\n",
       "    </tr>\n",
       "    <tr>\n",
       "      <th>6894</th>\n",
       "      <td>c_10</td>\n",
       "      <td>m</td>\n",
       "      <td>1956</td>\n",
       "    </tr>\n",
       "    <tr>\n",
       "      <th>2137</th>\n",
       "      <td>c_100</td>\n",
       "      <td>m</td>\n",
       "      <td>1992</td>\n",
       "    </tr>\n",
       "    <tr>\n",
       "      <th>8472</th>\n",
       "      <td>c_1000</td>\n",
       "      <td>f</td>\n",
       "      <td>1966</td>\n",
       "    </tr>\n",
       "    <tr>\n",
       "      <th>3426</th>\n",
       "      <td>c_1001</td>\n",
       "      <td>m</td>\n",
       "      <td>1982</td>\n",
       "    </tr>\n",
       "    <tr>\n",
       "      <th>...</th>\n",
       "      <td>...</td>\n",
       "      <td>...</td>\n",
       "      <td>...</td>\n",
       "    </tr>\n",
       "    <tr>\n",
       "      <th>7004</th>\n",
       "      <td>c_995</td>\n",
       "      <td>m</td>\n",
       "      <td>1955</td>\n",
       "    </tr>\n",
       "    <tr>\n",
       "      <th>2788</th>\n",
       "      <td>c_996</td>\n",
       "      <td>f</td>\n",
       "      <td>1970</td>\n",
       "    </tr>\n",
       "    <tr>\n",
       "      <th>94</th>\n",
       "      <td>c_997</td>\n",
       "      <td>f</td>\n",
       "      <td>1994</td>\n",
       "    </tr>\n",
       "    <tr>\n",
       "      <th>2145</th>\n",
       "      <td>c_998</td>\n",
       "      <td>m</td>\n",
       "      <td>2001</td>\n",
       "    </tr>\n",
       "    <tr>\n",
       "      <th>7358</th>\n",
       "      <td>c_999</td>\n",
       "      <td>m</td>\n",
       "      <td>1964</td>\n",
       "    </tr>\n",
       "  </tbody>\n",
       "</table>\n",
       "<p>8621 rows × 3 columns</p>\n",
       "</div>"
      ],
      "text/plain": [
       "     client_id sex  birth\n",
       "4299       c_1   m   1955\n",
       "6894      c_10   m   1956\n",
       "2137     c_100   m   1992\n",
       "8472    c_1000   f   1966\n",
       "3426    c_1001   m   1982\n",
       "...        ...  ..    ...\n",
       "7004     c_995   m   1955\n",
       "2788     c_996   f   1970\n",
       "94       c_997   f   1994\n",
       "2145     c_998   m   2001\n",
       "7358     c_999   m   1964\n",
       "\n",
       "[8621 rows x 3 columns]"
      ]
     },
     "execution_count": 108,
     "metadata": {},
     "output_type": "execute_result"
    }
   ],
   "source": [
    "#On supprime ces deux valeurs en utilisant la méthode .drop().\n",
    "df_customers.drop([2735, 8494], 0, inplace=True)\n",
    "df_customers.sort_values('client_id')"
   ]
  },
  {
   "cell_type": "code",
   "execution_count": 109,
   "id": "c43ad7f5",
   "metadata": {},
   "outputs": [
    {
     "data": {
      "text/html": [
       "<div>\n",
       "<style scoped>\n",
       "    .dataframe tbody tr th:only-of-type {\n",
       "        vertical-align: middle;\n",
       "    }\n",
       "\n",
       "    .dataframe tbody tr th {\n",
       "        vertical-align: top;\n",
       "    }\n",
       "\n",
       "    .dataframe thead th {\n",
       "        text-align: right;\n",
       "    }\n",
       "</style>\n",
       "<table border=\"1\" class=\"dataframe\">\n",
       "  <thead>\n",
       "    <tr style=\"text-align: right;\">\n",
       "      <th></th>\n",
       "      <th>id_prod</th>\n",
       "      <th>date</th>\n",
       "      <th>session_id</th>\n",
       "      <th>client_id</th>\n",
       "    </tr>\n",
       "  </thead>\n",
       "  <tbody>\n",
       "    <tr>\n",
       "      <th>298399</th>\n",
       "      <td>T_0</td>\n",
       "      <td>test_2021-03-01 02:30:02.237423</td>\n",
       "      <td>s_0</td>\n",
       "      <td>ct_1</td>\n",
       "    </tr>\n",
       "    <tr>\n",
       "      <th>57261</th>\n",
       "      <td>T_0</td>\n",
       "      <td>test_2021-03-01 02:30:02.237439</td>\n",
       "      <td>s_0</td>\n",
       "      <td>ct_1</td>\n",
       "    </tr>\n",
       "    <tr>\n",
       "      <th>77758</th>\n",
       "      <td>T_0</td>\n",
       "      <td>test_2021-03-01 02:30:02.237429</td>\n",
       "      <td>s_0</td>\n",
       "      <td>ct_1</td>\n",
       "    </tr>\n",
       "    <tr>\n",
       "      <th>2895</th>\n",
       "      <td>T_0</td>\n",
       "      <td>test_2021-03-01 02:30:02.237414</td>\n",
       "      <td>s_0</td>\n",
       "      <td>ct_1</td>\n",
       "    </tr>\n",
       "    <tr>\n",
       "      <th>250656</th>\n",
       "      <td>T_0</td>\n",
       "      <td>test_2021-03-01 02:30:02.237431</td>\n",
       "      <td>s_0</td>\n",
       "      <td>ct_1</td>\n",
       "    </tr>\n",
       "    <tr>\n",
       "      <th>...</th>\n",
       "      <td>...</td>\n",
       "      <td>...</td>\n",
       "      <td>...</td>\n",
       "      <td>...</td>\n",
       "    </tr>\n",
       "    <tr>\n",
       "      <th>83342</th>\n",
       "      <td>0_1429</td>\n",
       "      <td>2021-10-15 11:28:24.523566</td>\n",
       "      <td>s_105105</td>\n",
       "      <td>c_1</td>\n",
       "    </tr>\n",
       "    <tr>\n",
       "      <th>321196</th>\n",
       "      <td>0_1547</td>\n",
       "      <td>2021-09-08 08:27:49.586711</td>\n",
       "      <td>s_86739</td>\n",
       "      <td>c_1</td>\n",
       "    </tr>\n",
       "    <tr>\n",
       "      <th>298829</th>\n",
       "      <td>0_1090</td>\n",
       "      <td>2021-12-19 02:44:12.827475</td>\n",
       "      <td>s_136532</td>\n",
       "      <td>c_1</td>\n",
       "    </tr>\n",
       "    <tr>\n",
       "      <th>28406</th>\n",
       "      <td>1_713</td>\n",
       "      <td>2021-11-15 20:40:00.586010</td>\n",
       "      <td>s_120172</td>\n",
       "      <td>c_1</td>\n",
       "    </tr>\n",
       "    <tr>\n",
       "      <th>126857</th>\n",
       "      <td>0_1571</td>\n",
       "      <td>2022-02-01 01:47:04.355850</td>\n",
       "      <td>s_158128</td>\n",
       "      <td>c_1</td>\n",
       "    </tr>\n",
       "  </tbody>\n",
       "</table>\n",
       "<p>337016 rows × 4 columns</p>\n",
       "</div>"
      ],
      "text/plain": [
       "       id_prod                             date session_id client_id\n",
       "298399     T_0  test_2021-03-01 02:30:02.237423        s_0      ct_1\n",
       "57261      T_0  test_2021-03-01 02:30:02.237439        s_0      ct_1\n",
       "77758      T_0  test_2021-03-01 02:30:02.237429        s_0      ct_1\n",
       "2895       T_0  test_2021-03-01 02:30:02.237414        s_0      ct_1\n",
       "250656     T_0  test_2021-03-01 02:30:02.237431        s_0      ct_1\n",
       "...        ...                              ...        ...       ...\n",
       "83342   0_1429       2021-10-15 11:28:24.523566   s_105105       c_1\n",
       "321196  0_1547       2021-09-08 08:27:49.586711    s_86739       c_1\n",
       "298829  0_1090       2021-12-19 02:44:12.827475   s_136532       c_1\n",
       "28406    1_713       2021-11-15 20:40:00.586010   s_120172       c_1\n",
       "126857  0_1571       2022-02-01 01:47:04.355850   s_158128       c_1\n",
       "\n",
       "[337016 rows x 4 columns]"
      ]
     },
     "execution_count": 109,
     "metadata": {},
     "output_type": "execute_result"
    }
   ],
   "source": [
    "df_transactions.sort_values('client_id',ascending=False)"
   ]
  },
  {
   "cell_type": "code",
   "execution_count": 110,
   "id": "8abd2e83",
   "metadata": {},
   "outputs": [
    {
     "data": {
      "text/html": [
       "<div>\n",
       "<style scoped>\n",
       "    .dataframe tbody tr th:only-of-type {\n",
       "        vertical-align: middle;\n",
       "    }\n",
       "\n",
       "    .dataframe tbody tr th {\n",
       "        vertical-align: top;\n",
       "    }\n",
       "\n",
       "    .dataframe thead th {\n",
       "        text-align: right;\n",
       "    }\n",
       "</style>\n",
       "<table border=\"1\" class=\"dataframe\">\n",
       "  <thead>\n",
       "    <tr style=\"text-align: right;\">\n",
       "      <th></th>\n",
       "      <th>id_prod</th>\n",
       "      <th>date</th>\n",
       "      <th>session_id</th>\n",
       "      <th>client_id</th>\n",
       "    </tr>\n",
       "  </thead>\n",
       "  <tbody>\n",
       "    <tr>\n",
       "      <th>298399</th>\n",
       "      <td>T_0</td>\n",
       "      <td>test_2021-03-01 02:30:02.237423</td>\n",
       "      <td>s_0</td>\n",
       "      <td>ct_1</td>\n",
       "    </tr>\n",
       "    <tr>\n",
       "      <th>57261</th>\n",
       "      <td>T_0</td>\n",
       "      <td>test_2021-03-01 02:30:02.237439</td>\n",
       "      <td>s_0</td>\n",
       "      <td>ct_1</td>\n",
       "    </tr>\n",
       "    <tr>\n",
       "      <th>77758</th>\n",
       "      <td>T_0</td>\n",
       "      <td>test_2021-03-01 02:30:02.237429</td>\n",
       "      <td>s_0</td>\n",
       "      <td>ct_1</td>\n",
       "    </tr>\n",
       "    <tr>\n",
       "      <th>2895</th>\n",
       "      <td>T_0</td>\n",
       "      <td>test_2021-03-01 02:30:02.237414</td>\n",
       "      <td>s_0</td>\n",
       "      <td>ct_1</td>\n",
       "    </tr>\n",
       "    <tr>\n",
       "      <th>250656</th>\n",
       "      <td>T_0</td>\n",
       "      <td>test_2021-03-01 02:30:02.237431</td>\n",
       "      <td>s_0</td>\n",
       "      <td>ct_1</td>\n",
       "    </tr>\n",
       "    <tr>\n",
       "      <th>...</th>\n",
       "      <td>...</td>\n",
       "      <td>...</td>\n",
       "      <td>...</td>\n",
       "      <td>...</td>\n",
       "    </tr>\n",
       "    <tr>\n",
       "      <th>83342</th>\n",
       "      <td>0_1429</td>\n",
       "      <td>2021-10-15 11:28:24.523566</td>\n",
       "      <td>s_105105</td>\n",
       "      <td>c_1</td>\n",
       "    </tr>\n",
       "    <tr>\n",
       "      <th>321196</th>\n",
       "      <td>0_1547</td>\n",
       "      <td>2021-09-08 08:27:49.586711</td>\n",
       "      <td>s_86739</td>\n",
       "      <td>c_1</td>\n",
       "    </tr>\n",
       "    <tr>\n",
       "      <th>298829</th>\n",
       "      <td>0_1090</td>\n",
       "      <td>2021-12-19 02:44:12.827475</td>\n",
       "      <td>s_136532</td>\n",
       "      <td>c_1</td>\n",
       "    </tr>\n",
       "    <tr>\n",
       "      <th>28406</th>\n",
       "      <td>1_713</td>\n",
       "      <td>2021-11-15 20:40:00.586010</td>\n",
       "      <td>s_120172</td>\n",
       "      <td>c_1</td>\n",
       "    </tr>\n",
       "    <tr>\n",
       "      <th>126857</th>\n",
       "      <td>0_1571</td>\n",
       "      <td>2022-02-01 01:47:04.355850</td>\n",
       "      <td>s_158128</td>\n",
       "      <td>c_1</td>\n",
       "    </tr>\n",
       "  </tbody>\n",
       "</table>\n",
       "<p>337016 rows × 4 columns</p>\n",
       "</div>"
      ],
      "text/plain": [
       "       id_prod                             date session_id client_id\n",
       "298399     T_0  test_2021-03-01 02:30:02.237423        s_0      ct_1\n",
       "57261      T_0  test_2021-03-01 02:30:02.237439        s_0      ct_1\n",
       "77758      T_0  test_2021-03-01 02:30:02.237429        s_0      ct_1\n",
       "2895       T_0  test_2021-03-01 02:30:02.237414        s_0      ct_1\n",
       "250656     T_0  test_2021-03-01 02:30:02.237431        s_0      ct_1\n",
       "...        ...                              ...        ...       ...\n",
       "83342   0_1429       2021-10-15 11:28:24.523566   s_105105       c_1\n",
       "321196  0_1547       2021-09-08 08:27:49.586711    s_86739       c_1\n",
       "298829  0_1090       2021-12-19 02:44:12.827475   s_136532       c_1\n",
       "28406    1_713       2021-11-15 20:40:00.586010   s_120172       c_1\n",
       "126857  0_1571       2022-02-01 01:47:04.355850   s_158128       c_1\n",
       "\n",
       "[337016 rows x 4 columns]"
      ]
     },
     "execution_count": 110,
     "metadata": {},
     "output_type": "execute_result"
    }
   ],
   "source": [
    "df_transactions.sort_values('client_id',ascending=False)"
   ]
  },
  {
   "cell_type": "code",
   "execution_count": 111,
   "id": "60b0fce9",
   "metadata": {},
   "outputs": [],
   "source": [
    "#Suppression des valeurs test\n",
    "df_transactions = df_transactions[df_transactions.id_prod != 'T_0']"
   ]
  },
  {
   "cell_type": "code",
   "execution_count": 112,
   "id": "53bf52ba",
   "metadata": {},
   "outputs": [],
   "source": [
    "df_transactions.date = pd.to_datetime(df_transactions.date).copy()"
   ]
  },
  {
   "cell_type": "code",
   "execution_count": 113,
   "id": "26baa11a",
   "metadata": {},
   "outputs": [],
   "source": [
    "df100 = pd.merge(df_transactions,df_customers, on='client_id')\n",
    "df100 = pd.merge(df100, df_products, on = 'id_prod')\n",
    "df100['count'] = 1\n",
    "df100 = df100.groupby('client_id').sum().reset_index()\n",
    "df100 = df100.sort_values('count', ascending=False)\n",
    "df100 = df100[['client_id', 'count']]\n",
    "df100 = pd.merge(df100, df_customers, on='client_id')\n",
    "df100 = df100.sort_values('count', ascending=False)\n",
    "top_5 = df100.iloc[0:5]"
   ]
  },
  {
   "cell_type": "code",
   "execution_count": 114,
   "id": "28419cbb",
   "metadata": {},
   "outputs": [],
   "source": [
    "mask = df_transactions.loc[(df_transactions['client_id'] == 'c_1609') | (df_transactions['client_id'] =='c_6714') | (df_transactions['client_id'] =='c_3454') | (df_transactions['client_id'] =='c_4958')]\n",
    "outliers = mask.index.tolist()\n",
    "df_transactions = df_transactions.drop(outliers)"
   ]
  },
  {
   "cell_type": "code",
   "execution_count": 115,
   "id": "bdf4ab1d",
   "metadata": {},
   "outputs": [],
   "source": [
    "df_transactions_products=pd.merge(df_transactions,df_products ,on='id_prod', how='left')"
   ]
  },
  {
   "cell_type": "code",
   "execution_count": 116,
   "id": "664438b7",
   "metadata": {},
   "outputs": [],
   "source": [
    "#cree un dataframe uniquement ou il ya des nan\n",
    "df_missing_values = df_transactions_products[df_transactions_products.categ.isnull() == True]"
   ]
  },
  {
   "cell_type": "code",
   "execution_count": 117,
   "id": "184430d8",
   "metadata": {},
   "outputs": [
    {
     "data": {
      "text/plain": [
       "array(['0_2245'], dtype=object)"
      ]
     },
     "execution_count": 117,
     "metadata": {},
     "output_type": "execute_result"
    }
   ],
   "source": [
    "#reperer ou il y a une valeur manquante\n",
    "df_missing_values.id_prod.unique()"
   ]
  },
  {
   "cell_type": "code",
   "execution_count": 118,
   "id": "3d4975b1",
   "metadata": {},
   "outputs": [],
   "source": [
    "df_transactions_products['price'] = df_transactions_products.price.fillna(df_transactions_products.price.mean())"
   ]
  },
  {
   "cell_type": "code",
   "execution_count": 119,
   "id": "6846f495",
   "metadata": {},
   "outputs": [],
   "source": [
    "#Le produit id 0_2245 doit-être classifié en catégorie 0\n",
    "df_transactions_products['categ'] = df_transactions_products.categ.fillna(0)"
   ]
  },
  {
   "cell_type": "markdown",
   "id": "abdd67ce",
   "metadata": {},
   "source": [
    "# Mission 2"
   ]
  },
  {
   "cell_type": "code",
   "execution_count": 120,
   "id": "0f5b4af4",
   "metadata": {},
   "outputs": [],
   "source": [
    "#Evolution du chiffre d'affaire\n",
    "df_transactions_mois = df_transactions_products.groupby(pd.Grouper(key='date', freq='M')).sum().reset_index()\n",
    "df_transactions_mois=df_transactions_mois[['date','price']]"
   ]
  },
  {
   "cell_type": "code",
   "execution_count": 121,
   "id": "f255aebf",
   "metadata": {},
   "outputs": [
    {
     "data": {
      "text/html": [
       "<div>\n",
       "<style scoped>\n",
       "    .dataframe tbody tr th:only-of-type {\n",
       "        vertical-align: middle;\n",
       "    }\n",
       "\n",
       "    .dataframe tbody tr th {\n",
       "        vertical-align: top;\n",
       "    }\n",
       "\n",
       "    .dataframe thead th {\n",
       "        text-align: right;\n",
       "    }\n",
       "</style>\n",
       "<table border=\"1\" class=\"dataframe\">\n",
       "  <thead>\n",
       "    <tr style=\"text-align: right;\">\n",
       "      <th></th>\n",
       "      <th>date</th>\n",
       "      <th>price</th>\n",
       "    </tr>\n",
       "  </thead>\n",
       "  <tbody>\n",
       "    <tr>\n",
       "      <th>0</th>\n",
       "      <td>2021-03-31</td>\n",
       "      <td>443093.036802</td>\n",
       "    </tr>\n",
       "    <tr>\n",
       "      <th>1</th>\n",
       "      <td>2021-04-30</td>\n",
       "      <td>436397.402758</td>\n",
       "    </tr>\n",
       "    <tr>\n",
       "      <th>2</th>\n",
       "      <td>2021-05-31</td>\n",
       "      <td>451448.763824</td>\n",
       "    </tr>\n",
       "    <tr>\n",
       "      <th>3</th>\n",
       "      <td>2021-06-30</td>\n",
       "      <td>444970.087868</td>\n",
       "    </tr>\n",
       "    <tr>\n",
       "      <th>4</th>\n",
       "      <td>2021-07-31</td>\n",
       "      <td>445724.821912</td>\n",
       "    </tr>\n",
       "    <tr>\n",
       "      <th>5</th>\n",
       "      <td>2021-08-31</td>\n",
       "      <td>443325.606802</td>\n",
       "    </tr>\n",
       "    <tr>\n",
       "      <th>6</th>\n",
       "      <td>2021-09-30</td>\n",
       "      <td>466955.595736</td>\n",
       "    </tr>\n",
       "    <tr>\n",
       "      <th>7</th>\n",
       "      <td>2021-10-31</td>\n",
       "      <td>295358.270846</td>\n",
       "    </tr>\n",
       "    <tr>\n",
       "      <th>8</th>\n",
       "      <td>2021-11-30</td>\n",
       "      <td>475283.509780</td>\n",
       "    </tr>\n",
       "    <tr>\n",
       "      <th>9</th>\n",
       "      <td>2021-12-31</td>\n",
       "      <td>484863.520846</td>\n",
       "    </tr>\n",
       "    <tr>\n",
       "      <th>10</th>\n",
       "      <td>2022-01-31</td>\n",
       "      <td>486660.894890</td>\n",
       "    </tr>\n",
       "    <tr>\n",
       "      <th>11</th>\n",
       "      <td>2022-02-28</td>\n",
       "      <td>490284.642758</td>\n",
       "    </tr>\n",
       "  </tbody>\n",
       "</table>\n",
       "</div>"
      ],
      "text/plain": [
       "         date          price\n",
       "0  2021-03-31  443093.036802\n",
       "1  2021-04-30  436397.402758\n",
       "2  2021-05-31  451448.763824\n",
       "3  2021-06-30  444970.087868\n",
       "4  2021-07-31  445724.821912\n",
       "5  2021-08-31  443325.606802\n",
       "6  2021-09-30  466955.595736\n",
       "7  2021-10-31  295358.270846\n",
       "8  2021-11-30  475283.509780\n",
       "9  2021-12-31  484863.520846\n",
       "10 2022-01-31  486660.894890\n",
       "11 2022-02-28  490284.642758"
      ]
     },
     "execution_count": 121,
     "metadata": {},
     "output_type": "execute_result"
    }
   ],
   "source": [
    "df_transactions_mois"
   ]
  },
  {
   "cell_type": "code",
   "execution_count": 122,
   "id": "c472e489",
   "metadata": {},
   "outputs": [
    {
     "data": {
      "text/plain": [
       "Text(0, 0.5, 'Price Euro')"
      ]
     },
     "execution_count": 122,
     "metadata": {},
     "output_type": "execute_result"
    },
    {
     "data": {
      "image/png": "[encoded data removed]",
      "text/plain": [
       "<Figure size 432x288 with 1 Axes>"
      ]
     },
     "metadata": {
      "needs_background": "light"
     },
     "output_type": "display_data"
    }
   ],
   "source": [
    "df_transactions_mois.plot(x='date',y='price', c='blue',lw=7)\n",
    "plt.title('Evolution des ventes en fonction des mois ')\n",
    "plt.xlabel('Date')\n",
    "plt.ylabel('Price Euro')\n"
   ]
  },
  {
   "cell_type": "code",
   "execution_count": 123,
   "id": "b5b667a0",
   "metadata": {},
   "outputs": [
    {
     "data": {
      "text/plain": [
       "21273"
      ]
     },
     "execution_count": 123,
     "metadata": {},
     "output_type": "execute_result"
    }
   ],
   "source": [
    "transaction_octobre = len(df_transactions_products[(df_transactions_products.date > '2021-09-30') & \\\n",
    "                                                   (df_transactions_products.date < '2021-11-01')])\n",
    "transaction_octobre"
   ]
  },
  {
   "cell_type": "code",
   "execution_count": 124,
   "id": "69216b96",
   "metadata": {},
   "outputs": [
    {
     "data": {
      "text/plain": [
       "31687"
      ]
     },
     "execution_count": 124,
     "metadata": {},
     "output_type": "execute_result"
    }
   ],
   "source": [
    "transaction_septembre=len(df_transactions_products[(df_transactions_products.date > '2021-08-31') & \\\n",
    "                                                   (df_transactions_products.date < '2021-10-01')])\n",
    "transaction_septembre"
   ]
  },
  {
   "cell_type": "code",
   "execution_count": 125,
   "id": "eb24051d",
   "metadata": {},
   "outputs": [],
   "source": [
    "#Création (par restriction des dates)du dataframe 'df_transactionsv1' excluant les transactions du mois d'octobre\n",
    "df_transactions1 =  df_transactions[(df_transactions.date <= '2021-09-30') | (df_transactions.date >= '2021-11-01')]"
   ]
  },
  {
   "cell_type": "code",
   "execution_count": 126,
   "id": "a42f1c0e",
   "metadata": {},
   "outputs": [
    {
     "data": {
      "text/html": [
       "<div>\n",
       "<style scoped>\n",
       "    .dataframe tbody tr th:only-of-type {\n",
       "        vertical-align: middle;\n",
       "    }\n",
       "\n",
       "    .dataframe tbody tr th {\n",
       "        vertical-align: top;\n",
       "    }\n",
       "\n",
       "    .dataframe thead th {\n",
       "        text-align: right;\n",
       "    }\n",
       "</style>\n",
       "<table border=\"1\" class=\"dataframe\">\n",
       "  <thead>\n",
       "    <tr style=\"text-align: right;\">\n",
       "      <th></th>\n",
       "      <th>id_prod</th>\n",
       "      <th>date</th>\n",
       "      <th>session_id</th>\n",
       "      <th>client_id</th>\n",
       "      <th>price</th>\n",
       "      <th>categ</th>\n",
       "    </tr>\n",
       "  </thead>\n",
       "  <tbody>\n",
       "    <tr>\n",
       "      <th>0</th>\n",
       "      <td>0_1483</td>\n",
       "      <td>2021-04-10 18:37:28.723910</td>\n",
       "      <td>s_18746</td>\n",
       "      <td>c_4450</td>\n",
       "      <td>4.99</td>\n",
       "      <td>0</td>\n",
       "    </tr>\n",
       "    <tr>\n",
       "      <th>1</th>\n",
       "      <td>0_1483</td>\n",
       "      <td>2021-11-14 11:11:45.276771</td>\n",
       "      <td>s_119491</td>\n",
       "      <td>c_182</td>\n",
       "      <td>4.99</td>\n",
       "      <td>0</td>\n",
       "    </tr>\n",
       "    <tr>\n",
       "      <th>2</th>\n",
       "      <td>0_1483</td>\n",
       "      <td>2021-07-30 19:37:16.087057</td>\n",
       "      <td>s_69222</td>\n",
       "      <td>c_1196</td>\n",
       "      <td>4.99</td>\n",
       "      <td>0</td>\n",
       "    </tr>\n",
       "    <tr>\n",
       "      <th>3</th>\n",
       "      <td>0_1483</td>\n",
       "      <td>2021-03-30 14:18:13.403218</td>\n",
       "      <td>s_13545</td>\n",
       "      <td>c_2890</td>\n",
       "      <td>4.99</td>\n",
       "      <td>0</td>\n",
       "    </tr>\n",
       "    <tr>\n",
       "      <th>4</th>\n",
       "      <td>0_1483</td>\n",
       "      <td>2021-05-09 17:45:59.753345</td>\n",
       "      <td>s_32218</td>\n",
       "      <td>c_4690</td>\n",
       "      <td>4.99</td>\n",
       "      <td>0</td>\n",
       "    </tr>\n",
       "    <tr>\n",
       "      <th>...</th>\n",
       "      <td>...</td>\n",
       "      <td>...</td>\n",
       "      <td>...</td>\n",
       "      <td>...</td>\n",
       "      <td>...</td>\n",
       "      <td>...</td>\n",
       "    </tr>\n",
       "    <tr>\n",
       "      <th>292281</th>\n",
       "      <td>0_833</td>\n",
       "      <td>2021-09-27 23:22:40.394509</td>\n",
       "      <td>s_96558</td>\n",
       "      <td>c_8260</td>\n",
       "      <td>2.99</td>\n",
       "      <td>0</td>\n",
       "    </tr>\n",
       "    <tr>\n",
       "      <th>292282</th>\n",
       "      <td>0_1284</td>\n",
       "      <td>2021-04-14 13:13:06.560397</td>\n",
       "      <td>s_20477</td>\n",
       "      <td>c_1551</td>\n",
       "      <td>1.38</td>\n",
       "      <td>0</td>\n",
       "    </tr>\n",
       "    <tr>\n",
       "      <th>292283</th>\n",
       "      <td>0_1116</td>\n",
       "      <td>2021-07-27 04:02:53.408409</td>\n",
       "      <td>s_67633</td>\n",
       "      <td>c_3291</td>\n",
       "      <td>2.97</td>\n",
       "      <td>0</td>\n",
       "    </tr>\n",
       "    <tr>\n",
       "      <th>292284</th>\n",
       "      <td>0_527</td>\n",
       "      <td>2021-08-08 20:18:36.270422</td>\n",
       "      <td>s_73115</td>\n",
       "      <td>c_131</td>\n",
       "      <td>2.99</td>\n",
       "      <td>0</td>\n",
       "    </tr>\n",
       "    <tr>\n",
       "      <th>292285</th>\n",
       "      <td>1_514</td>\n",
       "      <td>2021-07-07 01:47:11.188839</td>\n",
       "      <td>s_58876</td>\n",
       "      <td>c_1786</td>\n",
       "      <td>67.66</td>\n",
       "      <td>1</td>\n",
       "    </tr>\n",
       "  </tbody>\n",
       "</table>\n",
       "<p>292286 rows × 6 columns</p>\n",
       "</div>"
      ],
      "text/plain": [
       "       id_prod                       date session_id client_id  price  categ\n",
       "0       0_1483 2021-04-10 18:37:28.723910    s_18746    c_4450   4.99      0\n",
       "1       0_1483 2021-11-14 11:11:45.276771   s_119491     c_182   4.99      0\n",
       "2       0_1483 2021-07-30 19:37:16.087057    s_69222    c_1196   4.99      0\n",
       "3       0_1483 2021-03-30 14:18:13.403218    s_13545    c_2890   4.99      0\n",
       "4       0_1483 2021-05-09 17:45:59.753345    s_32218    c_4690   4.99      0\n",
       "...        ...                        ...        ...       ...    ...    ...\n",
       "292281   0_833 2021-09-27 23:22:40.394509    s_96558    c_8260   2.99      0\n",
       "292282  0_1284 2021-04-14 13:13:06.560397    s_20477    c_1551   1.38      0\n",
       "292283  0_1116 2021-07-27 04:02:53.408409    s_67633    c_3291   2.97      0\n",
       "292284   0_527 2021-08-08 20:18:36.270422    s_73115     c_131   2.99      0\n",
       "292285   1_514 2021-07-07 01:47:11.188839    s_58876    c_1786  67.66      1\n",
       "\n",
       "[292286 rows x 6 columns]"
      ]
     },
     "execution_count": 126,
     "metadata": {},
     "output_type": "execute_result"
    }
   ],
   "source": [
    "#Nouvelle jointure pour agréger les valeurs 'transactionsv1' avec celles 'products' (méthode .merge())\n",
    "df_transactions1_products = pd.merge(df_transactions1, df_products, on='id_prod')\n",
    "df_transactions1_products"
   ]
  },
  {
   "cell_type": "code",
   "execution_count": 127,
   "id": "1a7ef038",
   "metadata": {},
   "outputs": [
    {
     "data": {
      "text/plain": [
       "count    292286.000000\n",
       "mean         17.279671\n",
       "std          17.621140\n",
       "min           0.620000\n",
       "25%           8.990000\n",
       "50%          13.990000\n",
       "75%          19.040000\n",
       "max         300.000000\n",
       "Name: price, dtype: float64"
      ]
     },
     "execution_count": 127,
     "metadata": {},
     "output_type": "execute_result"
    }
   ],
   "source": [
    "#tendance central et dispersion\n",
    "#calcule de la moyenne \n",
    "df_transactions1_products['price'].describe()\n"
   ]
  },
  {
   "cell_type": "code",
   "execution_count": 128,
   "id": "975dfdb7",
   "metadata": {},
   "outputs": [
    {
     "data": {
      "text/plain": [
       "Text(0.5, 0, 'Prix des produit en Euro')"
      ]
     },
     "execution_count": 128,
     "metadata": {},
     "output_type": "execute_result"
    },
    {
     "data": {
      "image/png": "[encoded data removed]",
      "text/plain": [
       "<Figure size 432x288 with 1 Axes>"
      ]
     },
     "metadata": {
      "needs_background": "light"
     },
     "output_type": "display_data"
    }
   ],
   "source": [
    "sns.histplot(x='price', data=df_transactions1_products,stat='count',bins=20)\n",
    "plt.title('histogramme de la variable price')\n",
    "plt.xlabel('Prix des produit en Euro')\n",
    "\n"
   ]
  },
  {
   "cell_type": "code",
   "execution_count": 129,
   "id": "585557a7",
   "metadata": {},
   "outputs": [],
   "source": [
    "#Analyse sectorielle par catégorie\n",
    "effectif=df_transactions1_products['categ'].value_counts()\n",
    "modalite=effectif.index"
   ]
  },
  {
   "cell_type": "code",
   "execution_count": 130,
   "id": "40c37b04",
   "metadata": {},
   "outputs": [],
   "source": [
    "tab=pd.DataFrame(modalite, columns=['categ'] )"
   ]
  },
  {
   "cell_type": "code",
   "execution_count": 131,
   "id": "43a5dfa8",
   "metadata": {},
   "outputs": [
    {
     "data": {
      "text/html": [
       "<div>\n",
       "<style scoped>\n",
       "    .dataframe tbody tr th:only-of-type {\n",
       "        vertical-align: middle;\n",
       "    }\n",
       "\n",
       "    .dataframe tbody tr th {\n",
       "        vertical-align: top;\n",
       "    }\n",
       "\n",
       "    .dataframe thead th {\n",
       "        text-align: right;\n",
       "    }\n",
       "</style>\n",
       "<table border=\"1\" class=\"dataframe\">\n",
       "  <thead>\n",
       "    <tr style=\"text-align: right;\">\n",
       "      <th></th>\n",
       "      <th>categ</th>\n",
       "    </tr>\n",
       "  </thead>\n",
       "  <tbody>\n",
       "    <tr>\n",
       "      <th>0</th>\n",
       "      <td>0</td>\n",
       "    </tr>\n",
       "    <tr>\n",
       "      <th>1</th>\n",
       "      <td>1</td>\n",
       "    </tr>\n",
       "    <tr>\n",
       "      <th>2</th>\n",
       "      <td>2</td>\n",
       "    </tr>\n",
       "  </tbody>\n",
       "</table>\n",
       "</div>"
      ],
      "text/plain": [
       "   categ\n",
       "0      0\n",
       "1      1\n",
       "2      2"
      ]
     },
     "execution_count": 131,
     "metadata": {},
     "output_type": "execute_result"
    }
   ],
   "source": [
    "tab"
   ]
  },
  {
   "cell_type": "code",
   "execution_count": 132,
   "id": "fb996b60",
   "metadata": {},
   "outputs": [],
   "source": [
    "tab['n']=effectif.values"
   ]
  },
  {
   "cell_type": "code",
   "execution_count": 133,
   "id": "73d0f6a9",
   "metadata": {},
   "outputs": [
    {
     "data": {
      "text/html": [
       "<div>\n",
       "<style scoped>\n",
       "    .dataframe tbody tr th:only-of-type {\n",
       "        vertical-align: middle;\n",
       "    }\n",
       "\n",
       "    .dataframe tbody tr th {\n",
       "        vertical-align: top;\n",
       "    }\n",
       "\n",
       "    .dataframe thead th {\n",
       "        text-align: right;\n",
       "    }\n",
       "</style>\n",
       "<table border=\"1\" class=\"dataframe\">\n",
       "  <thead>\n",
       "    <tr style=\"text-align: right;\">\n",
       "      <th></th>\n",
       "      <th>categ</th>\n",
       "      <th>n</th>\n",
       "    </tr>\n",
       "  </thead>\n",
       "  <tbody>\n",
       "    <tr>\n",
       "      <th>0</th>\n",
       "      <td>0</td>\n",
       "      <td>176873</td>\n",
       "    </tr>\n",
       "    <tr>\n",
       "      <th>1</th>\n",
       "      <td>1</td>\n",
       "      <td>100731</td>\n",
       "    </tr>\n",
       "    <tr>\n",
       "      <th>2</th>\n",
       "      <td>2</td>\n",
       "      <td>14682</td>\n",
       "    </tr>\n",
       "  </tbody>\n",
       "</table>\n",
       "</div>"
      ],
      "text/plain": [
       "   categ       n\n",
       "0      0  176873\n",
       "1      1  100731\n",
       "2      2   14682"
      ]
     },
     "execution_count": 133,
     "metadata": {},
     "output_type": "execute_result"
    }
   ],
   "source": [
    "tab"
   ]
  },
  {
   "cell_type": "code",
   "execution_count": 134,
   "id": "5af6da0a",
   "metadata": {},
   "outputs": [],
   "source": [
    "tab['f']= tab['n']/len(df_transactions1_products)"
   ]
  },
  {
   "cell_type": "code",
   "execution_count": 135,
   "id": "cfe2f29d",
   "metadata": {},
   "outputs": [
    {
     "data": {
      "text/html": [
       "<div>\n",
       "<style scoped>\n",
       "    .dataframe tbody tr th:only-of-type {\n",
       "        vertical-align: middle;\n",
       "    }\n",
       "\n",
       "    .dataframe tbody tr th {\n",
       "        vertical-align: top;\n",
       "    }\n",
       "\n",
       "    .dataframe thead th {\n",
       "        text-align: right;\n",
       "    }\n",
       "</style>\n",
       "<table border=\"1\" class=\"dataframe\">\n",
       "  <thead>\n",
       "    <tr style=\"text-align: right;\">\n",
       "      <th></th>\n",
       "      <th>categ</th>\n",
       "      <th>n</th>\n",
       "      <th>f</th>\n",
       "    </tr>\n",
       "  </thead>\n",
       "  <tbody>\n",
       "    <tr>\n",
       "      <th>0</th>\n",
       "      <td>0</td>\n",
       "      <td>176873</td>\n",
       "      <td>0.605137</td>\n",
       "    </tr>\n",
       "    <tr>\n",
       "      <th>1</th>\n",
       "      <td>1</td>\n",
       "      <td>100731</td>\n",
       "      <td>0.344632</td>\n",
       "    </tr>\n",
       "    <tr>\n",
       "      <th>2</th>\n",
       "      <td>2</td>\n",
       "      <td>14682</td>\n",
       "      <td>0.050232</td>\n",
       "    </tr>\n",
       "  </tbody>\n",
       "</table>\n",
       "</div>"
      ],
      "text/plain": [
       "   categ       n         f\n",
       "0      0  176873  0.605137\n",
       "1      1  100731  0.344632\n",
       "2      2   14682  0.050232"
      ]
     },
     "execution_count": 135,
     "metadata": {},
     "output_type": "execute_result"
    }
   ],
   "source": [
    "tab"
   ]
  },
  {
   "cell_type": "code",
   "execution_count": 136,
   "id": "ca485735",
   "metadata": {},
   "outputs": [],
   "source": [
    "tab=tab.sort_values('categ')\n",
    "tab[\"F\"]=tab['f'].cumsum() #calcule la somme cumulé"
   ]
  },
  {
   "cell_type": "code",
   "execution_count": 137,
   "id": "5c0e70ed",
   "metadata": {},
   "outputs": [
    {
     "data": {
      "text/html": [
       "<div>\n",
       "<style scoped>\n",
       "    .dataframe tbody tr th:only-of-type {\n",
       "        vertical-align: middle;\n",
       "    }\n",
       "\n",
       "    .dataframe tbody tr th {\n",
       "        vertical-align: top;\n",
       "    }\n",
       "\n",
       "    .dataframe thead th {\n",
       "        text-align: right;\n",
       "    }\n",
       "</style>\n",
       "<table border=\"1\" class=\"dataframe\">\n",
       "  <thead>\n",
       "    <tr style=\"text-align: right;\">\n",
       "      <th></th>\n",
       "      <th>categ</th>\n",
       "      <th>n</th>\n",
       "      <th>f</th>\n",
       "      <th>F</th>\n",
       "    </tr>\n",
       "  </thead>\n",
       "  <tbody>\n",
       "    <tr>\n",
       "      <th>0</th>\n",
       "      <td>0</td>\n",
       "      <td>176873</td>\n",
       "      <td>0.605137</td>\n",
       "      <td>0.605137</td>\n",
       "    </tr>\n",
       "    <tr>\n",
       "      <th>1</th>\n",
       "      <td>1</td>\n",
       "      <td>100731</td>\n",
       "      <td>0.344632</td>\n",
       "      <td>0.949768</td>\n",
       "    </tr>\n",
       "    <tr>\n",
       "      <th>2</th>\n",
       "      <td>2</td>\n",
       "      <td>14682</td>\n",
       "      <td>0.050232</td>\n",
       "      <td>1.000000</td>\n",
       "    </tr>\n",
       "  </tbody>\n",
       "</table>\n",
       "</div>"
      ],
      "text/plain": [
       "   categ       n         f         F\n",
       "0      0  176873  0.605137  0.605137\n",
       "1      1  100731  0.344632  0.949768\n",
       "2      2   14682  0.050232  1.000000"
      ]
     },
     "execution_count": 137,
     "metadata": {},
     "output_type": "execute_result"
    }
   ],
   "source": [
    "tab"
   ]
  },
  {
   "cell_type": "code",
   "execution_count": 138,
   "id": "db0d1fd9",
   "metadata": {},
   "outputs": [
    {
     "data": {
      "text/plain": [
       "Text(0.5, 1.0, 'Répartition des catégories en fonction des frequences')"
      ]
     },
     "execution_count": 138,
     "metadata": {},
     "output_type": "execute_result"
    },
    {
     "data": {
      "image/png": "[encoded data removed]",
      "text/plain": [
       "<Figure size 432x288 with 1 Axes>"
      ]
     },
     "metadata": {},
     "output_type": "display_data"
    }
   ],
   "source": [
    "cat='Cat 0','Cat 1','Cat2'\n",
    "exp=(0.05,0.05,0.05)\n",
    "plt.pie(tab['f'], labels=cat, explode=exp, autopct='%1.1f%%',normalize=True);\n",
    "plt.title('Répartition des catégories en fonction des frequences')\n",
    "\n"
   ]
  },
  {
   "cell_type": "code",
   "execution_count": 139,
   "id": "57212944",
   "metadata": {},
   "outputs": [
    {
     "data": {
      "text/plain": [
       "Text(0, 0.5, 'Price (€)')"
      ]
     },
     "execution_count": 139,
     "metadata": {},
     "output_type": "execute_result"
    },
    {
     "data": {
      "image/png": "[encoded data removed]",
      "text/plain": [
       "<Figure size 432x288 with 1 Axes>"
      ]
     },
     "metadata": {
      "needs_background": "light"
     },
     "output_type": "display_data"
    }
   ],
   "source": [
    "sns.boxplot(x='categ',y='price',data=df_transactions1_products)\n",
    "plt.title('Dispersion des prix de vente par catégorie')\n",
    "plt.xlabel('Catégories')\n",
    "plt.ylabel('Price (€)')\n"
   ]
  },
  {
   "cell_type": "code",
   "execution_count": 140,
   "id": "ee94df15",
   "metadata": {},
   "outputs": [
    {
     "data": {
      "text/plain": [
       "2308"
      ]
     },
     "execution_count": 140,
     "metadata": {},
     "output_type": "execute_result"
    }
   ],
   "source": [
    "#COMBIEN DE PRODUIT DISPO CAR CATEGORIE\n",
    "CAT0=len(df_products[df_products.categ == 0].groupby('id_prod'))\n",
    "\n",
    "\n",
    "CAT0\n"
   ]
  },
  {
   "cell_type": "code",
   "execution_count": 141,
   "id": "ff6d2db4",
   "metadata": {},
   "outputs": [
    {
     "data": {
      "text/plain": [
       "739"
      ]
     },
     "execution_count": 141,
     "metadata": {},
     "output_type": "execute_result"
    }
   ],
   "source": [
    "CAT1=len(df_products[df_products.categ == 1].groupby('id_prod'))\n",
    "CAT1"
   ]
  },
  {
   "cell_type": "code",
   "execution_count": 142,
   "id": "e5635446",
   "metadata": {},
   "outputs": [
    {
     "data": {
      "text/plain": [
       "239"
      ]
     },
     "execution_count": 142,
     "metadata": {},
     "output_type": "execute_result"
    }
   ],
   "source": [
    "CAT2=len(df_products[df_products.categ == 2].groupby('id_prod'))\n",
    "CAT2"
   ]
  },
  {
   "cell_type": "code",
   "execution_count": 143,
   "id": "e97b5785",
   "metadata": {},
   "outputs": [
    {
     "data": {
      "text/html": [
       "<div>\n",
       "<style scoped>\n",
       "    .dataframe tbody tr th:only-of-type {\n",
       "        vertical-align: middle;\n",
       "    }\n",
       "\n",
       "    .dataframe tbody tr th {\n",
       "        vertical-align: top;\n",
       "    }\n",
       "\n",
       "    .dataframe thead th {\n",
       "        text-align: right;\n",
       "    }\n",
       "</style>\n",
       "<table border=\"1\" class=\"dataframe\">\n",
       "  <thead>\n",
       "    <tr style=\"text-align: right;\">\n",
       "      <th></th>\n",
       "      <th>id_prod</th>\n",
       "      <th>date</th>\n",
       "      <th>session_id</th>\n",
       "      <th>client_id</th>\n",
       "      <th>price</th>\n",
       "      <th>categ</th>\n",
       "      <th>sex</th>\n",
       "      <th>birth</th>\n",
       "    </tr>\n",
       "  </thead>\n",
       "  <tbody>\n",
       "    <tr>\n",
       "      <th>0</th>\n",
       "      <td>0_1483</td>\n",
       "      <td>2021-04-10 18:37:28.723910</td>\n",
       "      <td>s_18746</td>\n",
       "      <td>c_4450</td>\n",
       "      <td>4.99</td>\n",
       "      <td>0</td>\n",
       "      <td>f</td>\n",
       "      <td>1977</td>\n",
       "    </tr>\n",
       "    <tr>\n",
       "      <th>1</th>\n",
       "      <td>0_1085</td>\n",
       "      <td>2021-09-29 11:14:59.793823</td>\n",
       "      <td>s_97382</td>\n",
       "      <td>c_4450</td>\n",
       "      <td>3.99</td>\n",
       "      <td>0</td>\n",
       "      <td>f</td>\n",
       "      <td>1977</td>\n",
       "    </tr>\n",
       "    <tr>\n",
       "      <th>2</th>\n",
       "      <td>0_1453</td>\n",
       "      <td>2021-08-27 19:50:46.796939</td>\n",
       "      <td>s_81509</td>\n",
       "      <td>c_4450</td>\n",
       "      <td>7.99</td>\n",
       "      <td>0</td>\n",
       "      <td>f</td>\n",
       "      <td>1977</td>\n",
       "    </tr>\n",
       "    <tr>\n",
       "      <th>3</th>\n",
       "      <td>0_1405</td>\n",
       "      <td>2021-08-27 20:07:25.878440</td>\n",
       "      <td>s_81509</td>\n",
       "      <td>c_4450</td>\n",
       "      <td>4.99</td>\n",
       "      <td>0</td>\n",
       "      <td>f</td>\n",
       "      <td>1977</td>\n",
       "    </tr>\n",
       "    <tr>\n",
       "      <th>4</th>\n",
       "      <td>0_1392</td>\n",
       "      <td>2021-12-28 11:45:04.072281</td>\n",
       "      <td>s_141302</td>\n",
       "      <td>c_4450</td>\n",
       "      <td>6.30</td>\n",
       "      <td>0</td>\n",
       "      <td>f</td>\n",
       "      <td>1977</td>\n",
       "    </tr>\n",
       "    <tr>\n",
       "      <th>...</th>\n",
       "      <td>...</td>\n",
       "      <td>...</td>\n",
       "      <td>...</td>\n",
       "      <td>...</td>\n",
       "      <td>...</td>\n",
       "      <td>...</td>\n",
       "      <td>...</td>\n",
       "      <td>...</td>\n",
       "    </tr>\n",
       "    <tr>\n",
       "      <th>292281</th>\n",
       "      <td>0_1954</td>\n",
       "      <td>2022-01-01 15:43:23.657183</td>\n",
       "      <td>s_143438</td>\n",
       "      <td>c_5735</td>\n",
       "      <td>8.15</td>\n",
       "      <td>0</td>\n",
       "      <td>f</td>\n",
       "      <td>1996</td>\n",
       "    </tr>\n",
       "    <tr>\n",
       "      <th>292282</th>\n",
       "      <td>2_162</td>\n",
       "      <td>2021-04-21 11:50:23.354808</td>\n",
       "      <td>s_23649</td>\n",
       "      <td>c_3927</td>\n",
       "      <td>102.82</td>\n",
       "      <td>2</td>\n",
       "      <td>f</td>\n",
       "      <td>2003</td>\n",
       "    </tr>\n",
       "    <tr>\n",
       "      <th>292283</th>\n",
       "      <td>2_162</td>\n",
       "      <td>2021-06-03 03:55:54.925171</td>\n",
       "      <td>s_43342</td>\n",
       "      <td>c_755</td>\n",
       "      <td>102.82</td>\n",
       "      <td>2</td>\n",
       "      <td>f</td>\n",
       "      <td>1996</td>\n",
       "    </tr>\n",
       "    <tr>\n",
       "      <th>292284</th>\n",
       "      <td>2_213</td>\n",
       "      <td>2021-12-31 00:10:39.403811</td>\n",
       "      <td>s_142586</td>\n",
       "      <td>c_755</td>\n",
       "      <td>189.99</td>\n",
       "      <td>2</td>\n",
       "      <td>f</td>\n",
       "      <td>1996</td>\n",
       "    </tr>\n",
       "    <tr>\n",
       "      <th>292285</th>\n",
       "      <td>0_142</td>\n",
       "      <td>2021-09-25 18:07:25.880052</td>\n",
       "      <td>s_95415</td>\n",
       "      <td>c_1232</td>\n",
       "      <td>19.85</td>\n",
       "      <td>0</td>\n",
       "      <td>f</td>\n",
       "      <td>1960</td>\n",
       "    </tr>\n",
       "  </tbody>\n",
       "</table>\n",
       "<p>292286 rows × 8 columns</p>\n",
       "</div>"
      ],
      "text/plain": [
       "       id_prod                       date session_id client_id   price  categ  \\\n",
       "0       0_1483 2021-04-10 18:37:28.723910    s_18746    c_4450    4.99      0   \n",
       "1       0_1085 2021-09-29 11:14:59.793823    s_97382    c_4450    3.99      0   \n",
       "2       0_1453 2021-08-27 19:50:46.796939    s_81509    c_4450    7.99      0   \n",
       "3       0_1405 2021-08-27 20:07:25.878440    s_81509    c_4450    4.99      0   \n",
       "4       0_1392 2021-12-28 11:45:04.072281   s_141302    c_4450    6.30      0   \n",
       "...        ...                        ...        ...       ...     ...    ...   \n",
       "292281  0_1954 2022-01-01 15:43:23.657183   s_143438    c_5735    8.15      0   \n",
       "292282   2_162 2021-04-21 11:50:23.354808    s_23649    c_3927  102.82      2   \n",
       "292283   2_162 2021-06-03 03:55:54.925171    s_43342     c_755  102.82      2   \n",
       "292284   2_213 2021-12-31 00:10:39.403811   s_142586     c_755  189.99      2   \n",
       "292285   0_142 2021-09-25 18:07:25.880052    s_95415    c_1232   19.85      0   \n",
       "\n",
       "       sex  birth  \n",
       "0        f   1977  \n",
       "1        f   1977  \n",
       "2        f   1977  \n",
       "3        f   1977  \n",
       "4        f   1977  \n",
       "...     ..    ...  \n",
       "292281   f   1996  \n",
       "292282   f   2003  \n",
       "292283   f   1996  \n",
       "292284   f   1996  \n",
       "292285   f   1960  \n",
       "\n",
       "[292286 rows x 8 columns]"
      ]
     },
     "execution_count": 143,
     "metadata": {},
     "output_type": "execute_result"
    }
   ],
   "source": [
    "#JOINTURE DATAFRAME CUSTOMERS ET TRANSACTION\n",
    "df_transactions_customers=pd.merge(df_transactions1_products,df_customers, on='client_id')\n",
    "df_transactions_customers"
   ]
  },
  {
   "cell_type": "code",
   "execution_count": 144,
   "id": "5f42a1bf",
   "metadata": {},
   "outputs": [
    {
     "data": {
      "text/html": [
       "<div>\n",
       "<style scoped>\n",
       "    .dataframe tbody tr th:only-of-type {\n",
       "        vertical-align: middle;\n",
       "    }\n",
       "\n",
       "    .dataframe tbody tr th {\n",
       "        vertical-align: top;\n",
       "    }\n",
       "\n",
       "    .dataframe thead th {\n",
       "        text-align: right;\n",
       "    }\n",
       "</style>\n",
       "<table border=\"1\" class=\"dataframe\">\n",
       "  <thead>\n",
       "    <tr style=\"text-align: right;\">\n",
       "      <th></th>\n",
       "      <th>id_prod</th>\n",
       "      <th>date</th>\n",
       "      <th>session_id</th>\n",
       "      <th>client_id</th>\n",
       "      <th>price</th>\n",
       "      <th>categ</th>\n",
       "      <th>sex</th>\n",
       "      <th>birth</th>\n",
       "      <th>age</th>\n",
       "    </tr>\n",
       "  </thead>\n",
       "  <tbody>\n",
       "    <tr>\n",
       "      <th>0</th>\n",
       "      <td>0_1483</td>\n",
       "      <td>2021-04-10 18:37:28.723910</td>\n",
       "      <td>s_18746</td>\n",
       "      <td>c_4450</td>\n",
       "      <td>4.99</td>\n",
       "      <td>0</td>\n",
       "      <td>f</td>\n",
       "      <td>1977</td>\n",
       "      <td>44</td>\n",
       "    </tr>\n",
       "    <tr>\n",
       "      <th>1</th>\n",
       "      <td>0_1085</td>\n",
       "      <td>2021-09-29 11:14:59.793823</td>\n",
       "      <td>s_97382</td>\n",
       "      <td>c_4450</td>\n",
       "      <td>3.99</td>\n",
       "      <td>0</td>\n",
       "      <td>f</td>\n",
       "      <td>1977</td>\n",
       "      <td>44</td>\n",
       "    </tr>\n",
       "    <tr>\n",
       "      <th>2</th>\n",
       "      <td>0_1453</td>\n",
       "      <td>2021-08-27 19:50:46.796939</td>\n",
       "      <td>s_81509</td>\n",
       "      <td>c_4450</td>\n",
       "      <td>7.99</td>\n",
       "      <td>0</td>\n",
       "      <td>f</td>\n",
       "      <td>1977</td>\n",
       "      <td>44</td>\n",
       "    </tr>\n",
       "    <tr>\n",
       "      <th>3</th>\n",
       "      <td>0_1405</td>\n",
       "      <td>2021-08-27 20:07:25.878440</td>\n",
       "      <td>s_81509</td>\n",
       "      <td>c_4450</td>\n",
       "      <td>4.99</td>\n",
       "      <td>0</td>\n",
       "      <td>f</td>\n",
       "      <td>1977</td>\n",
       "      <td>44</td>\n",
       "    </tr>\n",
       "    <tr>\n",
       "      <th>4</th>\n",
       "      <td>0_1392</td>\n",
       "      <td>2021-12-28 11:45:04.072281</td>\n",
       "      <td>s_141302</td>\n",
       "      <td>c_4450</td>\n",
       "      <td>6.30</td>\n",
       "      <td>0</td>\n",
       "      <td>f</td>\n",
       "      <td>1977</td>\n",
       "      <td>44</td>\n",
       "    </tr>\n",
       "    <tr>\n",
       "      <th>...</th>\n",
       "      <td>...</td>\n",
       "      <td>...</td>\n",
       "      <td>...</td>\n",
       "      <td>...</td>\n",
       "      <td>...</td>\n",
       "      <td>...</td>\n",
       "      <td>...</td>\n",
       "      <td>...</td>\n",
       "      <td>...</td>\n",
       "    </tr>\n",
       "    <tr>\n",
       "      <th>292281</th>\n",
       "      <td>0_1954</td>\n",
       "      <td>2022-01-01 15:43:23.657183</td>\n",
       "      <td>s_143438</td>\n",
       "      <td>c_5735</td>\n",
       "      <td>8.15</td>\n",
       "      <td>0</td>\n",
       "      <td>f</td>\n",
       "      <td>1996</td>\n",
       "      <td>25</td>\n",
       "    </tr>\n",
       "    <tr>\n",
       "      <th>292282</th>\n",
       "      <td>2_162</td>\n",
       "      <td>2021-04-21 11:50:23.354808</td>\n",
       "      <td>s_23649</td>\n",
       "      <td>c_3927</td>\n",
       "      <td>102.82</td>\n",
       "      <td>2</td>\n",
       "      <td>f</td>\n",
       "      <td>2003</td>\n",
       "      <td>18</td>\n",
       "    </tr>\n",
       "    <tr>\n",
       "      <th>292283</th>\n",
       "      <td>2_162</td>\n",
       "      <td>2021-06-03 03:55:54.925171</td>\n",
       "      <td>s_43342</td>\n",
       "      <td>c_755</td>\n",
       "      <td>102.82</td>\n",
       "      <td>2</td>\n",
       "      <td>f</td>\n",
       "      <td>1996</td>\n",
       "      <td>25</td>\n",
       "    </tr>\n",
       "    <tr>\n",
       "      <th>292284</th>\n",
       "      <td>2_213</td>\n",
       "      <td>2021-12-31 00:10:39.403811</td>\n",
       "      <td>s_142586</td>\n",
       "      <td>c_755</td>\n",
       "      <td>189.99</td>\n",
       "      <td>2</td>\n",
       "      <td>f</td>\n",
       "      <td>1996</td>\n",
       "      <td>25</td>\n",
       "    </tr>\n",
       "    <tr>\n",
       "      <th>292285</th>\n",
       "      <td>0_142</td>\n",
       "      <td>2021-09-25 18:07:25.880052</td>\n",
       "      <td>s_95415</td>\n",
       "      <td>c_1232</td>\n",
       "      <td>19.85</td>\n",
       "      <td>0</td>\n",
       "      <td>f</td>\n",
       "      <td>1960</td>\n",
       "      <td>61</td>\n",
       "    </tr>\n",
       "  </tbody>\n",
       "</table>\n",
       "<p>292286 rows × 9 columns</p>\n",
       "</div>"
      ],
      "text/plain": [
       "       id_prod                       date session_id client_id   price  categ  \\\n",
       "0       0_1483 2021-04-10 18:37:28.723910    s_18746    c_4450    4.99      0   \n",
       "1       0_1085 2021-09-29 11:14:59.793823    s_97382    c_4450    3.99      0   \n",
       "2       0_1453 2021-08-27 19:50:46.796939    s_81509    c_4450    7.99      0   \n",
       "3       0_1405 2021-08-27 20:07:25.878440    s_81509    c_4450    4.99      0   \n",
       "4       0_1392 2021-12-28 11:45:04.072281   s_141302    c_4450    6.30      0   \n",
       "...        ...                        ...        ...       ...     ...    ...   \n",
       "292281  0_1954 2022-01-01 15:43:23.657183   s_143438    c_5735    8.15      0   \n",
       "292282   2_162 2021-04-21 11:50:23.354808    s_23649    c_3927  102.82      2   \n",
       "292283   2_162 2021-06-03 03:55:54.925171    s_43342     c_755  102.82      2   \n",
       "292284   2_213 2021-12-31 00:10:39.403811   s_142586     c_755  189.99      2   \n",
       "292285   0_142 2021-09-25 18:07:25.880052    s_95415    c_1232   19.85      0   \n",
       "\n",
       "       sex  birth  age  \n",
       "0        f   1977   44  \n",
       "1        f   1977   44  \n",
       "2        f   1977   44  \n",
       "3        f   1977   44  \n",
       "4        f   1977   44  \n",
       "...     ..    ...  ...  \n",
       "292281   f   1996   25  \n",
       "292282   f   2003   18  \n",
       "292283   f   1996   25  \n",
       "292284   f   1996   25  \n",
       "292285   f   1960   61  \n",
       "\n",
       "[292286 rows x 9 columns]"
      ]
     },
     "execution_count": 144,
     "metadata": {},
     "output_type": "execute_result"
    }
   ],
   "source": [
    "df_transactions_customers['age']=2021-df_transactions_customers['birth']\n",
    "df_transactions_customers"
   ]
  },
  {
   "cell_type": "code",
   "execution_count": 145,
   "id": "7b30f989",
   "metadata": {},
   "outputs": [
    {
     "name": "stdout",
     "output_type": "stream",
     "text": [
      "les clients les plus nombreux on entre 30 et 55 ans \n"
     ]
    },
    {
     "data": {
      "image/png": "[encoded data removed]",
      "text/plain": [
       "<Figure size 432x288 with 1 Axes>"
      ]
     },
     "metadata": {
      "needs_background": "light"
     },
     "output_type": "display_data"
    }
   ],
   "source": [
    "sns.histplot(x='age', data=df_transactions_customers,stat='frequency',bins=10)\n",
    "plt.title('Representation des ages des differents clients')\n",
    "plt.xlabel('age')\n",
    "print(\"les clients les plus nombreux on entre 30 et 55 ans \")\n",
    "plt.show()"
   ]
  },
  {
   "cell_type": "code",
   "execution_count": 146,
   "id": "f4be410d",
   "metadata": {},
   "outputs": [
    {
     "data": {
      "text/plain": [
       "count     292286\n",
       "unique         2\n",
       "top            f\n",
       "freq      152243\n",
       "Name: sex, dtype: object"
      ]
     },
     "execution_count": 146,
     "metadata": {},
     "output_type": "execute_result"
    }
   ],
   "source": [
    "df_transactions_customers.sex.describe()"
   ]
  },
  {
   "cell_type": "code",
   "execution_count": 147,
   "id": "48f57b6a",
   "metadata": {},
   "outputs": [
    {
     "data": {
      "text/plain": [
       "f    152243\n",
       "m    140043\n",
       "Name: sex, dtype: int64"
      ]
     },
     "execution_count": 147,
     "metadata": {},
     "output_type": "execute_result"
    }
   ],
   "source": [
    "df_transactions_customers.sex.value_counts()"
   ]
  },
  {
   "cell_type": "code",
   "execution_count": 148,
   "id": "82755fd8",
   "metadata": {},
   "outputs": [],
   "source": [
    "rds=df_transactions_customers.pivot_table(index='sex',columns='categ',values='id_prod',aggfunc='count').reset_index()"
   ]
  },
  {
   "cell_type": "code",
   "execution_count": 149,
   "id": "dd7bc0cd",
   "metadata": {},
   "outputs": [
    {
     "data": {
      "text/html": [
       "<div>\n",
       "<style scoped>\n",
       "    .dataframe tbody tr th:only-of-type {\n",
       "        vertical-align: middle;\n",
       "    }\n",
       "\n",
       "    .dataframe tbody tr th {\n",
       "        vertical-align: top;\n",
       "    }\n",
       "\n",
       "    .dataframe thead th {\n",
       "        text-align: right;\n",
       "    }\n",
       "</style>\n",
       "<table border=\"1\" class=\"dataframe\">\n",
       "  <thead>\n",
       "    <tr style=\"text-align: right;\">\n",
       "      <th>categ</th>\n",
       "      <th>sex</th>\n",
       "      <th>0</th>\n",
       "      <th>1</th>\n",
       "      <th>2</th>\n",
       "    </tr>\n",
       "  </thead>\n",
       "  <tbody>\n",
       "    <tr>\n",
       "      <th>0</th>\n",
       "      <td>f</td>\n",
       "      <td>91837</td>\n",
       "      <td>52841</td>\n",
       "      <td>7565</td>\n",
       "    </tr>\n",
       "    <tr>\n",
       "      <th>1</th>\n",
       "      <td>m</td>\n",
       "      <td>85036</td>\n",
       "      <td>47890</td>\n",
       "      <td>7117</td>\n",
       "    </tr>\n",
       "  </tbody>\n",
       "</table>\n",
       "</div>"
      ],
      "text/plain": [
       "categ sex      0      1     2\n",
       "0       f  91837  52841  7565\n",
       "1       m  85036  47890  7117"
      ]
     },
     "execution_count": 149,
     "metadata": {},
     "output_type": "execute_result"
    }
   ],
   "source": [
    "rds"
   ]
  },
  {
   "cell_type": "code",
   "execution_count": 150,
   "id": "aaa5c95e",
   "metadata": {},
   "outputs": [
    {
     "data": {
      "text/plain": [
       "Text(0, 0.5, \"Montant d'achat\")"
      ]
     },
     "execution_count": 150,
     "metadata": {},
     "output_type": "execute_result"
    },
    {
     "data": {
      "image/png": "[encoded data removed]",
      "text/plain": [
       "<Figure size 432x288 with 1 Axes>"
      ]
     },
     "metadata": {
      "needs_background": "light"
     },
     "output_type": "display_data"
    }
   ],
   "source": [
    "\n",
    "rds.plot(kind='bar', x='sex')\n",
    "\n",
    "plt.title('Répartition Hommes/Femmes selon les catégories')\n",
    "plt.xlabel('Sexe clients')\n",
    "plt.ylabel(\"Montant d'achat\")"
   ]
  },
  {
   "cell_type": "code",
   "execution_count": 151,
   "id": "7ad50bb7",
   "metadata": {},
   "outputs": [
    {
     "data": {
      "text/html": [
       "<div>\n",
       "<style scoped>\n",
       "    .dataframe tbody tr th:only-of-type {\n",
       "        vertical-align: middle;\n",
       "    }\n",
       "\n",
       "    .dataframe tbody tr th {\n",
       "        vertical-align: top;\n",
       "    }\n",
       "\n",
       "    .dataframe thead th {\n",
       "        text-align: right;\n",
       "    }\n",
       "</style>\n",
       "<table border=\"1\" class=\"dataframe\">\n",
       "  <thead>\n",
       "    <tr style=\"text-align: right;\">\n",
       "      <th></th>\n",
       "      <th>client_id</th>\n",
       "      <th>sex</th>\n",
       "      <th>birth</th>\n",
       "      <th>id_prod</th>\n",
       "      <th>date</th>\n",
       "      <th>session_id</th>\n",
       "      <th>price</th>\n",
       "      <th>categ</th>\n",
       "    </tr>\n",
       "  </thead>\n",
       "  <tbody>\n",
       "    <tr>\n",
       "      <th>0</th>\n",
       "      <td>c_4410</td>\n",
       "      <td>f</td>\n",
       "      <td>1967</td>\n",
       "      <td>0_1420</td>\n",
       "      <td>2021-03-22 22:31:25.825764</td>\n",
       "      <td>s_10092</td>\n",
       "      <td>11.53</td>\n",
       "      <td>0</td>\n",
       "    </tr>\n",
       "    <tr>\n",
       "      <th>1</th>\n",
       "      <td>c_4410</td>\n",
       "      <td>f</td>\n",
       "      <td>1967</td>\n",
       "      <td>0_1390</td>\n",
       "      <td>2021-09-24 23:35:40.652636</td>\n",
       "      <td>s_94984</td>\n",
       "      <td>19.37</td>\n",
       "      <td>0</td>\n",
       "    </tr>\n",
       "    <tr>\n",
       "      <th>2</th>\n",
       "      <td>c_4410</td>\n",
       "      <td>f</td>\n",
       "      <td>1967</td>\n",
       "      <td>1_483</td>\n",
       "      <td>2021-03-13 21:35:55.949042</td>\n",
       "      <td>s_5913</td>\n",
       "      <td>15.99</td>\n",
       "      <td>1</td>\n",
       "    </tr>\n",
       "    <tr>\n",
       "      <th>3</th>\n",
       "      <td>c_4410</td>\n",
       "      <td>f</td>\n",
       "      <td>1967</td>\n",
       "      <td>1_267</td>\n",
       "      <td>2021-09-24 23:15:59.919591</td>\n",
       "      <td>s_94984</td>\n",
       "      <td>27.99</td>\n",
       "      <td>1</td>\n",
       "    </tr>\n",
       "    <tr>\n",
       "      <th>4</th>\n",
       "      <td>c_4410</td>\n",
       "      <td>f</td>\n",
       "      <td>1967</td>\n",
       "      <td>1_395</td>\n",
       "      <td>2021-09-24 23:57:35.138518</td>\n",
       "      <td>s_94984</td>\n",
       "      <td>28.99</td>\n",
       "      <td>1</td>\n",
       "    </tr>\n",
       "  </tbody>\n",
       "</table>\n",
       "</div>"
      ],
      "text/plain": [
       "  client_id sex  birth id_prod                       date session_id  price  \\\n",
       "0    c_4410   f   1967  0_1420 2021-03-22 22:31:25.825764    s_10092  11.53   \n",
       "1    c_4410   f   1967  0_1390 2021-09-24 23:35:40.652636    s_94984  19.37   \n",
       "2    c_4410   f   1967   1_483 2021-03-13 21:35:55.949042     s_5913  15.99   \n",
       "3    c_4410   f   1967   1_267 2021-09-24 23:15:59.919591    s_94984  27.99   \n",
       "4    c_4410   f   1967   1_395 2021-09-24 23:57:35.138518    s_94984  28.99   \n",
       "\n",
       "   categ  \n",
       "0      0  \n",
       "1      0  \n",
       "2      1  \n",
       "3      1  \n",
       "4      1  "
      ]
     },
     "execution_count": 151,
     "metadata": {},
     "output_type": "execute_result"
    }
   ],
   "source": [
    "#Analyser les differents comportements des consommateurs\n",
    "df1=pd.merge(df_customers,df_transactions1_products)\n",
    "df1.head()\n"
   ]
  },
  {
   "cell_type": "code",
   "execution_count": 152,
   "id": "b159bf97",
   "metadata": {},
   "outputs": [],
   "source": [
    "fidelisation=df1.groupby('client_id').count().reset_index()"
   ]
  },
  {
   "cell_type": "code",
   "execution_count": 153,
   "id": "0fe07920",
   "metadata": {},
   "outputs": [
    {
     "data": {
      "text/html": [
       "<div>\n",
       "<style scoped>\n",
       "    .dataframe tbody tr th:only-of-type {\n",
       "        vertical-align: middle;\n",
       "    }\n",
       "\n",
       "    .dataframe tbody tr th {\n",
       "        vertical-align: top;\n",
       "    }\n",
       "\n",
       "    .dataframe thead th {\n",
       "        text-align: right;\n",
       "    }\n",
       "</style>\n",
       "<table border=\"1\" class=\"dataframe\">\n",
       "  <thead>\n",
       "    <tr style=\"text-align: right;\">\n",
       "      <th></th>\n",
       "      <th>client_id</th>\n",
       "      <th>sex</th>\n",
       "      <th>birth</th>\n",
       "      <th>id_prod</th>\n",
       "      <th>date</th>\n",
       "      <th>session_id</th>\n",
       "      <th>price</th>\n",
       "      <th>categ</th>\n",
       "    </tr>\n",
       "  </thead>\n",
       "  <tbody>\n",
       "    <tr>\n",
       "      <th>0</th>\n",
       "      <td>c_1</td>\n",
       "      <td>19</td>\n",
       "      <td>19</td>\n",
       "      <td>19</td>\n",
       "      <td>19</td>\n",
       "      <td>19</td>\n",
       "      <td>19</td>\n",
       "      <td>19</td>\n",
       "    </tr>\n",
       "    <tr>\n",
       "      <th>1</th>\n",
       "      <td>c_10</td>\n",
       "      <td>28</td>\n",
       "      <td>28</td>\n",
       "      <td>28</td>\n",
       "      <td>28</td>\n",
       "      <td>28</td>\n",
       "      <td>28</td>\n",
       "      <td>28</td>\n",
       "    </tr>\n",
       "    <tr>\n",
       "      <th>2</th>\n",
       "      <td>c_100</td>\n",
       "      <td>6</td>\n",
       "      <td>6</td>\n",
       "      <td>6</td>\n",
       "      <td>6</td>\n",
       "      <td>6</td>\n",
       "      <td>6</td>\n",
       "      <td>6</td>\n",
       "    </tr>\n",
       "    <tr>\n",
       "      <th>3</th>\n",
       "      <td>c_1000</td>\n",
       "      <td>53</td>\n",
       "      <td>53</td>\n",
       "      <td>53</td>\n",
       "      <td>53</td>\n",
       "      <td>53</td>\n",
       "      <td>53</td>\n",
       "      <td>53</td>\n",
       "    </tr>\n",
       "    <tr>\n",
       "      <th>4</th>\n",
       "      <td>c_1001</td>\n",
       "      <td>51</td>\n",
       "      <td>51</td>\n",
       "      <td>51</td>\n",
       "      <td>51</td>\n",
       "      <td>51</td>\n",
       "      <td>51</td>\n",
       "      <td>51</td>\n",
       "    </tr>\n",
       "    <tr>\n",
       "      <th>...</th>\n",
       "      <td>...</td>\n",
       "      <td>...</td>\n",
       "      <td>...</td>\n",
       "      <td>...</td>\n",
       "      <td>...</td>\n",
       "      <td>...</td>\n",
       "      <td>...</td>\n",
       "      <td>...</td>\n",
       "    </tr>\n",
       "    <tr>\n",
       "      <th>8589</th>\n",
       "      <td>c_995</td>\n",
       "      <td>8</td>\n",
       "      <td>8</td>\n",
       "      <td>8</td>\n",
       "      <td>8</td>\n",
       "      <td>8</td>\n",
       "      <td>8</td>\n",
       "      <td>8</td>\n",
       "    </tr>\n",
       "    <tr>\n",
       "      <th>8590</th>\n",
       "      <td>c_996</td>\n",
       "      <td>41</td>\n",
       "      <td>41</td>\n",
       "      <td>41</td>\n",
       "      <td>41</td>\n",
       "      <td>41</td>\n",
       "      <td>41</td>\n",
       "      <td>41</td>\n",
       "    </tr>\n",
       "    <tr>\n",
       "      <th>8591</th>\n",
       "      <td>c_997</td>\n",
       "      <td>22</td>\n",
       "      <td>22</td>\n",
       "      <td>22</td>\n",
       "      <td>22</td>\n",
       "      <td>22</td>\n",
       "      <td>22</td>\n",
       "      <td>22</td>\n",
       "    </tr>\n",
       "    <tr>\n",
       "      <th>8592</th>\n",
       "      <td>c_998</td>\n",
       "      <td>28</td>\n",
       "      <td>28</td>\n",
       "      <td>28</td>\n",
       "      <td>28</td>\n",
       "      <td>28</td>\n",
       "      <td>28</td>\n",
       "      <td>28</td>\n",
       "    </tr>\n",
       "    <tr>\n",
       "      <th>8593</th>\n",
       "      <td>c_999</td>\n",
       "      <td>20</td>\n",
       "      <td>20</td>\n",
       "      <td>20</td>\n",
       "      <td>20</td>\n",
       "      <td>20</td>\n",
       "      <td>20</td>\n",
       "      <td>20</td>\n",
       "    </tr>\n",
       "  </tbody>\n",
       "</table>\n",
       "<p>8594 rows × 8 columns</p>\n",
       "</div>"
      ],
      "text/plain": [
       "     client_id  sex  birth  id_prod  date  session_id  price  categ\n",
       "0          c_1   19     19       19    19          19     19     19\n",
       "1         c_10   28     28       28    28          28     28     28\n",
       "2        c_100    6      6        6     6           6      6      6\n",
       "3       c_1000   53     53       53    53          53     53     53\n",
       "4       c_1001   51     51       51    51          51     51     51\n",
       "...        ...  ...    ...      ...   ...         ...    ...    ...\n",
       "8589     c_995    8      8        8     8           8      8      8\n",
       "8590     c_996   41     41       41    41          41     41     41\n",
       "8591     c_997   22     22       22    22          22     22     22\n",
       "8592     c_998   28     28       28    28          28     28     28\n",
       "8593     c_999   20     20       20    20          20     20     20\n",
       "\n",
       "[8594 rows x 8 columns]"
      ]
     },
     "execution_count": 153,
     "metadata": {},
     "output_type": "execute_result"
    }
   ],
   "source": [
    "fidelisation"
   ]
  },
  {
   "cell_type": "code",
   "execution_count": 154,
   "id": "a5767fd1",
   "metadata": {},
   "outputs": [],
   "source": [
    "fidelisation['nb_transaction']=fidelisation.session_id"
   ]
  },
  {
   "cell_type": "code",
   "execution_count": 155,
   "id": "1991df5f",
   "metadata": {},
   "outputs": [
    {
     "data": {
      "text/html": [
       "<div>\n",
       "<style scoped>\n",
       "    .dataframe tbody tr th:only-of-type {\n",
       "        vertical-align: middle;\n",
       "    }\n",
       "\n",
       "    .dataframe tbody tr th {\n",
       "        vertical-align: top;\n",
       "    }\n",
       "\n",
       "    .dataframe thead th {\n",
       "        text-align: right;\n",
       "    }\n",
       "</style>\n",
       "<table border=\"1\" class=\"dataframe\">\n",
       "  <thead>\n",
       "    <tr style=\"text-align: right;\">\n",
       "      <th></th>\n",
       "      <th>client_id</th>\n",
       "      <th>sex</th>\n",
       "      <th>birth</th>\n",
       "      <th>id_prod</th>\n",
       "      <th>date</th>\n",
       "      <th>session_id</th>\n",
       "      <th>price</th>\n",
       "      <th>categ</th>\n",
       "      <th>nb_transaction</th>\n",
       "    </tr>\n",
       "  </thead>\n",
       "  <tbody>\n",
       "    <tr>\n",
       "      <th>0</th>\n",
       "      <td>c_1</td>\n",
       "      <td>19</td>\n",
       "      <td>19</td>\n",
       "      <td>19</td>\n",
       "      <td>19</td>\n",
       "      <td>19</td>\n",
       "      <td>19</td>\n",
       "      <td>19</td>\n",
       "      <td>19</td>\n",
       "    </tr>\n",
       "    <tr>\n",
       "      <th>1</th>\n",
       "      <td>c_10</td>\n",
       "      <td>28</td>\n",
       "      <td>28</td>\n",
       "      <td>28</td>\n",
       "      <td>28</td>\n",
       "      <td>28</td>\n",
       "      <td>28</td>\n",
       "      <td>28</td>\n",
       "      <td>28</td>\n",
       "    </tr>\n",
       "    <tr>\n",
       "      <th>2</th>\n",
       "      <td>c_100</td>\n",
       "      <td>6</td>\n",
       "      <td>6</td>\n",
       "      <td>6</td>\n",
       "      <td>6</td>\n",
       "      <td>6</td>\n",
       "      <td>6</td>\n",
       "      <td>6</td>\n",
       "      <td>6</td>\n",
       "    </tr>\n",
       "    <tr>\n",
       "      <th>3</th>\n",
       "      <td>c_1000</td>\n",
       "      <td>53</td>\n",
       "      <td>53</td>\n",
       "      <td>53</td>\n",
       "      <td>53</td>\n",
       "      <td>53</td>\n",
       "      <td>53</td>\n",
       "      <td>53</td>\n",
       "      <td>53</td>\n",
       "    </tr>\n",
       "    <tr>\n",
       "      <th>4</th>\n",
       "      <td>c_1001</td>\n",
       "      <td>51</td>\n",
       "      <td>51</td>\n",
       "      <td>51</td>\n",
       "      <td>51</td>\n",
       "      <td>51</td>\n",
       "      <td>51</td>\n",
       "      <td>51</td>\n",
       "      <td>51</td>\n",
       "    </tr>\n",
       "    <tr>\n",
       "      <th>...</th>\n",
       "      <td>...</td>\n",
       "      <td>...</td>\n",
       "      <td>...</td>\n",
       "      <td>...</td>\n",
       "      <td>...</td>\n",
       "      <td>...</td>\n",
       "      <td>...</td>\n",
       "      <td>...</td>\n",
       "      <td>...</td>\n",
       "    </tr>\n",
       "    <tr>\n",
       "      <th>8589</th>\n",
       "      <td>c_995</td>\n",
       "      <td>8</td>\n",
       "      <td>8</td>\n",
       "      <td>8</td>\n",
       "      <td>8</td>\n",
       "      <td>8</td>\n",
       "      <td>8</td>\n",
       "      <td>8</td>\n",
       "      <td>8</td>\n",
       "    </tr>\n",
       "    <tr>\n",
       "      <th>8590</th>\n",
       "      <td>c_996</td>\n",
       "      <td>41</td>\n",
       "      <td>41</td>\n",
       "      <td>41</td>\n",
       "      <td>41</td>\n",
       "      <td>41</td>\n",
       "      <td>41</td>\n",
       "      <td>41</td>\n",
       "      <td>41</td>\n",
       "    </tr>\n",
       "    <tr>\n",
       "      <th>8591</th>\n",
       "      <td>c_997</td>\n",
       "      <td>22</td>\n",
       "      <td>22</td>\n",
       "      <td>22</td>\n",
       "      <td>22</td>\n",
       "      <td>22</td>\n",
       "      <td>22</td>\n",
       "      <td>22</td>\n",
       "      <td>22</td>\n",
       "    </tr>\n",
       "    <tr>\n",
       "      <th>8592</th>\n",
       "      <td>c_998</td>\n",
       "      <td>28</td>\n",
       "      <td>28</td>\n",
       "      <td>28</td>\n",
       "      <td>28</td>\n",
       "      <td>28</td>\n",
       "      <td>28</td>\n",
       "      <td>28</td>\n",
       "      <td>28</td>\n",
       "    </tr>\n",
       "    <tr>\n",
       "      <th>8593</th>\n",
       "      <td>c_999</td>\n",
       "      <td>20</td>\n",
       "      <td>20</td>\n",
       "      <td>20</td>\n",
       "      <td>20</td>\n",
       "      <td>20</td>\n",
       "      <td>20</td>\n",
       "      <td>20</td>\n",
       "      <td>20</td>\n",
       "    </tr>\n",
       "  </tbody>\n",
       "</table>\n",
       "<p>8594 rows × 9 columns</p>\n",
       "</div>"
      ],
      "text/plain": [
       "     client_id  sex  birth  id_prod  date  session_id  price  categ  \\\n",
       "0          c_1   19     19       19    19          19     19     19   \n",
       "1         c_10   28     28       28    28          28     28     28   \n",
       "2        c_100    6      6        6     6           6      6      6   \n",
       "3       c_1000   53     53       53    53          53     53     53   \n",
       "4       c_1001   51     51       51    51          51     51     51   \n",
       "...        ...  ...    ...      ...   ...         ...    ...    ...   \n",
       "8589     c_995    8      8        8     8           8      8      8   \n",
       "8590     c_996   41     41       41    41          41     41     41   \n",
       "8591     c_997   22     22       22    22          22     22     22   \n",
       "8592     c_998   28     28       28    28          28     28     28   \n",
       "8593     c_999   20     20       20    20          20     20     20   \n",
       "\n",
       "      nb_transaction  \n",
       "0                 19  \n",
       "1                 28  \n",
       "2                  6  \n",
       "3                 53  \n",
       "4                 51  \n",
       "...              ...  \n",
       "8589               8  \n",
       "8590              41  \n",
       "8591              22  \n",
       "8592              28  \n",
       "8593              20  \n",
       "\n",
       "[8594 rows x 9 columns]"
      ]
     },
     "execution_count": 155,
     "metadata": {},
     "output_type": "execute_result"
    }
   ],
   "source": [
    "fidelisation"
   ]
  },
  {
   "cell_type": "code",
   "execution_count": 156,
   "id": "37ad3f05",
   "metadata": {},
   "outputs": [
    {
     "data": {
      "text/html": [
       "<div>\n",
       "<style scoped>\n",
       "    .dataframe tbody tr th:only-of-type {\n",
       "        vertical-align: middle;\n",
       "    }\n",
       "\n",
       "    .dataframe tbody tr th {\n",
       "        vertical-align: top;\n",
       "    }\n",
       "\n",
       "    .dataframe thead th {\n",
       "        text-align: right;\n",
       "    }\n",
       "</style>\n",
       "<table border=\"1\" class=\"dataframe\">\n",
       "  <thead>\n",
       "    <tr style=\"text-align: right;\">\n",
       "      <th></th>\n",
       "      <th>client_id</th>\n",
       "      <th>nb_transaction</th>\n",
       "    </tr>\n",
       "  </thead>\n",
       "  <tbody>\n",
       "    <tr>\n",
       "      <th>0</th>\n",
       "      <td>c_1</td>\n",
       "      <td>19</td>\n",
       "    </tr>\n",
       "    <tr>\n",
       "      <th>1</th>\n",
       "      <td>c_10</td>\n",
       "      <td>28</td>\n",
       "    </tr>\n",
       "    <tr>\n",
       "      <th>2</th>\n",
       "      <td>c_100</td>\n",
       "      <td>6</td>\n",
       "    </tr>\n",
       "    <tr>\n",
       "      <th>3</th>\n",
       "      <td>c_1000</td>\n",
       "      <td>53</td>\n",
       "    </tr>\n",
       "    <tr>\n",
       "      <th>4</th>\n",
       "      <td>c_1001</td>\n",
       "      <td>51</td>\n",
       "    </tr>\n",
       "  </tbody>\n",
       "</table>\n",
       "</div>"
      ],
      "text/plain": [
       "  client_id  nb_transaction\n",
       "0       c_1              19\n",
       "1      c_10              28\n",
       "2     c_100               6\n",
       "3    c_1000              53\n",
       "4    c_1001              51"
      ]
     },
     "execution_count": 156,
     "metadata": {},
     "output_type": "execute_result"
    }
   ],
   "source": [
    "fidelisation = fidelisation[['client_id', 'nb_transaction']]\n",
    "fidelisation.head()"
   ]
  },
  {
   "cell_type": "code",
   "execution_count": 157,
   "id": "8eceacbb",
   "metadata": {},
   "outputs": [
    {
     "data": {
      "text/plain": [
       "(8594, 2)"
      ]
     },
     "execution_count": 157,
     "metadata": {},
     "output_type": "execute_result"
    }
   ],
   "source": [
    "fidelisation.shape"
   ]
  },
  {
   "cell_type": "code",
   "execution_count": 158,
   "id": "12ee2ff0",
   "metadata": {},
   "outputs": [
    {
     "data": {
      "text/plain": [
       "8548"
      ]
     },
     "execution_count": 158,
     "metadata": {},
     "output_type": "execute_result"
    }
   ],
   "source": [
    "#Client qui passer plus de 1 commande \n",
    "fidelisation[fidelisation['nb_transaction']>1].shape[0]"
   ]
  },
  {
   "cell_type": "code",
   "execution_count": 159,
   "id": "f13c5792",
   "metadata": {},
   "outputs": [
    {
     "data": {
      "text/plain": [
       "46"
      ]
     },
     "execution_count": 159,
     "metadata": {},
     "output_type": "execute_result"
    }
   ],
   "source": [
    "fidelisation[fidelisation['nb_transaction'] ==1].shape[0]"
   ]
  },
  {
   "cell_type": "code",
   "execution_count": 160,
   "id": "94f5923f",
   "metadata": {},
   "outputs": [
    {
     "data": {
      "text/plain": [
       "99"
      ]
     },
     "execution_count": 160,
     "metadata": {},
     "output_type": "execute_result"
    }
   ],
   "source": [
    "fidelisation[fidelisation['nb_transaction']==2].shape[0]\n"
   ]
  },
  {
   "cell_type": "code",
   "execution_count": 161,
   "id": "419bfb04",
   "metadata": {},
   "outputs": [
    {
     "data": {
      "text/html": [
       "<div>\n",
       "<style scoped>\n",
       "    .dataframe tbody tr th:only-of-type {\n",
       "        vertical-align: middle;\n",
       "    }\n",
       "\n",
       "    .dataframe tbody tr th {\n",
       "        vertical-align: top;\n",
       "    }\n",
       "\n",
       "    .dataframe thead th {\n",
       "        text-align: right;\n",
       "    }\n",
       "</style>\n",
       "<table border=\"1\" class=\"dataframe\">\n",
       "  <thead>\n",
       "    <tr style=\"text-align: right;\">\n",
       "      <th></th>\n",
       "      <th>client_id</th>\n",
       "      <th>sex</th>\n",
       "      <th>birth</th>\n",
       "      <th>id_prod</th>\n",
       "      <th>date</th>\n",
       "      <th>session_id</th>\n",
       "      <th>price</th>\n",
       "      <th>categ</th>\n",
       "      <th>count</th>\n",
       "      <th>client_cumul</th>\n",
       "    </tr>\n",
       "  </thead>\n",
       "  <tbody>\n",
       "    <tr>\n",
       "      <th>237144</th>\n",
       "      <td>c_5277</td>\n",
       "      <td>m</td>\n",
       "      <td>1976</td>\n",
       "      <td>0_202</td>\n",
       "      <td>2021-03-05 17:06:24.511487</td>\n",
       "      <td>s_2176</td>\n",
       "      <td>0.62</td>\n",
       "      <td>0</td>\n",
       "      <td>1</td>\n",
       "      <td>1</td>\n",
       "    </tr>\n",
       "    <tr>\n",
       "      <th>209299</th>\n",
       "      <td>c_1367</td>\n",
       "      <td>f</td>\n",
       "      <td>1984</td>\n",
       "      <td>0_202</td>\n",
       "      <td>2021-08-02 23:27:31.721723</td>\n",
       "      <td>s_70595</td>\n",
       "      <td>0.62</td>\n",
       "      <td>0</td>\n",
       "      <td>1</td>\n",
       "      <td>2</td>\n",
       "    </tr>\n",
       "    <tr>\n",
       "      <th>6452</th>\n",
       "      <td>c_7075</td>\n",
       "      <td>m</td>\n",
       "      <td>1988</td>\n",
       "      <td>0_528</td>\n",
       "      <td>2021-06-20 20:31:40.948364</td>\n",
       "      <td>s_51439</td>\n",
       "      <td>0.62</td>\n",
       "      <td>0</td>\n",
       "      <td>1</td>\n",
       "      <td>3</td>\n",
       "    </tr>\n",
       "    <tr>\n",
       "      <th>231092</th>\n",
       "      <td>c_5510</td>\n",
       "      <td>f</td>\n",
       "      <td>1941</td>\n",
       "      <td>0_202</td>\n",
       "      <td>2021-05-14 15:26:20.597059</td>\n",
       "      <td>s_34456</td>\n",
       "      <td>0.62</td>\n",
       "      <td>0</td>\n",
       "      <td>1</td>\n",
       "      <td>4</td>\n",
       "    </tr>\n",
       "    <tr>\n",
       "      <th>25387</th>\n",
       "      <td>c_3297</td>\n",
       "      <td>f</td>\n",
       "      <td>1975</td>\n",
       "      <td>0_202</td>\n",
       "      <td>2021-04-08 17:47:18.158963</td>\n",
       "      <td>s_17806</td>\n",
       "      <td>0.62</td>\n",
       "      <td>0</td>\n",
       "      <td>1</td>\n",
       "      <td>5</td>\n",
       "    </tr>\n",
       "    <tr>\n",
       "      <th>...</th>\n",
       "      <td>...</td>\n",
       "      <td>...</td>\n",
       "      <td>...</td>\n",
       "      <td>...</td>\n",
       "      <td>...</td>\n",
       "      <td>...</td>\n",
       "      <td>...</td>\n",
       "      <td>...</td>\n",
       "      <td>...</td>\n",
       "      <td>...</td>\n",
       "    </tr>\n",
       "    <tr>\n",
       "      <th>157217</th>\n",
       "      <td>c_659</td>\n",
       "      <td>f</td>\n",
       "      <td>2001</td>\n",
       "      <td>2_2</td>\n",
       "      <td>2022-02-28 21:24:28.442508</td>\n",
       "      <td>s_172373</td>\n",
       "      <td>300.00</td>\n",
       "      <td>2</td>\n",
       "      <td>1</td>\n",
       "      <td>292282</td>\n",
       "    </tr>\n",
       "    <tr>\n",
       "      <th>198707</th>\n",
       "      <td>c_2467</td>\n",
       "      <td>f</td>\n",
       "      <td>1997</td>\n",
       "      <td>2_2</td>\n",
       "      <td>2021-06-06 23:14:33.815188</td>\n",
       "      <td>s_45088</td>\n",
       "      <td>300.00</td>\n",
       "      <td>2</td>\n",
       "      <td>1</td>\n",
       "      <td>292283</td>\n",
       "    </tr>\n",
       "    <tr>\n",
       "      <th>82679</th>\n",
       "      <td>c_2329</td>\n",
       "      <td>f</td>\n",
       "      <td>1996</td>\n",
       "      <td>2_2</td>\n",
       "      <td>2021-05-02 18:34:47.753888</td>\n",
       "      <td>s_28956</td>\n",
       "      <td>300.00</td>\n",
       "      <td>2</td>\n",
       "      <td>1</td>\n",
       "      <td>292284</td>\n",
       "    </tr>\n",
       "    <tr>\n",
       "      <th>116995</th>\n",
       "      <td>c_1001</td>\n",
       "      <td>m</td>\n",
       "      <td>1982</td>\n",
       "      <td>2_2</td>\n",
       "      <td>2021-03-07 14:07:31.004391</td>\n",
       "      <td>s_3041</td>\n",
       "      <td>300.00</td>\n",
       "      <td>2</td>\n",
       "      <td>1</td>\n",
       "      <td>292285</td>\n",
       "    </tr>\n",
       "    <tr>\n",
       "      <th>91837</th>\n",
       "      <td>c_5237</td>\n",
       "      <td>m</td>\n",
       "      <td>1999</td>\n",
       "      <td>2_2</td>\n",
       "      <td>2021-06-12 08:44:00.882917</td>\n",
       "      <td>s_47558</td>\n",
       "      <td>300.00</td>\n",
       "      <td>2</td>\n",
       "      <td>1</td>\n",
       "      <td>292286</td>\n",
       "    </tr>\n",
       "  </tbody>\n",
       "</table>\n",
       "<p>292286 rows × 10 columns</p>\n",
       "</div>"
      ],
      "text/plain": [
       "       client_id sex  birth id_prod                       date session_id  \\\n",
       "237144    c_5277   m   1976   0_202 2021-03-05 17:06:24.511487     s_2176   \n",
       "209299    c_1367   f   1984   0_202 2021-08-02 23:27:31.721723    s_70595   \n",
       "6452      c_7075   m   1988   0_528 2021-06-20 20:31:40.948364    s_51439   \n",
       "231092    c_5510   f   1941   0_202 2021-05-14 15:26:20.597059    s_34456   \n",
       "25387     c_3297   f   1975   0_202 2021-04-08 17:47:18.158963    s_17806   \n",
       "...          ...  ..    ...     ...                        ...        ...   \n",
       "157217     c_659   f   2001     2_2 2022-02-28 21:24:28.442508   s_172373   \n",
       "198707    c_2467   f   1997     2_2 2021-06-06 23:14:33.815188    s_45088   \n",
       "82679     c_2329   f   1996     2_2 2021-05-02 18:34:47.753888    s_28956   \n",
       "116995    c_1001   m   1982     2_2 2021-03-07 14:07:31.004391     s_3041   \n",
       "91837     c_5237   m   1999     2_2 2021-06-12 08:44:00.882917    s_47558   \n",
       "\n",
       "         price  categ  count  client_cumul  \n",
       "237144    0.62      0      1             1  \n",
       "209299    0.62      0      1             2  \n",
       "6452      0.62      0      1             3  \n",
       "231092    0.62      0      1             4  \n",
       "25387     0.62      0      1             5  \n",
       "...        ...    ...    ...           ...  \n",
       "157217  300.00      2      1        292282  \n",
       "198707  300.00      2      1        292283  \n",
       "82679   300.00      2      1        292284  \n",
       "116995  300.00      2      1        292285  \n",
       "91837   300.00      2      1        292286  \n",
       "\n",
       "[292286 rows x 10 columns]"
      ]
     },
     "execution_count": 161,
     "metadata": {},
     "output_type": "execute_result"
    }
   ],
   "source": [
    "df2 = df1.groupby('client_id').sum().reset_index()\n",
    "df2 = df1.sort_values(by='price')\n",
    "df2['count']=1\n",
    "df2['client_cumul']=df2['count'].cumsum()\n",
    "df2"
   ]
  },
  {
   "cell_type": "code",
   "execution_count": 162,
   "id": "66cf48e8",
   "metadata": {},
   "outputs": [
    {
     "name": "stdout",
     "output_type": "stream",
     "text": [
      "Indice de Gini :  0.3333321928978239\n"
     ]
    }
   ],
   "source": [
    "#indice de geni\n",
    "\n",
    "def gini(arr):\n",
    "    ## first sort\n",
    "    sorted_arr = arr.copy()\n",
    "    sorted_arr.sort()\n",
    "    n = arr.size\n",
    "    coef_ = 2. / n\n",
    "    const_ = (n + 1.) / n\n",
    "    weighted_sum = sum([(i+1)*yi for i, yi in enumerate(sorted_arr)])\n",
    "    return coef_*weighted_sum/(sorted_arr.sum()) - const_\n",
    "\n",
    "X = np.array(df2['client_cumul'])\n",
    "print('Indice de Gini : ', gini(X))"
   ]
  },
  {
   "cell_type": "code",
   "execution_count": 163,
   "id": "359fffcf",
   "metadata": {},
   "outputs": [
    {
     "data": {
      "image/png": "[encoded data removed]",
      "text/plain": [
       "<Figure size 720x720 with 1 Axes>"
      ]
     },
     "metadata": {
      "needs_background": "light"
     },
     "output_type": "display_data"
    }
   ],
   "source": [
    "#courbe de lorenz\n",
    "\n",
    "\n",
    "\n",
    "X_lorenz = X.cumsum() / X.sum()\n",
    "X_lorenz = np.insert(X_lorenz, 0, 0)\n",
    "X_lorenz[0], X_lorenz[-1]\n",
    "\n",
    "fig, ax = plt.subplots(figsize=[10,10])\n",
    "_ = ax.plot(np.arange(X_lorenz.size)/(X_lorenz.size-1), X_lorenz, color='red', label='ventes')\n",
    "_ = ax.plot([0,1], [0,1], color='k', label='bissectrice')\n",
    "_ = plt.vlines(x=0.71, ymin=0, ymax=0.5, color='green', linestyle='-', linewidth=1, label='Median')\n",
    "_ = plt.hlines(xmin=0.71, xmax=0, y=0.5, color='green', linestyle='-', linewidth=1)\n",
    "_ = plt.xlabel('client cumulé')\n",
    "_ = plt.ylabel(\"chiffre d'affaire\")\n",
    "_ = plt.title(\"Répartition du nombre de client cumulé  en fonction du chiffre d'affaire\")\n",
    "_ = plt.legend()\n",
    "\n",
    "_ \n",
    "\n",
    "_ = plt.show()"
   ]
  },
  {
   "cell_type": "code",
   "execution_count": 164,
   "id": "3fbbb684",
   "metadata": {},
   "outputs": [],
   "source": [
    "#Analyse du comportement via les catégories de produit\n",
    "#produit vendu par categorie\n",
    "Interet_client=df1.groupby('categ').count().reset_index()"
   ]
  },
  {
   "cell_type": "code",
   "execution_count": 165,
   "id": "f12e8f4e",
   "metadata": {},
   "outputs": [
    {
     "data": {
      "text/html": [
       "<div>\n",
       "<style scoped>\n",
       "    .dataframe tbody tr th:only-of-type {\n",
       "        vertical-align: middle;\n",
       "    }\n",
       "\n",
       "    .dataframe tbody tr th {\n",
       "        vertical-align: top;\n",
       "    }\n",
       "\n",
       "    .dataframe thead th {\n",
       "        text-align: right;\n",
       "    }\n",
       "</style>\n",
       "<table border=\"1\" class=\"dataframe\">\n",
       "  <thead>\n",
       "    <tr style=\"text-align: right;\">\n",
       "      <th></th>\n",
       "      <th>categ</th>\n",
       "      <th>client_id</th>\n",
       "      <th>sex</th>\n",
       "      <th>birth</th>\n",
       "      <th>id_prod</th>\n",
       "      <th>date</th>\n",
       "      <th>session_id</th>\n",
       "      <th>price</th>\n",
       "    </tr>\n",
       "  </thead>\n",
       "  <tbody>\n",
       "    <tr>\n",
       "      <th>0</th>\n",
       "      <td>0</td>\n",
       "      <td>176873</td>\n",
       "      <td>176873</td>\n",
       "      <td>176873</td>\n",
       "      <td>176873</td>\n",
       "      <td>176873</td>\n",
       "      <td>176873</td>\n",
       "      <td>176873</td>\n",
       "    </tr>\n",
       "    <tr>\n",
       "      <th>1</th>\n",
       "      <td>1</td>\n",
       "      <td>100731</td>\n",
       "      <td>100731</td>\n",
       "      <td>100731</td>\n",
       "      <td>100731</td>\n",
       "      <td>100731</td>\n",
       "      <td>100731</td>\n",
       "      <td>100731</td>\n",
       "    </tr>\n",
       "    <tr>\n",
       "      <th>2</th>\n",
       "      <td>2</td>\n",
       "      <td>14682</td>\n",
       "      <td>14682</td>\n",
       "      <td>14682</td>\n",
       "      <td>14682</td>\n",
       "      <td>14682</td>\n",
       "      <td>14682</td>\n",
       "      <td>14682</td>\n",
       "    </tr>\n",
       "  </tbody>\n",
       "</table>\n",
       "</div>"
      ],
      "text/plain": [
       "   categ  client_id     sex   birth  id_prod    date  session_id   price\n",
       "0      0     176873  176873  176873   176873  176873      176873  176873\n",
       "1      1     100731  100731  100731   100731  100731      100731  100731\n",
       "2      2      14682   14682   14682    14682   14682       14682   14682"
      ]
     },
     "execution_count": 165,
     "metadata": {},
     "output_type": "execute_result"
    }
   ],
   "source": [
    "Interet_client"
   ]
  },
  {
   "cell_type": "code",
   "execution_count": 166,
   "id": "368a3bb7",
   "metadata": {},
   "outputs": [
    {
     "data": {
      "text/html": [
       "<div>\n",
       "<style scoped>\n",
       "    .dataframe tbody tr th:only-of-type {\n",
       "        vertical-align: middle;\n",
       "    }\n",
       "\n",
       "    .dataframe tbody tr th {\n",
       "        vertical-align: top;\n",
       "    }\n",
       "\n",
       "    .dataframe thead th {\n",
       "        text-align: right;\n",
       "    }\n",
       "</style>\n",
       "<table border=\"1\" class=\"dataframe\">\n",
       "  <thead>\n",
       "    <tr style=\"text-align: right;\">\n",
       "      <th></th>\n",
       "      <th>categ</th>\n",
       "      <th>price</th>\n",
       "    </tr>\n",
       "  </thead>\n",
       "  <tbody>\n",
       "    <tr>\n",
       "      <th>0</th>\n",
       "      <td>0</td>\n",
       "      <td>1.883449e+06</td>\n",
       "    </tr>\n",
       "    <tr>\n",
       "      <th>1</th>\n",
       "      <td>1</td>\n",
       "      <td>2.063146e+06</td>\n",
       "    </tr>\n",
       "    <tr>\n",
       "      <th>2</th>\n",
       "      <td>2</td>\n",
       "      <td>1.104011e+06</td>\n",
       "    </tr>\n",
       "  </tbody>\n",
       "</table>\n",
       "</div>"
      ],
      "text/plain": [
       "   categ         price\n",
       "0      0  1.883449e+06\n",
       "1      1  2.063146e+06\n",
       "2      2  1.104011e+06"
      ]
     },
     "execution_count": 166,
     "metadata": {},
     "output_type": "execute_result"
    }
   ],
   "source": [
    "#chiffre d'affaire par categorie \n",
    "CA_categ=df1.groupby('categ').price.sum().reset_index()\n",
    "CA_categ"
   ]
  },
  {
   "cell_type": "markdown",
   "id": "91f73323",
   "metadata": {},
   "source": [
    "# Mission 3"
   ]
  },
  {
   "cell_type": "markdown",
   "id": "e614a7d1",
   "metadata": {},
   "source": [
    "# Y a-t-il une corrélation entre le sexe des clients et les catégories de produits achetés ?"
   ]
  },
  {
   "cell_type": "code",
   "execution_count": 167,
   "id": "47bd65d8",
   "metadata": {},
   "outputs": [
    {
     "data": {
      "text/html": [
       "<div>\n",
       "<style scoped>\n",
       "    .dataframe tbody tr th:only-of-type {\n",
       "        vertical-align: middle;\n",
       "    }\n",
       "\n",
       "    .dataframe tbody tr th {\n",
       "        vertical-align: top;\n",
       "    }\n",
       "\n",
       "    .dataframe thead th {\n",
       "        text-align: right;\n",
       "    }\n",
       "</style>\n",
       "<table border=\"1\" class=\"dataframe\">\n",
       "  <thead>\n",
       "    <tr style=\"text-align: right;\">\n",
       "      <th>categ</th>\n",
       "      <th>0</th>\n",
       "      <th>1</th>\n",
       "      <th>2</th>\n",
       "    </tr>\n",
       "    <tr>\n",
       "      <th>sex</th>\n",
       "      <th></th>\n",
       "      <th></th>\n",
       "      <th></th>\n",
       "    </tr>\n",
       "  </thead>\n",
       "  <tbody>\n",
       "    <tr>\n",
       "      <th>f</th>\n",
       "      <td>91837</td>\n",
       "      <td>52841</td>\n",
       "      <td>7565</td>\n",
       "    </tr>\n",
       "    <tr>\n",
       "      <th>m</th>\n",
       "      <td>85036</td>\n",
       "      <td>47890</td>\n",
       "      <td>7117</td>\n",
       "    </tr>\n",
       "  </tbody>\n",
       "</table>\n",
       "</div>"
      ],
      "text/plain": [
       "categ      0      1     2\n",
       "sex                      \n",
       "f      91837  52841  7565\n",
       "m      85036  47890  7117"
      ]
     },
     "execution_count": 167,
     "metadata": {},
     "output_type": "execute_result"
    }
   ],
   "source": [
    "\n",
    "#Adaptation des  2 variables qualitatives je souhaite étudier en  lignes 1 et 2. Le tableau de contingence se calcule grâce à la méthode  pivot_table\n",
    "X = \"sex\"\n",
    "Y = \"categ\"\n",
    "\n",
    "c= df1[[X,Y]].pivot_table(index=X,columns=Y,aggfunc=len)\n",
    "tx = df1[X].value_counts()\n",
    "ty = df1[Y].value_counts()\n",
    "cont=c.copy()\n",
    "\n",
    "cont"
   ]
  },
  {
   "cell_type": "code",
   "execution_count": 168,
   "id": "9193136b",
   "metadata": {
    "scrolled": true
   },
   "outputs": [],
   "source": [
    "#calcule du tableau indep \n",
    "\n",
    "tx_df1= pd.DataFrame(tx)\n",
    "ty_df1 = pd.DataFrame(ty)\n",
    "\n",
    "tx_df1.columns = [\"s\"]\n",
    "ty_df1.columns = [\"s\"]\n",
    "n = len(df1)\n",
    "indep = (tx_df1.dot(ty_df1.T) / n)\n",
    "\n"
   ]
  },
  {
   "cell_type": "code",
   "execution_count": 169,
   "id": "3f776796",
   "metadata": {},
   "outputs": [
    {
     "data": {
      "text/html": [
       "<div>\n",
       "<style scoped>\n",
       "    .dataframe tbody tr th:only-of-type {\n",
       "        vertical-align: middle;\n",
       "    }\n",
       "\n",
       "    .dataframe tbody tr th {\n",
       "        vertical-align: top;\n",
       "    }\n",
       "\n",
       "    .dataframe thead th {\n",
       "        text-align: right;\n",
       "    }\n",
       "</style>\n",
       "<table border=\"1\" class=\"dataframe\">\n",
       "  <thead>\n",
       "    <tr style=\"text-align: right;\">\n",
       "      <th></th>\n",
       "      <th>0</th>\n",
       "      <th>1</th>\n",
       "      <th>2</th>\n",
       "    </tr>\n",
       "  </thead>\n",
       "  <tbody>\n",
       "    <tr>\n",
       "      <th>f</th>\n",
       "      <td>92127.834173</td>\n",
       "      <td>52467.75293</td>\n",
       "      <td>7647.412897</td>\n",
       "    </tr>\n",
       "    <tr>\n",
       "      <th>m</th>\n",
       "      <td>84745.165827</td>\n",
       "      <td>48263.24707</td>\n",
       "      <td>7034.587103</td>\n",
       "    </tr>\n",
       "  </tbody>\n",
       "</table>\n",
       "</div>"
      ],
      "text/plain": [
       "              0            1            2\n",
       "f  92127.834173  52467.75293  7647.412897\n",
       "m  84745.165827  48263.24707  7034.587103"
      ]
     },
     "execution_count": 169,
     "metadata": {},
     "output_type": "execute_result"
    }
   ],
   "source": [
    "indep"
   ]
  },
  {
   "cell_type": "code",
   "execution_count": 170,
   "id": "ff025904",
   "metadata": {},
   "outputs": [],
   "source": [
    "#measure  contient tous les ξij pour chaque case du tableau. On peut ensuite \n",
    "#calculer les contributions (que nous avons définies plus haut) en divisant chaque ξij par ξn (placé dans la variable xi_n  ). \n",
    "c = cont.fillna(0) # On remplace les valeurs nulles par 0\n",
    "measure = (c-indep)**2/indep\n",
    "#calcule du chi-2\n",
    "xi_n = measure.sum().sum()\n",
    "table = measure/xi_n\n"
   ]
  },
  {
   "cell_type": "code",
   "execution_count": 171,
   "id": "796c2136",
   "metadata": {},
   "outputs": [
    {
     "data": {
      "text/html": [
       "<div>\n",
       "<style scoped>\n",
       "    .dataframe tbody tr th:only-of-type {\n",
       "        vertical-align: middle;\n",
       "    }\n",
       "\n",
       "    .dataframe tbody tr th {\n",
       "        vertical-align: top;\n",
       "    }\n",
       "\n",
       "    .dataframe thead th {\n",
       "        text-align: right;\n",
       "    }\n",
       "</style>\n",
       "<table border=\"1\" class=\"dataframe\">\n",
       "  <thead>\n",
       "    <tr style=\"text-align: right;\">\n",
       "      <th>categ</th>\n",
       "      <th>0</th>\n",
       "      <th>1</th>\n",
       "      <th>2</th>\n",
       "    </tr>\n",
       "    <tr>\n",
       "      <th>sex</th>\n",
       "      <th></th>\n",
       "      <th></th>\n",
       "      <th></th>\n",
       "    </tr>\n",
       "  </thead>\n",
       "  <tbody>\n",
       "    <tr>\n",
       "      <th>f</th>\n",
       "      <td>0.918121</td>\n",
       "      <td>2.655219</td>\n",
       "      <td>0.888129</td>\n",
       "    </tr>\n",
       "    <tr>\n",
       "      <th>m</th>\n",
       "      <td>0.998104</td>\n",
       "      <td>2.886531</td>\n",
       "      <td>0.965499</td>\n",
       "    </tr>\n",
       "  </tbody>\n",
       "</table>\n",
       "</div>"
      ],
      "text/plain": [
       "categ         0         1         2\n",
       "sex                                \n",
       "f      0.918121  2.655219  0.888129\n",
       "m      0.998104  2.886531  0.965499"
      ]
     },
     "execution_count": 171,
     "metadata": {},
     "output_type": "execute_result"
    }
   ],
   "source": [
    "measure"
   ]
  },
  {
   "cell_type": "code",
   "execution_count": 172,
   "id": "1af97210",
   "metadata": {},
   "outputs": [
    {
     "data": {
      "text/plain": [
       "Text(33.0, 0.5, 'Sexe')"
      ]
     },
     "execution_count": 172,
     "metadata": {},
     "output_type": "execute_result"
    },
    {
     "data": {
      "image/png": "[encoded data removed]",
      "text/plain": [
       "<Figure size 432x288 with 2 Axes>"
      ]
     },
     "metadata": {
      "needs_background": "light"
     },
     "output_type": "display_data"
    }
   ],
   "source": [
    "#heatmap\n",
    "sns.heatmap(table, annot=True, linewidths=0.1)\n",
    "\n",
    "plt.title('HeatMap Sexe clients vs Catégorie produits')\n",
    "plt.xlabel('Categ.')\n",
    "plt.ylabel('Sexe')"
   ]
  },
  {
   "cell_type": "code",
   "execution_count": 181,
   "id": "966c1603",
   "metadata": {},
   "outputs": [
    {
     "data": {
      "text/plain": [
       "(9.311603202842303, 2, 0.009506289931424652)"
      ]
     },
     "execution_count": 181,
     "metadata": {},
     "output_type": "execute_result"
    }
   ],
   "source": [
    "chi2, pvalue, degrees, expected = st.chi2_contingency(cont)\n",
    "chi2, degrees, pvalue"
   ]
  },
  {
   "cell_type": "markdown",
   "id": "f0335c1f",
   "metadata": {},
   "source": [
    "# Y a-t-il une corrélation entre l'âge des clients et Le montant total des achats ?"
   ]
  },
  {
   "cell_type": "code",
   "execution_count": 182,
   "id": "1da2da2a",
   "metadata": {},
   "outputs": [],
   "source": [
    "age_price=df1"
   ]
  },
  {
   "cell_type": "code",
   "execution_count": 183,
   "id": "e373b0bc",
   "metadata": {},
   "outputs": [],
   "source": [
    "age_price.loc[((age_price['age']>16) & (age_price['age']<= 30)),'classe_age']='17-30'\n",
    "age_price.loc[((age_price['age']>30) & (age_price['age']<= 50)),'classe_age']='30-50'\n",
    "age_price.loc[((age_price['age']>=51)),'classe_age']='51+'\n"
   ]
  },
  {
   "cell_type": "code",
   "execution_count": 184,
   "id": "cd503818",
   "metadata": {},
   "outputs": [
    {
     "data": {
      "text/html": [
       "<div>\n",
       "<style scoped>\n",
       "    .dataframe tbody tr th:only-of-type {\n",
       "        vertical-align: middle;\n",
       "    }\n",
       "\n",
       "    .dataframe tbody tr th {\n",
       "        vertical-align: top;\n",
       "    }\n",
       "\n",
       "    .dataframe thead th {\n",
       "        text-align: right;\n",
       "    }\n",
       "</style>\n",
       "<table border=\"1\" class=\"dataframe\">\n",
       "  <thead>\n",
       "    <tr style=\"text-align: right;\">\n",
       "      <th></th>\n",
       "      <th>client_id</th>\n",
       "      <th>sex</th>\n",
       "      <th>birth</th>\n",
       "      <th>id_prod</th>\n",
       "      <th>date</th>\n",
       "      <th>session_id</th>\n",
       "      <th>price</th>\n",
       "      <th>categ</th>\n",
       "      <th>age</th>\n",
       "      <th>classe_age</th>\n",
       "    </tr>\n",
       "  </thead>\n",
       "  <tbody>\n",
       "    <tr>\n",
       "      <th>0</th>\n",
       "      <td>c_4410</td>\n",
       "      <td>f</td>\n",
       "      <td>1967</td>\n",
       "      <td>0_1420</td>\n",
       "      <td>2021-03-22 22:31:25.825764</td>\n",
       "      <td>s_10092</td>\n",
       "      <td>11.53</td>\n",
       "      <td>0</td>\n",
       "      <td>54</td>\n",
       "      <td>51+</td>\n",
       "    </tr>\n",
       "    <tr>\n",
       "      <th>1</th>\n",
       "      <td>c_4410</td>\n",
       "      <td>f</td>\n",
       "      <td>1967</td>\n",
       "      <td>0_1390</td>\n",
       "      <td>2021-09-24 23:35:40.652636</td>\n",
       "      <td>s_94984</td>\n",
       "      <td>19.37</td>\n",
       "      <td>0</td>\n",
       "      <td>54</td>\n",
       "      <td>51+</td>\n",
       "    </tr>\n",
       "    <tr>\n",
       "      <th>2</th>\n",
       "      <td>c_4410</td>\n",
       "      <td>f</td>\n",
       "      <td>1967</td>\n",
       "      <td>1_483</td>\n",
       "      <td>2021-03-13 21:35:55.949042</td>\n",
       "      <td>s_5913</td>\n",
       "      <td>15.99</td>\n",
       "      <td>1</td>\n",
       "      <td>54</td>\n",
       "      <td>51+</td>\n",
       "    </tr>\n",
       "    <tr>\n",
       "      <th>3</th>\n",
       "      <td>c_4410</td>\n",
       "      <td>f</td>\n",
       "      <td>1967</td>\n",
       "      <td>1_267</td>\n",
       "      <td>2021-09-24 23:15:59.919591</td>\n",
       "      <td>s_94984</td>\n",
       "      <td>27.99</td>\n",
       "      <td>1</td>\n",
       "      <td>54</td>\n",
       "      <td>51+</td>\n",
       "    </tr>\n",
       "    <tr>\n",
       "      <th>4</th>\n",
       "      <td>c_4410</td>\n",
       "      <td>f</td>\n",
       "      <td>1967</td>\n",
       "      <td>1_395</td>\n",
       "      <td>2021-09-24 23:57:35.138518</td>\n",
       "      <td>s_94984</td>\n",
       "      <td>28.99</td>\n",
       "      <td>1</td>\n",
       "      <td>54</td>\n",
       "      <td>51+</td>\n",
       "    </tr>\n",
       "  </tbody>\n",
       "</table>\n",
       "</div>"
      ],
      "text/plain": [
       "  client_id sex  birth id_prod                       date session_id  price  \\\n",
       "0    c_4410   f   1967  0_1420 2021-03-22 22:31:25.825764    s_10092  11.53   \n",
       "1    c_4410   f   1967  0_1390 2021-09-24 23:35:40.652636    s_94984  19.37   \n",
       "2    c_4410   f   1967   1_483 2021-03-13 21:35:55.949042     s_5913  15.99   \n",
       "3    c_4410   f   1967   1_267 2021-09-24 23:15:59.919591    s_94984  27.99   \n",
       "4    c_4410   f   1967   1_395 2021-09-24 23:57:35.138518    s_94984  28.99   \n",
       "\n",
       "   categ  age classe_age  \n",
       "0      0   54        51+  \n",
       "1      0   54        51+  \n",
       "2      1   54        51+  \n",
       "3      1   54        51+  \n",
       "4      1   54        51+  "
      ]
     },
     "execution_count": 184,
     "metadata": {},
     "output_type": "execute_result"
    }
   ],
   "source": [
    "age_price.head()"
   ]
  },
  {
   "cell_type": "code",
   "execution_count": 190,
   "id": "a5f1fe63",
   "metadata": {},
   "outputs": [],
   "source": [
    "age_price = age_price.groupby(by=['client_id', 'classe_age']).sum()\n",
    "age_price = age_price.dropna().reset_index()"
   ]
  },
  {
   "cell_type": "code",
   "execution_count": 191,
   "id": "24f3a6d2",
   "metadata": {},
   "outputs": [
    {
     "data": {
      "text/html": [
       "<div>\n",
       "<style scoped>\n",
       "    .dataframe tbody tr th:only-of-type {\n",
       "        vertical-align: middle;\n",
       "    }\n",
       "\n",
       "    .dataframe tbody tr th {\n",
       "        vertical-align: top;\n",
       "    }\n",
       "\n",
       "    .dataframe thead th {\n",
       "        text-align: right;\n",
       "    }\n",
       "</style>\n",
       "<table border=\"1\" class=\"dataframe\">\n",
       "  <thead>\n",
       "    <tr style=\"text-align: right;\">\n",
       "      <th></th>\n",
       "      <th>client_id</th>\n",
       "      <th>classe_age</th>\n",
       "      <th>birth</th>\n",
       "      <th>price</th>\n",
       "      <th>categ</th>\n",
       "      <th>age</th>\n",
       "    </tr>\n",
       "  </thead>\n",
       "  <tbody>\n",
       "    <tr>\n",
       "      <th>0</th>\n",
       "      <td>c_1</td>\n",
       "      <td>51+</td>\n",
       "      <td>37145</td>\n",
       "      <td>292.66</td>\n",
       "      <td>6</td>\n",
       "      <td>1254</td>\n",
       "    </tr>\n",
       "    <tr>\n",
       "      <th>1</th>\n",
       "      <td>c_10</td>\n",
       "      <td>51+</td>\n",
       "      <td>54768</td>\n",
       "      <td>586.18</td>\n",
       "      <td>19</td>\n",
       "      <td>1820</td>\n",
       "    </tr>\n",
       "    <tr>\n",
       "      <th>2</th>\n",
       "      <td>c_100</td>\n",
       "      <td>17-30</td>\n",
       "      <td>11952</td>\n",
       "      <td>222.87</td>\n",
       "      <td>5</td>\n",
       "      <td>174</td>\n",
       "    </tr>\n",
       "    <tr>\n",
       "      <th>3</th>\n",
       "      <td>c_1000</td>\n",
       "      <td>51+</td>\n",
       "      <td>104198</td>\n",
       "      <td>928.05</td>\n",
       "      <td>34</td>\n",
       "      <td>2915</td>\n",
       "    </tr>\n",
       "    <tr>\n",
       "      <th>4</th>\n",
       "      <td>c_1001</td>\n",
       "      <td>30-50</td>\n",
       "      <td>101082</td>\n",
       "      <td>1001.54</td>\n",
       "      <td>16</td>\n",
       "      <td>1989</td>\n",
       "    </tr>\n",
       "    <tr>\n",
       "      <th>...</th>\n",
       "      <td>...</td>\n",
       "      <td>...</td>\n",
       "      <td>...</td>\n",
       "      <td>...</td>\n",
       "      <td>...</td>\n",
       "      <td>...</td>\n",
       "    </tr>\n",
       "    <tr>\n",
       "      <th>8589</th>\n",
       "      <td>c_995</td>\n",
       "      <td>51+</td>\n",
       "      <td>15640</td>\n",
       "      <td>119.08</td>\n",
       "      <td>3</td>\n",
       "      <td>528</td>\n",
       "    </tr>\n",
       "    <tr>\n",
       "      <th>8590</th>\n",
       "      <td>c_996</td>\n",
       "      <td>51+</td>\n",
       "      <td>80770</td>\n",
       "      <td>725.61</td>\n",
       "      <td>25</td>\n",
       "      <td>2091</td>\n",
       "    </tr>\n",
       "    <tr>\n",
       "      <th>8591</th>\n",
       "      <td>c_997</td>\n",
       "      <td>17-30</td>\n",
       "      <td>43868</td>\n",
       "      <td>514.90</td>\n",
       "      <td>17</td>\n",
       "      <td>594</td>\n",
       "    </tr>\n",
       "    <tr>\n",
       "      <th>8592</th>\n",
       "      <td>c_998</td>\n",
       "      <td>17-30</td>\n",
       "      <td>56028</td>\n",
       "      <td>1527.69</td>\n",
       "      <td>36</td>\n",
       "      <td>560</td>\n",
       "    </tr>\n",
       "    <tr>\n",
       "      <th>8593</th>\n",
       "      <td>c_999</td>\n",
       "      <td>51+</td>\n",
       "      <td>39280</td>\n",
       "      <td>285.03</td>\n",
       "      <td>11</td>\n",
       "      <td>1140</td>\n",
       "    </tr>\n",
       "  </tbody>\n",
       "</table>\n",
       "<p>8594 rows × 6 columns</p>\n",
       "</div>"
      ],
      "text/plain": [
       "     client_id classe_age   birth    price  categ   age\n",
       "0          c_1        51+   37145   292.66      6  1254\n",
       "1         c_10        51+   54768   586.18     19  1820\n",
       "2        c_100      17-30   11952   222.87      5   174\n",
       "3       c_1000        51+  104198   928.05     34  2915\n",
       "4       c_1001      30-50  101082  1001.54     16  1989\n",
       "...        ...        ...     ...      ...    ...   ...\n",
       "8589     c_995        51+   15640   119.08      3   528\n",
       "8590     c_996        51+   80770   725.61     25  2091\n",
       "8591     c_997      17-30   43868   514.90     17   594\n",
       "8592     c_998      17-30   56028  1527.69     36   560\n",
       "8593     c_999        51+   39280   285.03     11  1140\n",
       "\n",
       "[8594 rows x 6 columns]"
      ]
     },
     "execution_count": 191,
     "metadata": {},
     "output_type": "execute_result"
    }
   ],
   "source": [
    "age_price"
   ]
  },
  {
   "cell_type": "code",
   "execution_count": 213,
   "id": "f1eb5f96",
   "metadata": {},
   "outputs": [
    {
     "data": {
      "image/png": "[encoded data removed]",
      "text/plain": [
       "<Figure size 720x720 with 1 Axes>"
      ]
     },
     "metadata": {
      "needs_background": "light"
     },
     "output_type": "display_data"
    }
   ],
   "source": [
    "sns.set_palette('Set1')\n",
    "plt.figure(figsize=[10,10])\n",
    "\n",
    "sns.boxplot(x='classe_age', y='price', data=age_price)\n",
    "plt.ylabel('Montant des achats')\n",
    "plt.title(\"Montant des achats en fonction de la classe d'age clients\")\n",
    "plt.show()\n"
   ]
  },
  {
   "cell_type": "code",
   "execution_count": 193,
   "id": "57d7bbed",
   "metadata": {},
   "outputs": [
    {
     "data": {
      "text/plain": [
       "0.06985561877830126"
      ]
     },
     "execution_count": 193,
     "metadata": {},
     "output_type": "execute_result"
    }
   ],
   "source": [
    "X = \"classe_age\" \n",
    "Y = \"price\"\n",
    "\n",
    "def eta_squared(x,y):\n",
    "    moyenne_y = y.mean()\n",
    "    classes = []\n",
    "    for classe in x.unique():\n",
    "        yi_classe = y[x==classe]\n",
    "        classes.append({'ni': len(yi_classe),\n",
    "                        'moyenne_classe': yi_classe.mean()})\n",
    "    SCT = sum([(yj-moyenne_y)**2 for yj in y])\n",
    "    SCE = sum([c['ni']*(c['moyenne_classe']-moyenne_y)**2 for c in classes])\n",
    "    return SCE/SCT\n",
    "    \n",
    "eta_squared(age_price[X],age_price[Y])"
   ]
  },
  {
   "cell_type": "code",
   "execution_count": 194,
   "id": "2a7d67f7",
   "metadata": {},
   "outputs": [],
   "source": [
    "#Le coefficient eta² montre une forte corrélation entre la classe d'âge et le montant total des achats.\n",
    "#Les clients de la tranche d'âge 30-50 ans ont tendance à dépenser plus que les clients des deux autres tranches d'âge."
   ]
  },
  {
   "cell_type": "markdown",
   "id": "4c93e90d",
   "metadata": {},
   "source": [
    "# Y a-t-il une corrélation entre l'âge des clients et La fréquence d’achat (ie. nombre d'achats par mois par exemple) ?"
   ]
  },
  {
   "cell_type": "code",
   "execution_count": 195,
   "id": "8bf277bb",
   "metadata": {},
   "outputs": [],
   "source": [
    "age_frequence=df1.groupby('age').count().reset_index()"
   ]
  },
  {
   "cell_type": "code",
   "execution_count": 196,
   "id": "b51fa1a2",
   "metadata": {},
   "outputs": [],
   "source": [
    "age_frequence=age_frequence[['age','session_id']].sort_values('age', ascending=False )"
   ]
  },
  {
   "cell_type": "code",
   "execution_count": 197,
   "id": "afa4fa93",
   "metadata": {},
   "outputs": [],
   "source": [
    "age_frequence.loc[((age_frequence['age']>16) & (age_frequence['age']<= 30)),'classe_age']='17-30'\n",
    "age_frequence.loc[((age_frequence['age']>30) & (age_frequence['age']<= 50)),'classe_age']='30-50'\n",
    "age_frequence.loc[((age_frequence['age']>=51)),'classe_age']='51+'\n"
   ]
  },
  {
   "cell_type": "code",
   "execution_count": 198,
   "id": "a55cde91",
   "metadata": {},
   "outputs": [
    {
     "data": {
      "text/html": [
       "<div>\n",
       "<style scoped>\n",
       "    .dataframe tbody tr th:only-of-type {\n",
       "        vertical-align: middle;\n",
       "    }\n",
       "\n",
       "    .dataframe tbody tr th {\n",
       "        vertical-align: top;\n",
       "    }\n",
       "\n",
       "    .dataframe thead th {\n",
       "        text-align: right;\n",
       "    }\n",
       "</style>\n",
       "<table border=\"1\" class=\"dataframe\">\n",
       "  <thead>\n",
       "    <tr style=\"text-align: right;\">\n",
       "      <th></th>\n",
       "      <th>age</th>\n",
       "      <th>session_id</th>\n",
       "      <th>classe_age</th>\n",
       "    </tr>\n",
       "  </thead>\n",
       "  <tbody>\n",
       "    <tr>\n",
       "      <th>75</th>\n",
       "      <td>92</td>\n",
       "      <td>84</td>\n",
       "      <td>51+</td>\n",
       "    </tr>\n",
       "    <tr>\n",
       "      <th>74</th>\n",
       "      <td>91</td>\n",
       "      <td>111</td>\n",
       "      <td>51+</td>\n",
       "    </tr>\n",
       "    <tr>\n",
       "      <th>73</th>\n",
       "      <td>90</td>\n",
       "      <td>78</td>\n",
       "      <td>51+</td>\n",
       "    </tr>\n",
       "    <tr>\n",
       "      <th>72</th>\n",
       "      <td>89</td>\n",
       "      <td>141</td>\n",
       "      <td>51+</td>\n",
       "    </tr>\n",
       "    <tr>\n",
       "      <th>71</th>\n",
       "      <td>88</td>\n",
       "      <td>150</td>\n",
       "      <td>51+</td>\n",
       "    </tr>\n",
       "  </tbody>\n",
       "</table>\n",
       "</div>"
      ],
      "text/plain": [
       "    age  session_id classe_age\n",
       "75   92          84        51+\n",
       "74   91         111        51+\n",
       "73   90          78        51+\n",
       "72   89         141        51+\n",
       "71   88         150        51+"
      ]
     },
     "execution_count": 198,
     "metadata": {},
     "output_type": "execute_result"
    }
   ],
   "source": [
    "age_frequence.head()"
   ]
  },
  {
   "cell_type": "code",
   "execution_count": 199,
   "id": "8af6f52f",
   "metadata": {},
   "outputs": [],
   "source": [
    "age_frequence['f']=age_frequence['session_id']/age_frequence['session_id'].sum()"
   ]
  },
  {
   "cell_type": "code",
   "execution_count": 200,
   "id": "bdfedbce",
   "metadata": {},
   "outputs": [
    {
     "data": {
      "text/html": [
       "<div>\n",
       "<style scoped>\n",
       "    .dataframe tbody tr th:only-of-type {\n",
       "        vertical-align: middle;\n",
       "    }\n",
       "\n",
       "    .dataframe tbody tr th {\n",
       "        vertical-align: top;\n",
       "    }\n",
       "\n",
       "    .dataframe thead th {\n",
       "        text-align: right;\n",
       "    }\n",
       "</style>\n",
       "<table border=\"1\" class=\"dataframe\">\n",
       "  <thead>\n",
       "    <tr style=\"text-align: right;\">\n",
       "      <th></th>\n",
       "      <th>age</th>\n",
       "      <th>session_id</th>\n",
       "      <th>classe_age</th>\n",
       "      <th>f</th>\n",
       "    </tr>\n",
       "  </thead>\n",
       "  <tbody>\n",
       "    <tr>\n",
       "      <th>75</th>\n",
       "      <td>92</td>\n",
       "      <td>84</td>\n",
       "      <td>51+</td>\n",
       "      <td>0.000287</td>\n",
       "    </tr>\n",
       "    <tr>\n",
       "      <th>74</th>\n",
       "      <td>91</td>\n",
       "      <td>111</td>\n",
       "      <td>51+</td>\n",
       "      <td>0.000380</td>\n",
       "    </tr>\n",
       "    <tr>\n",
       "      <th>73</th>\n",
       "      <td>90</td>\n",
       "      <td>78</td>\n",
       "      <td>51+</td>\n",
       "      <td>0.000267</td>\n",
       "    </tr>\n",
       "    <tr>\n",
       "      <th>72</th>\n",
       "      <td>89</td>\n",
       "      <td>141</td>\n",
       "      <td>51+</td>\n",
       "      <td>0.000482</td>\n",
       "    </tr>\n",
       "    <tr>\n",
       "      <th>71</th>\n",
       "      <td>88</td>\n",
       "      <td>150</td>\n",
       "      <td>51+</td>\n",
       "      <td>0.000513</td>\n",
       "    </tr>\n",
       "    <tr>\n",
       "      <th>...</th>\n",
       "      <td>...</td>\n",
       "      <td>...</td>\n",
       "      <td>...</td>\n",
       "      <td>...</td>\n",
       "    </tr>\n",
       "    <tr>\n",
       "      <th>4</th>\n",
       "      <td>21</td>\n",
       "      <td>2054</td>\n",
       "      <td>17-30</td>\n",
       "      <td>0.007027</td>\n",
       "    </tr>\n",
       "    <tr>\n",
       "      <th>3</th>\n",
       "      <td>20</td>\n",
       "      <td>1936</td>\n",
       "      <td>17-30</td>\n",
       "      <td>0.006624</td>\n",
       "    </tr>\n",
       "    <tr>\n",
       "      <th>2</th>\n",
       "      <td>19</td>\n",
       "      <td>2087</td>\n",
       "      <td>17-30</td>\n",
       "      <td>0.007140</td>\n",
       "    </tr>\n",
       "    <tr>\n",
       "      <th>1</th>\n",
       "      <td>18</td>\n",
       "      <td>2048</td>\n",
       "      <td>17-30</td>\n",
       "      <td>0.007007</td>\n",
       "    </tr>\n",
       "    <tr>\n",
       "      <th>0</th>\n",
       "      <td>17</td>\n",
       "      <td>6951</td>\n",
       "      <td>17-30</td>\n",
       "      <td>0.023782</td>\n",
       "    </tr>\n",
       "  </tbody>\n",
       "</table>\n",
       "<p>76 rows × 4 columns</p>\n",
       "</div>"
      ],
      "text/plain": [
       "    age  session_id classe_age         f\n",
       "75   92          84        51+  0.000287\n",
       "74   91         111        51+  0.000380\n",
       "73   90          78        51+  0.000267\n",
       "72   89         141        51+  0.000482\n",
       "71   88         150        51+  0.000513\n",
       "..  ...         ...        ...       ...\n",
       "4    21        2054      17-30  0.007027\n",
       "3    20        1936      17-30  0.006624\n",
       "2    19        2087      17-30  0.007140\n",
       "1    18        2048      17-30  0.007007\n",
       "0    17        6951      17-30  0.023782\n",
       "\n",
       "[76 rows x 4 columns]"
      ]
     },
     "execution_count": 200,
     "metadata": {},
     "output_type": "execute_result"
    }
   ],
   "source": [
    "age_frequence"
   ]
  },
  {
   "cell_type": "code",
   "execution_count": 201,
   "id": "30aecac8",
   "metadata": {},
   "outputs": [
    {
     "data": {
      "image/png": "[encoded data removed]",
      "text/plain": [
       "<Figure size 1080x1080 with 1 Axes>"
      ]
     },
     "metadata": {
      "needs_background": "light"
     },
     "output_type": "display_data"
    }
   ],
   "source": [
    "plt.figure(figsize=[15,15])\n",
    "\n",
    "sns.boxplot(x='classe_age', y='f', data=age_frequence)\n",
    "plt.ylabel(\"Fréquence d'achats\")\n",
    "plt.title(\"Fréquence d'achats  fonction de la classe d'âge\")\n",
    "\n",
    "\n",
    "plt.show()"
   ]
  },
  {
   "cell_type": "code",
   "execution_count": 202,
   "id": "77041ae4",
   "metadata": {},
   "outputs": [
    {
     "data": {
      "text/plain": [
       "0.7925021513061684"
      ]
     },
     "execution_count": 202,
     "metadata": {},
     "output_type": "execute_result"
    }
   ],
   "source": [
    "X = \"classe_age\" # qualitative\n",
    "Y = \"f\" # quantitative\n",
    "\n",
    "\n",
    "def eta_squared(x,y):\n",
    "    moyenne_y = y.mean()\n",
    "    classes = []\n",
    "    for classe in x.unique():\n",
    "        yi_classe = y[x==classe]\n",
    "        classes.append({'ni': len(yi_classe),\n",
    "                        'moyenne_classe': yi_classe.mean()})\n",
    "    SCT = sum([(yj-moyenne_y)**2 for yj in y])\n",
    "    SCE = sum([c['ni']*(c['moyenne_classe']-moyenne_y)**2 for c in classes])\n",
    "    return SCE/SCT\n",
    "    \n",
    "eta_squared(age_frequence[X],age_frequence[Y])\n"
   ]
  },
  {
   "cell_type": "code",
   "execution_count": 203,
   "id": "540193d5",
   "metadata": {},
   "outputs": [],
   "source": [
    "#le coefficient eta carré de notre Anova montre une forte corrélation entre la fréquence d'achat et la classe d'age "
   ]
  },
  {
   "cell_type": "markdown",
   "id": "45332637",
   "metadata": {},
   "source": [
    "# Y a-t-il une corrélation entre l'âge des clients et La taille du panier moyen (en nombre d’articles) ?"
   ]
  },
  {
   "cell_type": "code",
   "execution_count": 204,
   "id": "760fb241",
   "metadata": {},
   "outputs": [],
   "source": [
    "\n",
    "\n",
    "age_panier=df1.groupby(['age','session_id']).count().reset_index()\n",
    "\n",
    "\n",
    "\n",
    "age_panier.loc[((age_panier['age']>16) & (age_panier['age']<= 30)),'classe_age']='17-30'\n",
    "age_panier.loc[((age_panier['age']>30) & (age_panier['age']<= 50)),'classe_age']='30-50'\n",
    "age_panier.loc[((age_panier['age']>=51)),'classe_age']='51+'\n"
   ]
  },
  {
   "cell_type": "code",
   "execution_count": 205,
   "id": "ef7d810a",
   "metadata": {},
   "outputs": [
    {
     "data": {
      "text/html": [
       "<div>\n",
       "<style scoped>\n",
       "    .dataframe tbody tr th:only-of-type {\n",
       "        vertical-align: middle;\n",
       "    }\n",
       "\n",
       "    .dataframe tbody tr th {\n",
       "        vertical-align: top;\n",
       "    }\n",
       "\n",
       "    .dataframe thead th {\n",
       "        text-align: right;\n",
       "    }\n",
       "</style>\n",
       "<table border=\"1\" class=\"dataframe\">\n",
       "  <thead>\n",
       "    <tr style=\"text-align: right;\">\n",
       "      <th></th>\n",
       "      <th>classe_age</th>\n",
       "      <th>panier_moyen</th>\n",
       "    </tr>\n",
       "  </thead>\n",
       "  <tbody>\n",
       "    <tr>\n",
       "      <th>146542</th>\n",
       "      <td>51+</td>\n",
       "      <td>1</td>\n",
       "    </tr>\n",
       "    <tr>\n",
       "      <th>146543</th>\n",
       "      <td>51+</td>\n",
       "      <td>4</td>\n",
       "    </tr>\n",
       "    <tr>\n",
       "      <th>146544</th>\n",
       "      <td>51+</td>\n",
       "      <td>1</td>\n",
       "    </tr>\n",
       "    <tr>\n",
       "      <th>146545</th>\n",
       "      <td>51+</td>\n",
       "      <td>2</td>\n",
       "    </tr>\n",
       "    <tr>\n",
       "      <th>146546</th>\n",
       "      <td>51+</td>\n",
       "      <td>5</td>\n",
       "    </tr>\n",
       "  </tbody>\n",
       "</table>\n",
       "</div>"
      ],
      "text/plain": [
       "       classe_age  panier_moyen\n",
       "146542        51+             1\n",
       "146543        51+             4\n",
       "146544        51+             1\n",
       "146545        51+             2\n",
       "146546        51+             5"
      ]
     },
     "execution_count": 205,
     "metadata": {},
     "output_type": "execute_result"
    }
   ],
   "source": [
    "#Seconde agrégation \n",
    "\n",
    "age_panier = age_panier[['classe_age', 'id_prod']]\n",
    "age_panier.rename(columns={'id_prod': 'panier_moyen'}, inplace=True)\n",
    "age_panier.tail()"
   ]
  },
  {
   "cell_type": "code",
   "execution_count": 206,
   "id": "0a31dc1e",
   "metadata": {},
   "outputs": [
    {
     "data": {
      "image/png": "[encoded data removed]",
      "text/plain": [
       "<Figure size 720x720 with 1 Axes>"
      ]
     },
     "metadata": {
      "needs_background": "light"
     },
     "output_type": "display_data"
    }
   ],
   "source": [
    "\n",
    "plt.figure(figsize=[10,10])\n",
    "\n",
    "sns.boxplot(x='classe_age', y='panier_moyen', data=age_panier,palette=\"Set1\")\n",
    "plt.ylabel(\"Nombre d'articles dans le panier moyen\")\n",
    "plt.title(\"Nombre d'articles dans le panier moyen en fonction de la classe d'âge\")\n",
    "\n",
    "plt.show()\n"
   ]
  },
  {
   "cell_type": "code",
   "execution_count": 207,
   "id": "1086f778",
   "metadata": {},
   "outputs": [
    {
     "data": {
      "text/plain": [
       "0.11064348686029199"
      ]
     },
     "execution_count": 207,
     "metadata": {},
     "output_type": "execute_result"
    }
   ],
   "source": [
    "X = \"classe_age\" # qualitative\n",
    "Y = \"panier_moyen\" # quantitative\n",
    "\n",
    "\n",
    "def eta_squared(x,y):\n",
    "    moyenne_y = y.mean()\n",
    "    classes = []\n",
    "    for classe in x.unique():\n",
    "        yi_classe = y[x==classe]\n",
    "        classes.append({'ni': len(yi_classe),\n",
    "                        'moyenne_classe': yi_classe.mean()})\n",
    "    SCT = sum([(yj-moyenne_y)**2 for yj in y])\n",
    "    SCE = sum([c['ni']*(c['moyenne_classe']-moyenne_y)**2 for c in classes])\n",
    "    return SCE/SCT\n",
    "    \n",
    "eta_squared(age_panier[X],age_panier[Y])"
   ]
  },
  {
   "cell_type": "code",
   "execution_count": 208,
   "id": "6853e647",
   "metadata": {},
   "outputs": [],
   "source": [
    "#Le coefficient eta² montre une corrélation moyenne entre les deux variables.\n",
    "#On peut distinguer que les client de la tranche d'age 30-50 ont un plus gros panier moyen"
   ]
  },
  {
   "cell_type": "markdown",
   "id": "d27c998c",
   "metadata": {},
   "source": [
    "# Analyse de la corrélation entre l'âge clients et la catégorie produits"
   ]
  },
  {
   "cell_type": "code",
   "execution_count": 209,
   "id": "390e1cf5",
   "metadata": {},
   "outputs": [],
   "source": [
    "X =\"categ\"\n",
    "Y = \"age\""
   ]
  },
  {
   "cell_type": "code",
   "execution_count": 210,
   "id": "9f72194c",
   "metadata": {},
   "outputs": [
    {
     "data": {
      "image/png": "[encoded data removed]",
      "text/plain": [
       "<Figure size 432x288 with 1 Axes>"
      ]
     },
     "metadata": {
      "needs_background": "light"
     },
     "output_type": "display_data"
    }
   ],
   "source": [
    "modalites = df1[X].unique()\n",
    "groupes = []\n",
    "for m in modalites:\n",
    "    groupes.append(df1[df1[X]==m][Y])\n",
    "\n",
    "# Propriétés graphiques (pas très importantes)    \n",
    "medianprops = {'color':\"black\"}\n",
    "meanprops = {'marker':'o', 'markeredgecolor':'black',\n",
    "            'markerfacecolor':'firebrick'}\n",
    "    \n",
    "#plt.boxplot(groupes, labels=modalites, showfliers=False, medianprops=medianprops, \n",
    "            #vert=False, patch_artist=True, showmeans=True, meanprops=meanprops)\n",
    "sns.boxplot(x='categ', y='age', data=df1,palette=\"Set1\")\n",
    "plt.ylabel('Age des clients')\n",
    "plt.title(\"Montant total des achats en fonction de l'âge\")\n",
    "\n",
    "plt.show()"
   ]
  },
  {
   "cell_type": "code",
   "execution_count": 211,
   "id": "39c46597",
   "metadata": {},
   "outputs": [
    {
     "data": {
      "text/plain": [
       "0.11263070078655023"
      ]
     },
     "execution_count": 211,
     "metadata": {},
     "output_type": "execute_result"
    }
   ],
   "source": [
    "X = \"categ\" # qualitative\n",
    "Y = \"age\" # quantitative\n",
    "\n",
    "\n",
    "\n",
    "def eta_squared(x,y):\n",
    "    moyenne_y = y.mean()\n",
    "    classes = []\n",
    "    for classe in x.unique():\n",
    "        yi_classe = y[x==classe]\n",
    "        classes.append({'ni': len(yi_classe),\n",
    "                        'moyenne_classe': yi_classe.mean()})\n",
    "    SCT = sum([(yj-moyenne_y)**2 for yj in y])\n",
    "    SCE = sum([c['ni']*(c['moyenne_classe']-moyenne_y)**2 for c in classes])\n",
    "    return SCE/SCT\n",
    "    \n",
    "eta_squared(df1[X],df1[Y])"
   ]
  },
  {
   "cell_type": "code",
   "execution_count": 212,
   "id": "2ec77b9e",
   "metadata": {},
   "outputs": [],
   "source": [
    "#Le coefficient eta² montre une corrélation moyenne entre l'âge des clients et la catégorie d'achat. \n",
    "#Les clients les plus jeunes vont essentiellement se tourner vers l'achat de catégorie 2"
   ]
  },
  {
   "cell_type": "code",
   "execution_count": null,
   "id": "99d9f4d9",
   "metadata": {},
   "outputs": [],
   "source": []
  },
  {
   "cell_type": "code",
   "execution_count": null,
   "id": "3468f33f",
   "metadata": {},
   "outputs": [],
   "source": []
  }
 ],
 "metadata": {
  "kernelspec": {
   "display_name": "Python 3",
   "language": "python",
   "name": "python3"
  },
  "language_info": {
   "codemirror_mode": {
    "name": "ipython",
    "version": 3
   },
   "file_extension": ".py",
   "mimetype": "text/x-python",
   "name": "python",
   "nbconvert_exporter": "python",
   "pygments_lexer": "ipython3",
   "version": "3.8.8"
  }
 },
 "nbformat": 4,
 "nbformat_minor": 5
}
